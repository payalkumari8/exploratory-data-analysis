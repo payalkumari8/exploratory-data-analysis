{
 "cells": [
  {
   "cell_type": "markdown",
   "id": "8b75e6a5",
   "metadata": {},
   "source": [
    " # US Accidents  - Exploratory Data Analysis (EDA)\n",
    "      "
   ]
  },
  {
   "cell_type": "code",
   "execution_count": 69,
   "id": "1ea0cb1d",
   "metadata": {},
   "outputs": [],
   "source": [
    "#installing opendatasets library for downloading datasets from Kaggle"
   ]
  },
  {
   "cell_type": "code",
   "execution_count": 70,
   "id": "799adabe",
   "metadata": {},
   "outputs": [
    {
     "name": "stdout",
     "output_type": "stream",
     "text": [
      "Requirement already satisfied: opendatasets in c:\\users\\gaura\\anaconda3\\lib\\site-packages (0.1.20)\n",
      "Requirement already satisfied: click in c:\\users\\gaura\\anaconda3\\lib\\site-packages (from opendatasets) (7.1.2)\n",
      "Requirement already satisfied: tqdm in c:\\users\\gaura\\anaconda3\\lib\\site-packages (from opendatasets) (4.59.0)\n",
      "Requirement already satisfied: kaggle in c:\\users\\gaura\\anaconda3\\lib\\site-packages (from opendatasets) (1.5.12)\n",
      "Requirement already satisfied: certifi in c:\\users\\gaura\\anaconda3\\lib\\site-packages (from kaggle->opendatasets) (2020.12.5)\n",
      "Requirement already satisfied: python-slugify in c:\\users\\gaura\\anaconda3\\lib\\site-packages (from kaggle->opendatasets) (5.0.2)\n",
      "Requirement already satisfied: six>=1.10 in c:\\users\\gaura\\anaconda3\\lib\\site-packages (from kaggle->opendatasets) (1.15.0)\n",
      "Requirement already satisfied: requests in c:\\users\\gaura\\anaconda3\\lib\\site-packages (from kaggle->opendatasets) (2.26.0)\n",
      "Requirement already satisfied: urllib3 in c:\\users\\gaura\\anaconda3\\lib\\site-packages (from kaggle->opendatasets) (1.26.4)\n",
      "Requirement already satisfied: python-dateutil in c:\\users\\gaura\\anaconda3\\lib\\site-packages (from kaggle->opendatasets) (2.8.1)\n",
      "Requirement already satisfied: text-unidecode>=1.3 in c:\\users\\gaura\\anaconda3\\lib\\site-packages (from python-slugify->kaggle->opendatasets) (1.3)\n",
      "Requirement already satisfied: charset-normalizer~=2.0.0 in c:\\users\\gaura\\anaconda3\\lib\\site-packages (from requests->kaggle->opendatasets) (2.0.6)\n",
      "Requirement already satisfied: idna<4,>=2.5 in c:\\users\\gaura\\anaconda3\\lib\\site-packages (from requests->kaggle->opendatasets) (2.10)\n",
      "Note: you may need to restart the kernel to use updated packages.\n"
     ]
    }
   ],
   "source": [
    "!pip install opendatasets --upgrade "
   ]
  },
  {
   "cell_type": "code",
   "execution_count": 71,
   "id": "698fd948",
   "metadata": {},
   "outputs": [],
   "source": [
    "#donwlaoding a datasets"
   ]
  },
  {
   "cell_type": "code",
   "execution_count": 72,
   "id": "3d5d30b6",
   "metadata": {},
   "outputs": [
    {
     "name": "stdout",
     "output_type": "stream",
     "text": [
      "Skipping, found downloaded files in \".\\us-accidents\" (use force=True to force download)\n"
     ]
    }
   ],
   "source": [
    "import opendatasets as od\n",
    "download_url = 'https://www.kaggle.com/sobhanmoosavi/us-accidents'\n",
    "\n",
    "od.download(download_url)\n"
   ]
  },
  {
   "cell_type": "code",
   "execution_count": 73,
   "id": "273bf622",
   "metadata": {},
   "outputs": [],
   "source": [
    "data_filename = './us-accidents/US_Accidents_Dec20_updated.csv'\n"
   ]
  },
  {
   "cell_type": "code",
   "execution_count": 74,
   "id": "649a12e6",
   "metadata": {},
   "outputs": [],
   "source": [
    "## Data Preparation and Cleaning \n",
    "#1. Load the file using Pandas\n",
    "#2. Look at some information about the data & the columns\n",
    "#3. Fix any missing or incoorect values"
   ]
  },
  {
   "cell_type": "code",
   "execution_count": 75,
   "id": "2594442c",
   "metadata": {},
   "outputs": [],
   "source": [
    "import pandas as pd"
   ]
  },
  {
   "cell_type": "code",
   "execution_count": 76,
   "id": "78f73350",
   "metadata": {},
   "outputs": [
    {
     "data": {
      "text/html": [
       "<div>\n",
       "<style scoped>\n",
       "    .dataframe tbody tr th:only-of-type {\n",
       "        vertical-align: middle;\n",
       "    }\n",
       "\n",
       "    .dataframe tbody tr th {\n",
       "        vertical-align: top;\n",
       "    }\n",
       "\n",
       "    .dataframe thead th {\n",
       "        text-align: right;\n",
       "    }\n",
       "</style>\n",
       "<table border=\"1\" class=\"dataframe\">\n",
       "  <thead>\n",
       "    <tr style=\"text-align: right;\">\n",
       "      <th></th>\n",
       "      <th>ID</th>\n",
       "      <th>Severity</th>\n",
       "      <th>Start_Time</th>\n",
       "      <th>End_Time</th>\n",
       "      <th>Start_Lat</th>\n",
       "      <th>Start_Lng</th>\n",
       "      <th>End_Lat</th>\n",
       "      <th>End_Lng</th>\n",
       "      <th>Distance(mi)</th>\n",
       "      <th>Description</th>\n",
       "      <th>...</th>\n",
       "      <th>Roundabout</th>\n",
       "      <th>Station</th>\n",
       "      <th>Stop</th>\n",
       "      <th>Traffic_Calming</th>\n",
       "      <th>Traffic_Signal</th>\n",
       "      <th>Turning_Loop</th>\n",
       "      <th>Sunrise_Sunset</th>\n",
       "      <th>Civil_Twilight</th>\n",
       "      <th>Nautical_Twilight</th>\n",
       "      <th>Astronomical_Twilight</th>\n",
       "    </tr>\n",
       "  </thead>\n",
       "  <tbody>\n",
       "    <tr>\n",
       "      <th>0</th>\n",
       "      <td>A-2716600</td>\n",
       "      <td>3</td>\n",
       "      <td>2016-02-08 00:37:08</td>\n",
       "      <td>2016-02-08 06:37:08</td>\n",
       "      <td>40.10891</td>\n",
       "      <td>-83.09286</td>\n",
       "      <td>40.11206</td>\n",
       "      <td>-83.03187</td>\n",
       "      <td>3.230</td>\n",
       "      <td>Between Sawmill Rd/Exit 20 and OH-315/Olentang...</td>\n",
       "      <td>...</td>\n",
       "      <td>False</td>\n",
       "      <td>False</td>\n",
       "      <td>False</td>\n",
       "      <td>False</td>\n",
       "      <td>False</td>\n",
       "      <td>False</td>\n",
       "      <td>Night</td>\n",
       "      <td>Night</td>\n",
       "      <td>Night</td>\n",
       "      <td>Night</td>\n",
       "    </tr>\n",
       "    <tr>\n",
       "      <th>1</th>\n",
       "      <td>A-2716601</td>\n",
       "      <td>2</td>\n",
       "      <td>2016-02-08 05:56:20</td>\n",
       "      <td>2016-02-08 11:56:20</td>\n",
       "      <td>39.86542</td>\n",
       "      <td>-84.06280</td>\n",
       "      <td>39.86501</td>\n",
       "      <td>-84.04873</td>\n",
       "      <td>0.747</td>\n",
       "      <td>At OH-4/OH-235/Exit 41 - Accident.</td>\n",
       "      <td>...</td>\n",
       "      <td>False</td>\n",
       "      <td>False</td>\n",
       "      <td>False</td>\n",
       "      <td>False</td>\n",
       "      <td>False</td>\n",
       "      <td>False</td>\n",
       "      <td>Night</td>\n",
       "      <td>Night</td>\n",
       "      <td>Night</td>\n",
       "      <td>Night</td>\n",
       "    </tr>\n",
       "    <tr>\n",
       "      <th>2</th>\n",
       "      <td>A-2716602</td>\n",
       "      <td>2</td>\n",
       "      <td>2016-02-08 06:15:39</td>\n",
       "      <td>2016-02-08 12:15:39</td>\n",
       "      <td>39.10266</td>\n",
       "      <td>-84.52468</td>\n",
       "      <td>39.10209</td>\n",
       "      <td>-84.52396</td>\n",
       "      <td>0.055</td>\n",
       "      <td>At I-71/US-50/Exit 1 - Accident.</td>\n",
       "      <td>...</td>\n",
       "      <td>False</td>\n",
       "      <td>False</td>\n",
       "      <td>False</td>\n",
       "      <td>False</td>\n",
       "      <td>False</td>\n",
       "      <td>False</td>\n",
       "      <td>Night</td>\n",
       "      <td>Night</td>\n",
       "      <td>Night</td>\n",
       "      <td>Day</td>\n",
       "    </tr>\n",
       "    <tr>\n",
       "      <th>3</th>\n",
       "      <td>A-2716603</td>\n",
       "      <td>2</td>\n",
       "      <td>2016-02-08 06:15:39</td>\n",
       "      <td>2016-02-08 12:15:39</td>\n",
       "      <td>39.10148</td>\n",
       "      <td>-84.52341</td>\n",
       "      <td>39.09841</td>\n",
       "      <td>-84.52241</td>\n",
       "      <td>0.219</td>\n",
       "      <td>At I-71/US-50/Exit 1 - Accident.</td>\n",
       "      <td>...</td>\n",
       "      <td>False</td>\n",
       "      <td>False</td>\n",
       "      <td>False</td>\n",
       "      <td>False</td>\n",
       "      <td>False</td>\n",
       "      <td>False</td>\n",
       "      <td>Night</td>\n",
       "      <td>Night</td>\n",
       "      <td>Night</td>\n",
       "      <td>Day</td>\n",
       "    </tr>\n",
       "    <tr>\n",
       "      <th>4</th>\n",
       "      <td>A-2716604</td>\n",
       "      <td>2</td>\n",
       "      <td>2016-02-08 06:51:45</td>\n",
       "      <td>2016-02-08 12:51:45</td>\n",
       "      <td>41.06213</td>\n",
       "      <td>-81.53784</td>\n",
       "      <td>41.06217</td>\n",
       "      <td>-81.53547</td>\n",
       "      <td>0.123</td>\n",
       "      <td>At Dart Ave/Exit 21 - Accident.</td>\n",
       "      <td>...</td>\n",
       "      <td>False</td>\n",
       "      <td>False</td>\n",
       "      <td>False</td>\n",
       "      <td>False</td>\n",
       "      <td>False</td>\n",
       "      <td>False</td>\n",
       "      <td>Night</td>\n",
       "      <td>Night</td>\n",
       "      <td>Day</td>\n",
       "      <td>Day</td>\n",
       "    </tr>\n",
       "    <tr>\n",
       "      <th>...</th>\n",
       "      <td>...</td>\n",
       "      <td>...</td>\n",
       "      <td>...</td>\n",
       "      <td>...</td>\n",
       "      <td>...</td>\n",
       "      <td>...</td>\n",
       "      <td>...</td>\n",
       "      <td>...</td>\n",
       "      <td>...</td>\n",
       "      <td>...</td>\n",
       "      <td>...</td>\n",
       "      <td>...</td>\n",
       "      <td>...</td>\n",
       "      <td>...</td>\n",
       "      <td>...</td>\n",
       "      <td>...</td>\n",
       "      <td>...</td>\n",
       "      <td>...</td>\n",
       "      <td>...</td>\n",
       "      <td>...</td>\n",
       "      <td>...</td>\n",
       "    </tr>\n",
       "    <tr>\n",
       "      <th>1516059</th>\n",
       "      <td>A-4239402</td>\n",
       "      <td>2</td>\n",
       "      <td>2019-08-23 18:03:25</td>\n",
       "      <td>2019-08-23 18:32:01</td>\n",
       "      <td>34.00248</td>\n",
       "      <td>-117.37936</td>\n",
       "      <td>33.99888</td>\n",
       "      <td>-117.37094</td>\n",
       "      <td>0.543</td>\n",
       "      <td>At Market St - Accident.</td>\n",
       "      <td>...</td>\n",
       "      <td>False</td>\n",
       "      <td>False</td>\n",
       "      <td>False</td>\n",
       "      <td>False</td>\n",
       "      <td>False</td>\n",
       "      <td>False</td>\n",
       "      <td>Day</td>\n",
       "      <td>Day</td>\n",
       "      <td>Day</td>\n",
       "      <td>Day</td>\n",
       "    </tr>\n",
       "    <tr>\n",
       "      <th>1516060</th>\n",
       "      <td>A-4239403</td>\n",
       "      <td>2</td>\n",
       "      <td>2019-08-23 19:11:30</td>\n",
       "      <td>2019-08-23 19:38:23</td>\n",
       "      <td>32.76696</td>\n",
       "      <td>-117.14806</td>\n",
       "      <td>32.76555</td>\n",
       "      <td>-117.15363</td>\n",
       "      <td>0.338</td>\n",
       "      <td>At Camino Del Rio/Mission Center Rd - Accident.</td>\n",
       "      <td>...</td>\n",
       "      <td>False</td>\n",
       "      <td>False</td>\n",
       "      <td>False</td>\n",
       "      <td>False</td>\n",
       "      <td>False</td>\n",
       "      <td>False</td>\n",
       "      <td>Day</td>\n",
       "      <td>Day</td>\n",
       "      <td>Day</td>\n",
       "      <td>Day</td>\n",
       "    </tr>\n",
       "    <tr>\n",
       "      <th>1516061</th>\n",
       "      <td>A-4239404</td>\n",
       "      <td>2</td>\n",
       "      <td>2019-08-23 19:00:21</td>\n",
       "      <td>2019-08-23 19:28:49</td>\n",
       "      <td>33.77545</td>\n",
       "      <td>-117.84779</td>\n",
       "      <td>33.77740</td>\n",
       "      <td>-117.85727</td>\n",
       "      <td>0.561</td>\n",
       "      <td>At Glassell St/Grand Ave - Accident. in the ri...</td>\n",
       "      <td>...</td>\n",
       "      <td>False</td>\n",
       "      <td>False</td>\n",
       "      <td>False</td>\n",
       "      <td>False</td>\n",
       "      <td>False</td>\n",
       "      <td>False</td>\n",
       "      <td>Day</td>\n",
       "      <td>Day</td>\n",
       "      <td>Day</td>\n",
       "      <td>Day</td>\n",
       "    </tr>\n",
       "    <tr>\n",
       "      <th>1516062</th>\n",
       "      <td>A-4239405</td>\n",
       "      <td>2</td>\n",
       "      <td>2019-08-23 19:00:21</td>\n",
       "      <td>2019-08-23 19:29:42</td>\n",
       "      <td>33.99246</td>\n",
       "      <td>-118.40302</td>\n",
       "      <td>33.98311</td>\n",
       "      <td>-118.39565</td>\n",
       "      <td>0.772</td>\n",
       "      <td>At CA-90/Marina Fwy/Jefferson Blvd - Accident.</td>\n",
       "      <td>...</td>\n",
       "      <td>False</td>\n",
       "      <td>False</td>\n",
       "      <td>False</td>\n",
       "      <td>False</td>\n",
       "      <td>False</td>\n",
       "      <td>False</td>\n",
       "      <td>Day</td>\n",
       "      <td>Day</td>\n",
       "      <td>Day</td>\n",
       "      <td>Day</td>\n",
       "    </tr>\n",
       "    <tr>\n",
       "      <th>1516063</th>\n",
       "      <td>A-4239406</td>\n",
       "      <td>2</td>\n",
       "      <td>2019-08-23 18:52:06</td>\n",
       "      <td>2019-08-23 19:21:31</td>\n",
       "      <td>34.13393</td>\n",
       "      <td>-117.23092</td>\n",
       "      <td>34.13736</td>\n",
       "      <td>-117.23934</td>\n",
       "      <td>0.537</td>\n",
       "      <td>At Highland Ave/Arden Ave - Accident.</td>\n",
       "      <td>...</td>\n",
       "      <td>False</td>\n",
       "      <td>False</td>\n",
       "      <td>False</td>\n",
       "      <td>False</td>\n",
       "      <td>False</td>\n",
       "      <td>False</td>\n",
       "      <td>Day</td>\n",
       "      <td>Day</td>\n",
       "      <td>Day</td>\n",
       "      <td>Day</td>\n",
       "    </tr>\n",
       "  </tbody>\n",
       "</table>\n",
       "<p>1516064 rows × 47 columns</p>\n",
       "</div>"
      ],
      "text/plain": [
       "                ID  Severity           Start_Time             End_Time  \\\n",
       "0        A-2716600         3  2016-02-08 00:37:08  2016-02-08 06:37:08   \n",
       "1        A-2716601         2  2016-02-08 05:56:20  2016-02-08 11:56:20   \n",
       "2        A-2716602         2  2016-02-08 06:15:39  2016-02-08 12:15:39   \n",
       "3        A-2716603         2  2016-02-08 06:15:39  2016-02-08 12:15:39   \n",
       "4        A-2716604         2  2016-02-08 06:51:45  2016-02-08 12:51:45   \n",
       "...            ...       ...                  ...                  ...   \n",
       "1516059  A-4239402         2  2019-08-23 18:03:25  2019-08-23 18:32:01   \n",
       "1516060  A-4239403         2  2019-08-23 19:11:30  2019-08-23 19:38:23   \n",
       "1516061  A-4239404         2  2019-08-23 19:00:21  2019-08-23 19:28:49   \n",
       "1516062  A-4239405         2  2019-08-23 19:00:21  2019-08-23 19:29:42   \n",
       "1516063  A-4239406         2  2019-08-23 18:52:06  2019-08-23 19:21:31   \n",
       "\n",
       "         Start_Lat  Start_Lng   End_Lat    End_Lng  Distance(mi)  \\\n",
       "0         40.10891  -83.09286  40.11206  -83.03187         3.230   \n",
       "1         39.86542  -84.06280  39.86501  -84.04873         0.747   \n",
       "2         39.10266  -84.52468  39.10209  -84.52396         0.055   \n",
       "3         39.10148  -84.52341  39.09841  -84.52241         0.219   \n",
       "4         41.06213  -81.53784  41.06217  -81.53547         0.123   \n",
       "...            ...        ...       ...        ...           ...   \n",
       "1516059   34.00248 -117.37936  33.99888 -117.37094         0.543   \n",
       "1516060   32.76696 -117.14806  32.76555 -117.15363         0.338   \n",
       "1516061   33.77545 -117.84779  33.77740 -117.85727         0.561   \n",
       "1516062   33.99246 -118.40302  33.98311 -118.39565         0.772   \n",
       "1516063   34.13393 -117.23092  34.13736 -117.23934         0.537   \n",
       "\n",
       "                                               Description  ...  Roundabout  \\\n",
       "0        Between Sawmill Rd/Exit 20 and OH-315/Olentang...  ...       False   \n",
       "1                       At OH-4/OH-235/Exit 41 - Accident.  ...       False   \n",
       "2                         At I-71/US-50/Exit 1 - Accident.  ...       False   \n",
       "3                         At I-71/US-50/Exit 1 - Accident.  ...       False   \n",
       "4                          At Dart Ave/Exit 21 - Accident.  ...       False   \n",
       "...                                                    ...  ...         ...   \n",
       "1516059                           At Market St - Accident.  ...       False   \n",
       "1516060    At Camino Del Rio/Mission Center Rd - Accident.  ...       False   \n",
       "1516061  At Glassell St/Grand Ave - Accident. in the ri...  ...       False   \n",
       "1516062     At CA-90/Marina Fwy/Jefferson Blvd - Accident.  ...       False   \n",
       "1516063              At Highland Ave/Arden Ave - Accident.  ...       False   \n",
       "\n",
       "        Station   Stop Traffic_Calming Traffic_Signal Turning_Loop  \\\n",
       "0         False  False           False          False        False   \n",
       "1         False  False           False          False        False   \n",
       "2         False  False           False          False        False   \n",
       "3         False  False           False          False        False   \n",
       "4         False  False           False          False        False   \n",
       "...         ...    ...             ...            ...          ...   \n",
       "1516059   False  False           False          False        False   \n",
       "1516060   False  False           False          False        False   \n",
       "1516061   False  False           False          False        False   \n",
       "1516062   False  False           False          False        False   \n",
       "1516063   False  False           False          False        False   \n",
       "\n",
       "        Sunrise_Sunset Civil_Twilight Nautical_Twilight Astronomical_Twilight  \n",
       "0                Night          Night             Night                 Night  \n",
       "1                Night          Night             Night                 Night  \n",
       "2                Night          Night             Night                   Day  \n",
       "3                Night          Night             Night                   Day  \n",
       "4                Night          Night               Day                   Day  \n",
       "...                ...            ...               ...                   ...  \n",
       "1516059            Day            Day               Day                   Day  \n",
       "1516060            Day            Day               Day                   Day  \n",
       "1516061            Day            Day               Day                   Day  \n",
       "1516062            Day            Day               Day                   Day  \n",
       "1516063            Day            Day               Day                   Day  \n",
       "\n",
       "[1516064 rows x 47 columns]"
      ]
     },
     "execution_count": 76,
     "metadata": {},
     "output_type": "execute_result"
    }
   ],
   "source": [
    "#read the csvfile \n",
    "df = pd.read_csv(data_filename)\n",
    "df"
   ]
  },
  {
   "cell_type": "code",
   "execution_count": 77,
   "id": "df4e137a",
   "metadata": {},
   "outputs": [
    {
     "data": {
      "text/plain": [
       "Index(['ID', 'Severity', 'Start_Time', 'End_Time', 'Start_Lat', 'Start_Lng',\n",
       "       'End_Lat', 'End_Lng', 'Distance(mi)', 'Description', 'Number', 'Street',\n",
       "       'Side', 'City', 'County', 'State', 'Zipcode', 'Country', 'Timezone',\n",
       "       'Airport_Code', 'Weather_Timestamp', 'Temperature(F)', 'Wind_Chill(F)',\n",
       "       'Humidity(%)', 'Pressure(in)', 'Visibility(mi)', 'Wind_Direction',\n",
       "       'Wind_Speed(mph)', 'Precipitation(in)', 'Weather_Condition', 'Amenity',\n",
       "       'Bump', 'Crossing', 'Give_Way', 'Junction', 'No_Exit', 'Railway',\n",
       "       'Roundabout', 'Station', 'Stop', 'Traffic_Calming', 'Traffic_Signal',\n",
       "       'Turning_Loop', 'Sunrise_Sunset', 'Civil_Twilight', 'Nautical_Twilight',\n",
       "       'Astronomical_Twilight'],\n",
       "      dtype='object')"
      ]
     },
     "execution_count": 77,
     "metadata": {},
     "output_type": "execute_result"
    }
   ],
   "source": [
    "# looking at some information about the data and the columns\n",
    "df.columns"
   ]
  },
  {
   "cell_type": "code",
   "execution_count": 78,
   "id": "de1d58d8",
   "metadata": {},
   "outputs": [
    {
     "data": {
      "text/plain": [
       "47"
      ]
     },
     "execution_count": 78,
     "metadata": {},
     "output_type": "execute_result"
    }
   ],
   "source": [
    "#number of columns\n",
    "len(df.columns)"
   ]
  },
  {
   "cell_type": "code",
   "execution_count": 79,
   "id": "75cc2e7d",
   "metadata": {},
   "outputs": [
    {
     "data": {
      "text/plain": [
       "1516064"
      ]
     },
     "execution_count": 79,
     "metadata": {},
     "output_type": "execute_result"
    }
   ],
   "source": [
    "#number of rows\n",
    "len(df)"
   ]
  },
  {
   "cell_type": "code",
   "execution_count": 80,
   "id": "4537214a",
   "metadata": {},
   "outputs": [
    {
     "name": "stdout",
     "output_type": "stream",
     "text": [
      "<class 'pandas.core.frame.DataFrame'>\n",
      "RangeIndex: 1516064 entries, 0 to 1516063\n",
      "Data columns (total 47 columns):\n",
      " #   Column                 Non-Null Count    Dtype  \n",
      "---  ------                 --------------    -----  \n",
      " 0   ID                     1516064 non-null  object \n",
      " 1   Severity               1516064 non-null  int64  \n",
      " 2   Start_Time             1516064 non-null  object \n",
      " 3   End_Time               1516064 non-null  object \n",
      " 4   Start_Lat              1516064 non-null  float64\n",
      " 5   Start_Lng              1516064 non-null  float64\n",
      " 6   End_Lat                1516064 non-null  float64\n",
      " 7   End_Lng                1516064 non-null  float64\n",
      " 8   Distance(mi)           1516064 non-null  float64\n",
      " 9   Description            1516064 non-null  object \n",
      " 10  Number                 469969 non-null   float64\n",
      " 11  Street                 1516064 non-null  object \n",
      " 12  Side                   1516064 non-null  object \n",
      " 13  City                   1515981 non-null  object \n",
      " 14  County                 1516064 non-null  object \n",
      " 15  State                  1516064 non-null  object \n",
      " 16  Zipcode                1515129 non-null  object \n",
      " 17  Country                1516064 non-null  object \n",
      " 18  Timezone               1513762 non-null  object \n",
      " 19  Airport_Code           1511816 non-null  object \n",
      " 20  Weather_Timestamp      1485800 non-null  object \n",
      " 21  Temperature(F)         1473031 non-null  float64\n",
      " 22  Wind_Chill(F)          1066748 non-null  float64\n",
      " 23  Humidity(%)            1470555 non-null  float64\n",
      " 24  Pressure(in)           1479790 non-null  float64\n",
      " 25  Visibility(mi)         1471853 non-null  float64\n",
      " 26  Wind_Direction         1474206 non-null  object \n",
      " 27  Wind_Speed(mph)        1387202 non-null  float64\n",
      " 28  Precipitation(in)      1005515 non-null  float64\n",
      " 29  Weather_Condition      1472057 non-null  object \n",
      " 30  Amenity                1516064 non-null  bool   \n",
      " 31  Bump                   1516064 non-null  bool   \n",
      " 32  Crossing               1516064 non-null  bool   \n",
      " 33  Give_Way               1516064 non-null  bool   \n",
      " 34  Junction               1516064 non-null  bool   \n",
      " 35  No_Exit                1516064 non-null  bool   \n",
      " 36  Railway                1516064 non-null  bool   \n",
      " 37  Roundabout             1516064 non-null  bool   \n",
      " 38  Station                1516064 non-null  bool   \n",
      " 39  Stop                   1516064 non-null  bool   \n",
      " 40  Traffic_Calming        1516064 non-null  bool   \n",
      " 41  Traffic_Signal         1516064 non-null  bool   \n",
      " 42  Turning_Loop           1516064 non-null  bool   \n",
      " 43  Sunrise_Sunset         1515981 non-null  object \n",
      " 44  Civil_Twilight         1515981 non-null  object \n",
      " 45  Nautical_Twilight      1515981 non-null  object \n",
      " 46  Astronomical_Twilight  1515981 non-null  object \n",
      "dtypes: bool(13), float64(13), int64(1), object(20)\n",
      "memory usage: 412.1+ MB\n"
     ]
    }
   ],
   "source": [
    "#another way to look up\n",
    "df.info()"
   ]
  },
  {
   "cell_type": "code",
   "execution_count": 81,
   "id": "89651f25",
   "metadata": {},
   "outputs": [
    {
     "data": {
      "text/html": [
       "<div>\n",
       "<style scoped>\n",
       "    .dataframe tbody tr th:only-of-type {\n",
       "        vertical-align: middle;\n",
       "    }\n",
       "\n",
       "    .dataframe tbody tr th {\n",
       "        vertical-align: top;\n",
       "    }\n",
       "\n",
       "    .dataframe thead th {\n",
       "        text-align: right;\n",
       "    }\n",
       "</style>\n",
       "<table border=\"1\" class=\"dataframe\">\n",
       "  <thead>\n",
       "    <tr style=\"text-align: right;\">\n",
       "      <th></th>\n",
       "      <th>Severity</th>\n",
       "      <th>Start_Lat</th>\n",
       "      <th>Start_Lng</th>\n",
       "      <th>End_Lat</th>\n",
       "      <th>End_Lng</th>\n",
       "      <th>Distance(mi)</th>\n",
       "      <th>Number</th>\n",
       "      <th>Temperature(F)</th>\n",
       "      <th>Wind_Chill(F)</th>\n",
       "      <th>Humidity(%)</th>\n",
       "      <th>Pressure(in)</th>\n",
       "      <th>Visibility(mi)</th>\n",
       "      <th>Wind_Speed(mph)</th>\n",
       "      <th>Precipitation(in)</th>\n",
       "    </tr>\n",
       "  </thead>\n",
       "  <tbody>\n",
       "    <tr>\n",
       "      <th>count</th>\n",
       "      <td>1.516064e+06</td>\n",
       "      <td>1.516064e+06</td>\n",
       "      <td>1.516064e+06</td>\n",
       "      <td>1.516064e+06</td>\n",
       "      <td>1.516064e+06</td>\n",
       "      <td>1.516064e+06</td>\n",
       "      <td>4.699690e+05</td>\n",
       "      <td>1.473031e+06</td>\n",
       "      <td>1.066748e+06</td>\n",
       "      <td>1.470555e+06</td>\n",
       "      <td>1.479790e+06</td>\n",
       "      <td>1.471853e+06</td>\n",
       "      <td>1.387202e+06</td>\n",
       "      <td>1.005515e+06</td>\n",
       "    </tr>\n",
       "    <tr>\n",
       "      <th>mean</th>\n",
       "      <td>2.238630e+00</td>\n",
       "      <td>3.690056e+01</td>\n",
       "      <td>-9.859919e+01</td>\n",
       "      <td>3.690061e+01</td>\n",
       "      <td>-9.859901e+01</td>\n",
       "      <td>5.872617e-01</td>\n",
       "      <td>8.907533e+03</td>\n",
       "      <td>5.958460e+01</td>\n",
       "      <td>5.510976e+01</td>\n",
       "      <td>6.465960e+01</td>\n",
       "      <td>2.955495e+01</td>\n",
       "      <td>9.131755e+00</td>\n",
       "      <td>7.630812e+00</td>\n",
       "      <td>8.477855e-03</td>\n",
       "    </tr>\n",
       "    <tr>\n",
       "      <th>std</th>\n",
       "      <td>6.081481e-01</td>\n",
       "      <td>5.165653e+00</td>\n",
       "      <td>1.849602e+01</td>\n",
       "      <td>5.165629e+00</td>\n",
       "      <td>1.849590e+01</td>\n",
       "      <td>1.632659e+00</td>\n",
       "      <td>2.242190e+04</td>\n",
       "      <td>1.827316e+01</td>\n",
       "      <td>2.112735e+01</td>\n",
       "      <td>2.325986e+01</td>\n",
       "      <td>1.016756e+00</td>\n",
       "      <td>2.889112e+00</td>\n",
       "      <td>5.637364e+00</td>\n",
       "      <td>1.293168e-01</td>\n",
       "    </tr>\n",
       "    <tr>\n",
       "      <th>min</th>\n",
       "      <td>1.000000e+00</td>\n",
       "      <td>2.457022e+01</td>\n",
       "      <td>-1.244976e+02</td>\n",
       "      <td>2.457011e+01</td>\n",
       "      <td>-1.244978e+02</td>\n",
       "      <td>0.000000e+00</td>\n",
       "      <td>0.000000e+00</td>\n",
       "      <td>-8.900000e+01</td>\n",
       "      <td>-8.900000e+01</td>\n",
       "      <td>1.000000e+00</td>\n",
       "      <td>0.000000e+00</td>\n",
       "      <td>0.000000e+00</td>\n",
       "      <td>0.000000e+00</td>\n",
       "      <td>0.000000e+00</td>\n",
       "    </tr>\n",
       "    <tr>\n",
       "      <th>25%</th>\n",
       "      <td>2.000000e+00</td>\n",
       "      <td>3.385422e+01</td>\n",
       "      <td>-1.182076e+02</td>\n",
       "      <td>3.385420e+01</td>\n",
       "      <td>-1.182077e+02</td>\n",
       "      <td>0.000000e+00</td>\n",
       "      <td>1.212000e+03</td>\n",
       "      <td>4.700000e+01</td>\n",
       "      <td>4.080000e+01</td>\n",
       "      <td>4.800000e+01</td>\n",
       "      <td>2.944000e+01</td>\n",
       "      <td>1.000000e+01</td>\n",
       "      <td>4.600000e+00</td>\n",
       "      <td>0.000000e+00</td>\n",
       "    </tr>\n",
       "    <tr>\n",
       "      <th>50%</th>\n",
       "      <td>2.000000e+00</td>\n",
       "      <td>3.735113e+01</td>\n",
       "      <td>-9.438100e+01</td>\n",
       "      <td>3.735134e+01</td>\n",
       "      <td>-9.437987e+01</td>\n",
       "      <td>1.780000e-01</td>\n",
       "      <td>4.000000e+03</td>\n",
       "      <td>6.100000e+01</td>\n",
       "      <td>5.700000e+01</td>\n",
       "      <td>6.800000e+01</td>\n",
       "      <td>2.988000e+01</td>\n",
       "      <td>1.000000e+01</td>\n",
       "      <td>7.000000e+00</td>\n",
       "      <td>0.000000e+00</td>\n",
       "    </tr>\n",
       "    <tr>\n",
       "      <th>75%</th>\n",
       "      <td>2.000000e+00</td>\n",
       "      <td>4.072593e+01</td>\n",
       "      <td>-8.087469e+01</td>\n",
       "      <td>4.072593e+01</td>\n",
       "      <td>-8.087449e+01</td>\n",
       "      <td>5.940000e-01</td>\n",
       "      <td>1.010000e+04</td>\n",
       "      <td>7.300000e+01</td>\n",
       "      <td>7.100000e+01</td>\n",
       "      <td>8.400000e+01</td>\n",
       "      <td>3.004000e+01</td>\n",
       "      <td>1.000000e+01</td>\n",
       "      <td>1.040000e+01</td>\n",
       "      <td>0.000000e+00</td>\n",
       "    </tr>\n",
       "    <tr>\n",
       "      <th>max</th>\n",
       "      <td>4.000000e+00</td>\n",
       "      <td>4.900058e+01</td>\n",
       "      <td>-6.711317e+01</td>\n",
       "      <td>4.907500e+01</td>\n",
       "      <td>-6.710924e+01</td>\n",
       "      <td>1.551860e+02</td>\n",
       "      <td>9.999997e+06</td>\n",
       "      <td>1.706000e+02</td>\n",
       "      <td>1.130000e+02</td>\n",
       "      <td>1.000000e+02</td>\n",
       "      <td>5.804000e+01</td>\n",
       "      <td>1.400000e+02</td>\n",
       "      <td>9.840000e+02</td>\n",
       "      <td>2.400000e+01</td>\n",
       "    </tr>\n",
       "  </tbody>\n",
       "</table>\n",
       "</div>"
      ],
      "text/plain": [
       "           Severity     Start_Lat     Start_Lng       End_Lat       End_Lng  \\\n",
       "count  1.516064e+06  1.516064e+06  1.516064e+06  1.516064e+06  1.516064e+06   \n",
       "mean   2.238630e+00  3.690056e+01 -9.859919e+01  3.690061e+01 -9.859901e+01   \n",
       "std    6.081481e-01  5.165653e+00  1.849602e+01  5.165629e+00  1.849590e+01   \n",
       "min    1.000000e+00  2.457022e+01 -1.244976e+02  2.457011e+01 -1.244978e+02   \n",
       "25%    2.000000e+00  3.385422e+01 -1.182076e+02  3.385420e+01 -1.182077e+02   \n",
       "50%    2.000000e+00  3.735113e+01 -9.438100e+01  3.735134e+01 -9.437987e+01   \n",
       "75%    2.000000e+00  4.072593e+01 -8.087469e+01  4.072593e+01 -8.087449e+01   \n",
       "max    4.000000e+00  4.900058e+01 -6.711317e+01  4.907500e+01 -6.710924e+01   \n",
       "\n",
       "       Distance(mi)        Number  Temperature(F)  Wind_Chill(F)  \\\n",
       "count  1.516064e+06  4.699690e+05    1.473031e+06   1.066748e+06   \n",
       "mean   5.872617e-01  8.907533e+03    5.958460e+01   5.510976e+01   \n",
       "std    1.632659e+00  2.242190e+04    1.827316e+01   2.112735e+01   \n",
       "min    0.000000e+00  0.000000e+00   -8.900000e+01  -8.900000e+01   \n",
       "25%    0.000000e+00  1.212000e+03    4.700000e+01   4.080000e+01   \n",
       "50%    1.780000e-01  4.000000e+03    6.100000e+01   5.700000e+01   \n",
       "75%    5.940000e-01  1.010000e+04    7.300000e+01   7.100000e+01   \n",
       "max    1.551860e+02  9.999997e+06    1.706000e+02   1.130000e+02   \n",
       "\n",
       "        Humidity(%)  Pressure(in)  Visibility(mi)  Wind_Speed(mph)  \\\n",
       "count  1.470555e+06  1.479790e+06    1.471853e+06     1.387202e+06   \n",
       "mean   6.465960e+01  2.955495e+01    9.131755e+00     7.630812e+00   \n",
       "std    2.325986e+01  1.016756e+00    2.889112e+00     5.637364e+00   \n",
       "min    1.000000e+00  0.000000e+00    0.000000e+00     0.000000e+00   \n",
       "25%    4.800000e+01  2.944000e+01    1.000000e+01     4.600000e+00   \n",
       "50%    6.800000e+01  2.988000e+01    1.000000e+01     7.000000e+00   \n",
       "75%    8.400000e+01  3.004000e+01    1.000000e+01     1.040000e+01   \n",
       "max    1.000000e+02  5.804000e+01    1.400000e+02     9.840000e+02   \n",
       "\n",
       "       Precipitation(in)  \n",
       "count       1.005515e+06  \n",
       "mean        8.477855e-03  \n",
       "std         1.293168e-01  \n",
       "min         0.000000e+00  \n",
       "25%         0.000000e+00  \n",
       "50%         0.000000e+00  \n",
       "75%         0.000000e+00  \n",
       "max         2.400000e+01  "
      ]
     },
     "execution_count": 81,
     "metadata": {},
     "output_type": "execute_result"
    }
   ],
   "source": [
    "# to get a data statistics\n",
    "df.describe()"
   ]
  },
  {
   "cell_type": "code",
   "execution_count": 82,
   "id": "e35bb0a7",
   "metadata": {},
   "outputs": [
    {
     "data": {
      "text/plain": [
       "14"
      ]
     },
     "execution_count": 82,
     "metadata": {},
     "output_type": "execute_result"
    }
   ],
   "source": [
    "#find number of numeric columns \n",
    "# in oder to see how much numeric data to work with .\n",
    "numerics = ['int16', 'int32', 'int64', 'float16', 'float32', 'float64']\n",
    "\n",
    "numeric_df = df.select_dtypes(include=numerics)\n",
    "len(numeric_df.columns)"
   ]
  },
  {
   "cell_type": "code",
   "execution_count": 83,
   "id": "5912e774",
   "metadata": {},
   "outputs": [
    {
     "data": {
      "text/html": [
       "<div>\n",
       "<style scoped>\n",
       "    .dataframe tbody tr th:only-of-type {\n",
       "        vertical-align: middle;\n",
       "    }\n",
       "\n",
       "    .dataframe tbody tr th {\n",
       "        vertical-align: top;\n",
       "    }\n",
       "\n",
       "    .dataframe thead th {\n",
       "        text-align: right;\n",
       "    }\n",
       "</style>\n",
       "<table border=\"1\" class=\"dataframe\">\n",
       "  <thead>\n",
       "    <tr style=\"text-align: right;\">\n",
       "      <th></th>\n",
       "      <th>ID</th>\n",
       "      <th>Severity</th>\n",
       "      <th>Start_Time</th>\n",
       "      <th>End_Time</th>\n",
       "      <th>Start_Lat</th>\n",
       "      <th>Start_Lng</th>\n",
       "      <th>End_Lat</th>\n",
       "      <th>End_Lng</th>\n",
       "      <th>Distance(mi)</th>\n",
       "      <th>Description</th>\n",
       "      <th>...</th>\n",
       "      <th>Roundabout</th>\n",
       "      <th>Station</th>\n",
       "      <th>Stop</th>\n",
       "      <th>Traffic_Calming</th>\n",
       "      <th>Traffic_Signal</th>\n",
       "      <th>Turning_Loop</th>\n",
       "      <th>Sunrise_Sunset</th>\n",
       "      <th>Civil_Twilight</th>\n",
       "      <th>Nautical_Twilight</th>\n",
       "      <th>Astronomical_Twilight</th>\n",
       "    </tr>\n",
       "  </thead>\n",
       "  <tbody>\n",
       "    <tr>\n",
       "      <th>0</th>\n",
       "      <td>False</td>\n",
       "      <td>False</td>\n",
       "      <td>False</td>\n",
       "      <td>False</td>\n",
       "      <td>False</td>\n",
       "      <td>False</td>\n",
       "      <td>False</td>\n",
       "      <td>False</td>\n",
       "      <td>False</td>\n",
       "      <td>False</td>\n",
       "      <td>...</td>\n",
       "      <td>False</td>\n",
       "      <td>False</td>\n",
       "      <td>False</td>\n",
       "      <td>False</td>\n",
       "      <td>False</td>\n",
       "      <td>False</td>\n",
       "      <td>False</td>\n",
       "      <td>False</td>\n",
       "      <td>False</td>\n",
       "      <td>False</td>\n",
       "    </tr>\n",
       "    <tr>\n",
       "      <th>1</th>\n",
       "      <td>False</td>\n",
       "      <td>False</td>\n",
       "      <td>False</td>\n",
       "      <td>False</td>\n",
       "      <td>False</td>\n",
       "      <td>False</td>\n",
       "      <td>False</td>\n",
       "      <td>False</td>\n",
       "      <td>False</td>\n",
       "      <td>False</td>\n",
       "      <td>...</td>\n",
       "      <td>False</td>\n",
       "      <td>False</td>\n",
       "      <td>False</td>\n",
       "      <td>False</td>\n",
       "      <td>False</td>\n",
       "      <td>False</td>\n",
       "      <td>False</td>\n",
       "      <td>False</td>\n",
       "      <td>False</td>\n",
       "      <td>False</td>\n",
       "    </tr>\n",
       "    <tr>\n",
       "      <th>2</th>\n",
       "      <td>False</td>\n",
       "      <td>False</td>\n",
       "      <td>False</td>\n",
       "      <td>False</td>\n",
       "      <td>False</td>\n",
       "      <td>False</td>\n",
       "      <td>False</td>\n",
       "      <td>False</td>\n",
       "      <td>False</td>\n",
       "      <td>False</td>\n",
       "      <td>...</td>\n",
       "      <td>False</td>\n",
       "      <td>False</td>\n",
       "      <td>False</td>\n",
       "      <td>False</td>\n",
       "      <td>False</td>\n",
       "      <td>False</td>\n",
       "      <td>False</td>\n",
       "      <td>False</td>\n",
       "      <td>False</td>\n",
       "      <td>False</td>\n",
       "    </tr>\n",
       "    <tr>\n",
       "      <th>3</th>\n",
       "      <td>False</td>\n",
       "      <td>False</td>\n",
       "      <td>False</td>\n",
       "      <td>False</td>\n",
       "      <td>False</td>\n",
       "      <td>False</td>\n",
       "      <td>False</td>\n",
       "      <td>False</td>\n",
       "      <td>False</td>\n",
       "      <td>False</td>\n",
       "      <td>...</td>\n",
       "      <td>False</td>\n",
       "      <td>False</td>\n",
       "      <td>False</td>\n",
       "      <td>False</td>\n",
       "      <td>False</td>\n",
       "      <td>False</td>\n",
       "      <td>False</td>\n",
       "      <td>False</td>\n",
       "      <td>False</td>\n",
       "      <td>False</td>\n",
       "    </tr>\n",
       "    <tr>\n",
       "      <th>4</th>\n",
       "      <td>False</td>\n",
       "      <td>False</td>\n",
       "      <td>False</td>\n",
       "      <td>False</td>\n",
       "      <td>False</td>\n",
       "      <td>False</td>\n",
       "      <td>False</td>\n",
       "      <td>False</td>\n",
       "      <td>False</td>\n",
       "      <td>False</td>\n",
       "      <td>...</td>\n",
       "      <td>False</td>\n",
       "      <td>False</td>\n",
       "      <td>False</td>\n",
       "      <td>False</td>\n",
       "      <td>False</td>\n",
       "      <td>False</td>\n",
       "      <td>False</td>\n",
       "      <td>False</td>\n",
       "      <td>False</td>\n",
       "      <td>False</td>\n",
       "    </tr>\n",
       "    <tr>\n",
       "      <th>...</th>\n",
       "      <td>...</td>\n",
       "      <td>...</td>\n",
       "      <td>...</td>\n",
       "      <td>...</td>\n",
       "      <td>...</td>\n",
       "      <td>...</td>\n",
       "      <td>...</td>\n",
       "      <td>...</td>\n",
       "      <td>...</td>\n",
       "      <td>...</td>\n",
       "      <td>...</td>\n",
       "      <td>...</td>\n",
       "      <td>...</td>\n",
       "      <td>...</td>\n",
       "      <td>...</td>\n",
       "      <td>...</td>\n",
       "      <td>...</td>\n",
       "      <td>...</td>\n",
       "      <td>...</td>\n",
       "      <td>...</td>\n",
       "      <td>...</td>\n",
       "    </tr>\n",
       "    <tr>\n",
       "      <th>1516059</th>\n",
       "      <td>False</td>\n",
       "      <td>False</td>\n",
       "      <td>False</td>\n",
       "      <td>False</td>\n",
       "      <td>False</td>\n",
       "      <td>False</td>\n",
       "      <td>False</td>\n",
       "      <td>False</td>\n",
       "      <td>False</td>\n",
       "      <td>False</td>\n",
       "      <td>...</td>\n",
       "      <td>False</td>\n",
       "      <td>False</td>\n",
       "      <td>False</td>\n",
       "      <td>False</td>\n",
       "      <td>False</td>\n",
       "      <td>False</td>\n",
       "      <td>False</td>\n",
       "      <td>False</td>\n",
       "      <td>False</td>\n",
       "      <td>False</td>\n",
       "    </tr>\n",
       "    <tr>\n",
       "      <th>1516060</th>\n",
       "      <td>False</td>\n",
       "      <td>False</td>\n",
       "      <td>False</td>\n",
       "      <td>False</td>\n",
       "      <td>False</td>\n",
       "      <td>False</td>\n",
       "      <td>False</td>\n",
       "      <td>False</td>\n",
       "      <td>False</td>\n",
       "      <td>False</td>\n",
       "      <td>...</td>\n",
       "      <td>False</td>\n",
       "      <td>False</td>\n",
       "      <td>False</td>\n",
       "      <td>False</td>\n",
       "      <td>False</td>\n",
       "      <td>False</td>\n",
       "      <td>False</td>\n",
       "      <td>False</td>\n",
       "      <td>False</td>\n",
       "      <td>False</td>\n",
       "    </tr>\n",
       "    <tr>\n",
       "      <th>1516061</th>\n",
       "      <td>False</td>\n",
       "      <td>False</td>\n",
       "      <td>False</td>\n",
       "      <td>False</td>\n",
       "      <td>False</td>\n",
       "      <td>False</td>\n",
       "      <td>False</td>\n",
       "      <td>False</td>\n",
       "      <td>False</td>\n",
       "      <td>False</td>\n",
       "      <td>...</td>\n",
       "      <td>False</td>\n",
       "      <td>False</td>\n",
       "      <td>False</td>\n",
       "      <td>False</td>\n",
       "      <td>False</td>\n",
       "      <td>False</td>\n",
       "      <td>False</td>\n",
       "      <td>False</td>\n",
       "      <td>False</td>\n",
       "      <td>False</td>\n",
       "    </tr>\n",
       "    <tr>\n",
       "      <th>1516062</th>\n",
       "      <td>False</td>\n",
       "      <td>False</td>\n",
       "      <td>False</td>\n",
       "      <td>False</td>\n",
       "      <td>False</td>\n",
       "      <td>False</td>\n",
       "      <td>False</td>\n",
       "      <td>False</td>\n",
       "      <td>False</td>\n",
       "      <td>False</td>\n",
       "      <td>...</td>\n",
       "      <td>False</td>\n",
       "      <td>False</td>\n",
       "      <td>False</td>\n",
       "      <td>False</td>\n",
       "      <td>False</td>\n",
       "      <td>False</td>\n",
       "      <td>False</td>\n",
       "      <td>False</td>\n",
       "      <td>False</td>\n",
       "      <td>False</td>\n",
       "    </tr>\n",
       "    <tr>\n",
       "      <th>1516063</th>\n",
       "      <td>False</td>\n",
       "      <td>False</td>\n",
       "      <td>False</td>\n",
       "      <td>False</td>\n",
       "      <td>False</td>\n",
       "      <td>False</td>\n",
       "      <td>False</td>\n",
       "      <td>False</td>\n",
       "      <td>False</td>\n",
       "      <td>False</td>\n",
       "      <td>...</td>\n",
       "      <td>False</td>\n",
       "      <td>False</td>\n",
       "      <td>False</td>\n",
       "      <td>False</td>\n",
       "      <td>False</td>\n",
       "      <td>False</td>\n",
       "      <td>False</td>\n",
       "      <td>False</td>\n",
       "      <td>False</td>\n",
       "      <td>False</td>\n",
       "    </tr>\n",
       "  </tbody>\n",
       "</table>\n",
       "<p>1516064 rows × 47 columns</p>\n",
       "</div>"
      ],
      "text/plain": [
       "            ID  Severity  Start_Time  End_Time  Start_Lat  Start_Lng  End_Lat  \\\n",
       "0        False     False       False     False      False      False    False   \n",
       "1        False     False       False     False      False      False    False   \n",
       "2        False     False       False     False      False      False    False   \n",
       "3        False     False       False     False      False      False    False   \n",
       "4        False     False       False     False      False      False    False   \n",
       "...        ...       ...         ...       ...        ...        ...      ...   \n",
       "1516059  False     False       False     False      False      False    False   \n",
       "1516060  False     False       False     False      False      False    False   \n",
       "1516061  False     False       False     False      False      False    False   \n",
       "1516062  False     False       False     False      False      False    False   \n",
       "1516063  False     False       False     False      False      False    False   \n",
       "\n",
       "         End_Lng  Distance(mi)  Description  ...  Roundabout  Station   Stop  \\\n",
       "0          False         False        False  ...       False    False  False   \n",
       "1          False         False        False  ...       False    False  False   \n",
       "2          False         False        False  ...       False    False  False   \n",
       "3          False         False        False  ...       False    False  False   \n",
       "4          False         False        False  ...       False    False  False   \n",
       "...          ...           ...          ...  ...         ...      ...    ...   \n",
       "1516059    False         False        False  ...       False    False  False   \n",
       "1516060    False         False        False  ...       False    False  False   \n",
       "1516061    False         False        False  ...       False    False  False   \n",
       "1516062    False         False        False  ...       False    False  False   \n",
       "1516063    False         False        False  ...       False    False  False   \n",
       "\n",
       "         Traffic_Calming  Traffic_Signal  Turning_Loop  Sunrise_Sunset  \\\n",
       "0                  False           False         False           False   \n",
       "1                  False           False         False           False   \n",
       "2                  False           False         False           False   \n",
       "3                  False           False         False           False   \n",
       "4                  False           False         False           False   \n",
       "...                  ...             ...           ...             ...   \n",
       "1516059            False           False         False           False   \n",
       "1516060            False           False         False           False   \n",
       "1516061            False           False         False           False   \n",
       "1516062            False           False         False           False   \n",
       "1516063            False           False         False           False   \n",
       "\n",
       "         Civil_Twilight  Nautical_Twilight  Astronomical_Twilight  \n",
       "0                 False              False                  False  \n",
       "1                 False              False                  False  \n",
       "2                 False              False                  False  \n",
       "3                 False              False                  False  \n",
       "4                 False              False                  False  \n",
       "...                 ...                ...                    ...  \n",
       "1516059           False              False                  False  \n",
       "1516060           False              False                  False  \n",
       "1516061           False              False                  False  \n",
       "1516062           False              False                  False  \n",
       "1516063           False              False                  False  \n",
       "\n",
       "[1516064 rows x 47 columns]"
      ]
     },
     "execution_count": 83,
     "metadata": {},
     "output_type": "execute_result"
    }
   ],
   "source": [
    "# find Missing values per column\n",
    "df.isna()\n"
   ]
  },
  {
   "cell_type": "code",
   "execution_count": 84,
   "id": "15b1f306",
   "metadata": {},
   "outputs": [
    {
     "data": {
      "text/plain": [
       "Number                   0.690007\n",
       "Precipitation(in)        0.336760\n",
       "Wind_Chill(F)            0.296370\n",
       "Wind_Speed(mph)          0.084998\n",
       "Humidity(%)              0.030018\n",
       "Visibility(mi)           0.029162\n",
       "Weather_Condition        0.029027\n",
       "Temperature(F)           0.028385\n",
       "Wind_Direction           0.027610\n",
       "Pressure(in)             0.023926\n",
       "Weather_Timestamp        0.019962\n",
       "Airport_Code             0.002802\n",
       "Timezone                 0.001518\n",
       "Zipcode                  0.000617\n",
       "Sunrise_Sunset           0.000055\n",
       "Civil_Twilight           0.000055\n",
       "Nautical_Twilight        0.000055\n",
       "Astronomical_Twilight    0.000055\n",
       "City                     0.000055\n",
       "Country                  0.000000\n",
       "Give_Way                 0.000000\n",
       "Start_Time               0.000000\n",
       "End_Time                 0.000000\n",
       "Start_Lat                0.000000\n",
       "Turning_Loop             0.000000\n",
       "Traffic_Signal           0.000000\n",
       "Traffic_Calming          0.000000\n",
       "Stop                     0.000000\n",
       "Station                  0.000000\n",
       "Roundabout               0.000000\n",
       "Railway                  0.000000\n",
       "No_Exit                  0.000000\n",
       "Junction                 0.000000\n",
       "Crossing                 0.000000\n",
       "State                    0.000000\n",
       "Bump                     0.000000\n",
       "Amenity                  0.000000\n",
       "Start_Lng                0.000000\n",
       "End_Lat                  0.000000\n",
       "End_Lng                  0.000000\n",
       "Distance(mi)             0.000000\n",
       "Description              0.000000\n",
       "Street                   0.000000\n",
       "Severity                 0.000000\n",
       "Side                     0.000000\n",
       "County                   0.000000\n",
       "ID                       0.000000\n",
       "dtype: float64"
      ]
     },
     "execution_count": 84,
     "metadata": {},
     "output_type": "execute_result"
    }
   ],
   "source": [
    "#Percentages of missing values per column\n",
    "missing_percentages = df.isna().sum().sort_values(ascending = False)/ len(df)\n",
    "missing_percentages"
   ]
  },
  {
   "cell_type": "code",
   "execution_count": 85,
   "id": "8b1b9779",
   "metadata": {},
   "outputs": [
    {
     "data": {
      "text/plain": [
       "Number                   0.690007\n",
       "Precipitation(in)        0.336760\n",
       "Wind_Chill(F)            0.296370\n",
       "Wind_Speed(mph)          0.084998\n",
       "Humidity(%)              0.030018\n",
       "Visibility(mi)           0.029162\n",
       "Weather_Condition        0.029027\n",
       "Temperature(F)           0.028385\n",
       "Wind_Direction           0.027610\n",
       "Pressure(in)             0.023926\n",
       "Weather_Timestamp        0.019962\n",
       "Airport_Code             0.002802\n",
       "Timezone                 0.001518\n",
       "Zipcode                  0.000617\n",
       "Sunrise_Sunset           0.000055\n",
       "Civil_Twilight           0.000055\n",
       "Nautical_Twilight        0.000055\n",
       "Astronomical_Twilight    0.000055\n",
       "City                     0.000055\n",
       "dtype: float64"
      ]
     },
     "execution_count": 85,
     "metadata": {},
     "output_type": "execute_result"
    }
   ],
   "source": [
    "# if we have a boolean series than use index to keep the column which have missing value\n",
    "missing_percentages[missing_percentages != 0]"
   ]
  },
  {
   "cell_type": "code",
   "execution_count": 86,
   "id": "ff2d3258",
   "metadata": {},
   "outputs": [
    {
     "data": {
      "text/plain": [
       "pandas.core.series.Series"
      ]
     },
     "execution_count": 86,
     "metadata": {},
     "output_type": "execute_result"
    }
   ],
   "source": [
    "#type- one colum from series(one column of data)\n",
    "type(missing_percentages)"
   ]
  },
  {
   "cell_type": "code",
   "execution_count": 87,
   "id": "17177ab7",
   "metadata": {},
   "outputs": [
    {
     "data": {
      "text/plain": [
       "<AxesSubplot:>"
      ]
     },
     "execution_count": 87,
     "metadata": {},
     "output_type": "execute_result"
    },
    {
     "data": {
      "image/png": "[encoded data removed]",
      "text/plain": [
       "<Figure size 432x288 with 1 Axes>"
      ]
     },
     "metadata": {},
     "output_type": "display_data"
    }
   ],
   "source": [
    "#plot a data\n",
    "missing_percentages[missing_percentages != 0].plot(kind = 'barh')"
   ]
  },
  {
   "cell_type": "code",
   "execution_count": 88,
   "id": "dfc39054",
   "metadata": {},
   "outputs": [
    {
     "data": {
      "text/plain": [
       "<bound method DataFrame.drop of                 ID  Severity           Start_Time             End_Time  \\\n",
       "0        A-2716600         3  2016-02-08 00:37:08  2016-02-08 06:37:08   \n",
       "1        A-2716601         2  2016-02-08 05:56:20  2016-02-08 11:56:20   \n",
       "2        A-2716602         2  2016-02-08 06:15:39  2016-02-08 12:15:39   \n",
       "3        A-2716603         2  2016-02-08 06:15:39  2016-02-08 12:15:39   \n",
       "4        A-2716604         2  2016-02-08 06:51:45  2016-02-08 12:51:45   \n",
       "...            ...       ...                  ...                  ...   \n",
       "1516059  A-4239402         2  2019-08-23 18:03:25  2019-08-23 18:32:01   \n",
       "1516060  A-4239403         2  2019-08-23 19:11:30  2019-08-23 19:38:23   \n",
       "1516061  A-4239404         2  2019-08-23 19:00:21  2019-08-23 19:28:49   \n",
       "1516062  A-4239405         2  2019-08-23 19:00:21  2019-08-23 19:29:42   \n",
       "1516063  A-4239406         2  2019-08-23 18:52:06  2019-08-23 19:21:31   \n",
       "\n",
       "         Start_Lat  Start_Lng   End_Lat    End_Lng  Distance(mi)  \\\n",
       "0         40.10891  -83.09286  40.11206  -83.03187         3.230   \n",
       "1         39.86542  -84.06280  39.86501  -84.04873         0.747   \n",
       "2         39.10266  -84.52468  39.10209  -84.52396         0.055   \n",
       "3         39.10148  -84.52341  39.09841  -84.52241         0.219   \n",
       "4         41.06213  -81.53784  41.06217  -81.53547         0.123   \n",
       "...            ...        ...       ...        ...           ...   \n",
       "1516059   34.00248 -117.37936  33.99888 -117.37094         0.543   \n",
       "1516060   32.76696 -117.14806  32.76555 -117.15363         0.338   \n",
       "1516061   33.77545 -117.84779  33.77740 -117.85727         0.561   \n",
       "1516062   33.99246 -118.40302  33.98311 -118.39565         0.772   \n",
       "1516063   34.13393 -117.23092  34.13736 -117.23934         0.537   \n",
       "\n",
       "                                               Description  ...  Roundabout  \\\n",
       "0        Between Sawmill Rd/Exit 20 and OH-315/Olentang...  ...       False   \n",
       "1                       At OH-4/OH-235/Exit 41 - Accident.  ...       False   \n",
       "2                         At I-71/US-50/Exit 1 - Accident.  ...       False   \n",
       "3                         At I-71/US-50/Exit 1 - Accident.  ...       False   \n",
       "4                          At Dart Ave/Exit 21 - Accident.  ...       False   \n",
       "...                                                    ...  ...         ...   \n",
       "1516059                           At Market St - Accident.  ...       False   \n",
       "1516060    At Camino Del Rio/Mission Center Rd - Accident.  ...       False   \n",
       "1516061  At Glassell St/Grand Ave - Accident. in the ri...  ...       False   \n",
       "1516062     At CA-90/Marina Fwy/Jefferson Blvd - Accident.  ...       False   \n",
       "1516063              At Highland Ave/Arden Ave - Accident.  ...       False   \n",
       "\n",
       "        Station   Stop Traffic_Calming Traffic_Signal Turning_Loop  \\\n",
       "0         False  False           False          False        False   \n",
       "1         False  False           False          False        False   \n",
       "2         False  False           False          False        False   \n",
       "3         False  False           False          False        False   \n",
       "4         False  False           False          False        False   \n",
       "...         ...    ...             ...            ...          ...   \n",
       "1516059   False  False           False          False        False   \n",
       "1516060   False  False           False          False        False   \n",
       "1516061   False  False           False          False        False   \n",
       "1516062   False  False           False          False        False   \n",
       "1516063   False  False           False          False        False   \n",
       "\n",
       "        Sunrise_Sunset Civil_Twilight Nautical_Twilight Astronomical_Twilight  \n",
       "0                Night          Night             Night                 Night  \n",
       "1                Night          Night             Night                 Night  \n",
       "2                Night          Night             Night                   Day  \n",
       "3                Night          Night             Night                   Day  \n",
       "4                Night          Night               Day                   Day  \n",
       "...                ...            ...               ...                   ...  \n",
       "1516059            Day            Day               Day                   Day  \n",
       "1516060            Day            Day               Day                   Day  \n",
       "1516061            Day            Day               Day                   Day  \n",
       "1516062            Day            Day               Day                   Day  \n",
       "1516063            Day            Day               Day                   Day  \n",
       "\n",
       "[1516064 rows x 47 columns]>"
      ]
     },
     "execution_count": 88,
     "metadata": {},
     "output_type": "execute_result"
    }
   ],
   "source": [
    "#remove columns that we dont want to use \n",
    "df.drop"
   ]
  },
  {
   "cell_type": "code",
   "execution_count": 89,
   "id": "aa636aae",
   "metadata": {},
   "outputs": [],
   "source": [
    "## Exploratory Data Analysis and Visualization\n",
    "#Columns to analyze:\n",
    "#1.city\n",
    "#2.Start time \n",
    "#3.Start Lat, Start Lng\n",
    "#4.Temperature \n",
    "#5.Weather conditions"
   ]
  },
  {
   "cell_type": "code",
   "execution_count": 90,
   "id": "08b635a8",
   "metadata": {},
   "outputs": [
    {
     "data": {
      "text/plain": [
       "Index(['ID', 'Severity', 'Start_Time', 'End_Time', 'Start_Lat', 'Start_Lng',\n",
       "       'End_Lat', 'End_Lng', 'Distance(mi)', 'Description', 'Number', 'Street',\n",
       "       'Side', 'City', 'County', 'State', 'Zipcode', 'Country', 'Timezone',\n",
       "       'Airport_Code', 'Weather_Timestamp', 'Temperature(F)', 'Wind_Chill(F)',\n",
       "       'Humidity(%)', 'Pressure(in)', 'Visibility(mi)', 'Wind_Direction',\n",
       "       'Wind_Speed(mph)', 'Precipitation(in)', 'Weather_Condition', 'Amenity',\n",
       "       'Bump', 'Crossing', 'Give_Way', 'Junction', 'No_Exit', 'Railway',\n",
       "       'Roundabout', 'Station', 'Stop', 'Traffic_Calming', 'Traffic_Signal',\n",
       "       'Turning_Loop', 'Sunrise_Sunset', 'Civil_Twilight', 'Nautical_Twilight',\n",
       "       'Astronomical_Twilight'],\n",
       "      dtype='object')"
      ]
     },
     "execution_count": 90,
     "metadata": {},
     "output_type": "execute_result"
    }
   ],
   "source": [
    "df.columns"
   ]
  },
  {
   "cell_type": "code",
   "execution_count": 91,
   "id": "bca6dc2f",
   "metadata": {},
   "outputs": [
    {
     "data": {
      "text/plain": [
       "0               Dublin\n",
       "1               Dayton\n",
       "2           Cincinnati\n",
       "3           Cincinnati\n",
       "4                Akron\n",
       "              ...     \n",
       "1516059      Riverside\n",
       "1516060      San Diego\n",
       "1516061         Orange\n",
       "1516062    Culver City\n",
       "1516063       Highland\n",
       "Name: City, Length: 1516064, dtype: object"
      ]
     },
     "execution_count": 91,
     "metadata": {},
     "output_type": "execute_result"
    }
   ],
   "source": [
    "#to get access to city column\n",
    "df.City"
   ]
  },
  {
   "cell_type": "code",
   "execution_count": 92,
   "id": "e5253226",
   "metadata": {},
   "outputs": [
    {
     "data": {
      "text/plain": [
       "10658"
      ]
     },
     "execution_count": 92,
     "metadata": {},
     "output_type": "execute_result"
    }
   ],
   "source": [
    "cities = df.City.unique()\n",
    "len(cities)"
   ]
  },
  {
   "cell_type": "code",
   "execution_count": 93,
   "id": "b3c50840",
   "metadata": {},
   "outputs": [
    {
     "data": {
      "text/plain": [
       "array(['Dublin', 'Dayton', 'Cincinnati', 'Akron', 'Williamsburg',\n",
       "       'Batavia', 'Cleveland', 'Lima', 'Westerville', 'Jamestown',\n",
       "       'Freeport', 'Columbus', 'Toledo', 'Roanoke', 'Ft Mitchell',\n",
       "       'Edinburgh', 'Fairborn', 'Shelbyville', 'Greensburg', 'Saint Paul',\n",
       "       'Parkersburg', 'Indianapolis', 'Dundee', 'Jeffersonville',\n",
       "       'Pittsburgh', 'Lewis Center', 'Dunkirk', 'Redkey', 'Milton',\n",
       "       'Willshire', 'Straughn', 'Cambridge Springs', 'Fremont',\n",
       "       'Louisville', 'South Charleston', 'Edinboro', 'Buckhannon',\n",
       "       'Lockbourne', 'Painesville', 'Washington', 'Dunbar', 'Angola',\n",
       "       'Edon', 'Medina', 'De Mossville', 'New Albany', 'Charleston',\n",
       "       'Fort Wayne', 'Burnsville', 'Bedford', 'Clarksville', 'Lakewood',\n",
       "       'Richfield', 'Sewickley', 'Independence', 'Westlake', 'Erlanger',\n",
       "       'Grove City', 'Monroe', 'West Middlesex', 'Gaston', 'Economy',\n",
       "       'Fairmount', 'Hagerstown', 'Walton', 'Crittenden', 'Coraopolis',\n",
       "       'Holland', 'Greenfield', 'Anderson', 'Englewood', 'Knightstown',\n",
       "       'Bentleyville', 'Memphis', 'Henryville', 'Kendallville', 'Avilla',\n",
       "       'Ohio City', 'Van Wert', 'Rocky River', 'Sturgis', 'Burr Oak',\n",
       "       'West Chester', 'Orient', 'Madison', 'Deputy', 'Keystone',\n",
       "       'Mercer', 'Bryant', 'Pennville', 'Kimbolton', 'Thornville',\n",
       "       'Wexford', 'Fishers', 'Noblesville', 'Macedonia', 'Youngstown',\n",
       "       'Fairdale', 'Sutton', 'Mount Sterling'], dtype=object)"
      ]
     },
     "execution_count": 93,
     "metadata": {},
     "output_type": "execute_result"
    }
   ],
   "source": [
    "cities[:100]"
   ]
  },
  {
   "cell_type": "code",
   "execution_count": 94,
   "id": "d0e0b898",
   "metadata": {},
   "outputs": [
    {
     "data": {
      "text/plain": [
       "Los Angeles    39984\n",
       "Miami          36233\n",
       "Charlotte      22203\n",
       "Houston        20843\n",
       "Dallas         19497\n",
       "               ...  \n",
       "Swiftwater         1\n",
       "Keytesville        1\n",
       "Hiltons            1\n",
       "Babb               1\n",
       "Searsmont          1\n",
       "Name: City, Length: 10657, dtype: int64"
      ]
     },
     "execution_count": 94,
     "metadata": {},
     "output_type": "execute_result"
    }
   ],
   "source": [
    "# finding number of accident in some of top cities\n",
    "#calcualte count of values in column\n",
    "cities_by_accident = df.City.value_counts()\n",
    "cities_by_accident"
   ]
  },
  {
   "cell_type": "code",
   "execution_count": 95,
   "id": "6b08e321",
   "metadata": {},
   "outputs": [
    {
     "data": {
      "text/plain": [
       "Los Angeles     39984\n",
       "Miami           36233\n",
       "Charlotte       22203\n",
       "Houston         20843\n",
       "Dallas          19497\n",
       "Sacramento      18431\n",
       "Orlando         16169\n",
       "Portland        14805\n",
       "San Diego       14090\n",
       "Minneapolis     12653\n",
       "Atlanta         11854\n",
       "Chicago         11507\n",
       "Saint Paul      10084\n",
       "Phoenix          9934\n",
       "Raleigh          9516\n",
       "San Jose         9362\n",
       "Richmond         8472\n",
       "Nashville        8381\n",
       "Riverside        8201\n",
       "Jacksonville     7815\n",
       "Name: City, dtype: int64"
      ]
     },
     "execution_count": 95,
     "metadata": {},
     "output_type": "execute_result"
    }
   ],
   "source": [
    "#top 10 \n",
    "cities_by_accident[:20]\n"
   ]
  },
  {
   "cell_type": "code",
   "execution_count": 96,
   "id": "a887b926",
   "metadata": {},
   "outputs": [
    {
     "data": {
      "text/plain": [
       "False"
      ]
     },
     "execution_count": 96,
     "metadata": {},
     "output_type": "execute_result"
    }
   ],
   "source": [
    "#check if value of column exist\n",
    "\"New York\" in df.City"
   ]
  },
  {
   "cell_type": "code",
   "execution_count": 97,
   "id": "04a6d6c5",
   "metadata": {},
   "outputs": [
    {
     "data": {
      "text/plain": [
       "False"
      ]
     },
     "execution_count": 97,
     "metadata": {},
     "output_type": "execute_result"
    }
   ],
   "source": [
    "\"NY\" in df.State"
   ]
  },
  {
   "cell_type": "code",
   "execution_count": 98,
   "id": "653b5b75",
   "metadata": {},
   "outputs": [
    {
     "data": {
      "text/plain": [
       "<AxesSubplot:>"
      ]
     },
     "execution_count": 98,
     "metadata": {},
     "output_type": "execute_result"
    },
    {
     "data": {
      "image/png": "[encoded data removed]",
      "text/plain": [
       "<Figure size 432x288 with 1 Axes>"
      ]
     },
     "metadata": {},
     "output_type": "display_data"
    }
   ],
   "source": [
    "cities_by_accident[:20].plot(kind='barh')"
   ]
  },
  {
   "cell_type": "code",
   "execution_count": 99,
   "id": "8dc4b922",
   "metadata": {},
   "outputs": [
    {
     "data": {
      "text/plain": [
       "[39984,\n",
       " 36233,\n",
       " 22203,\n",
       " 20843,\n",
       " 19497,\n",
       " 18431,\n",
       " 16169,\n",
       " 14805,\n",
       " 14090,\n",
       " 12653,\n",
       " 11854,\n",
       " 11507,\n",
       " 10084,\n",
       " 9934,\n",
       " 9516,\n",
       " 9362,\n",
       " 8472,\n",
       " 8381,\n",
       " 8201,\n",
       " 7815,\n",
       " 7737,\n",
       " 7500,\n",
       " 7085,\n",
       " 7038,\n",
       " 6978,\n",
       " 6908,\n",
       " 6803,\n",
       " 6653,\n",
       " 6531,\n",
       " 6479,\n",
       " 6209,\n",
       " 6151,\n",
       " 6103,\n",
       " 6048,\n",
       " 5987,\n",
       " 5893,\n",
       " 5813,\n",
       " 5563,\n",
       " 5396,\n",
       " 5245,\n",
       " 4813,\n",
       " 4780,\n",
       " 4640,\n",
       " 4251,\n",
       " 4220,\n",
       " 4185,\n",
       " 4073,\n",
       " 4047,\n",
       " 3930,\n",
       " 3871,\n",
       " 3869,\n",
       " 3848,\n",
       " 3654,\n",
       " 3632,\n",
       " 3614,\n",
       " 3365,\n",
       " 3323,\n",
       " 3278,\n",
       " 3274,\n",
       " 3266,\n",
       " 3258,\n",
       " 3226,\n",
       " 3158,\n",
       " 3149,\n",
       " 3111,\n",
       " 3071,\n",
       " 3033,\n",
       " 2992,\n",
       " 2981,\n",
       " 2936,\n",
       " 2824,\n",
       " 2761,\n",
       " 2756,\n",
       " 2706,\n",
       " 2658,\n",
       " 2654,\n",
       " 2632,\n",
       " 2622,\n",
       " 2538,\n",
       " 2535,\n",
       " 2532,\n",
       " 2524,\n",
       " 2520,\n",
       " 2507,\n",
       " 2506,\n",
       " 2470,\n",
       " 2459,\n",
       " 2454,\n",
       " 2448,\n",
       " 2377,\n",
       " 2348,\n",
       " 2331,\n",
       " 2282,\n",
       " 2227,\n",
       " 2226,\n",
       " 2221,\n",
       " 2219,\n",
       " 2215,\n",
       " 2200,\n",
       " 2188,\n",
       " 2166,\n",
       " 2113,\n",
       " 2112,\n",
       " 2111,\n",
       " 2105,\n",
       " 2051,\n",
       " 2045,\n",
       " 2009,\n",
       " 1964,\n",
       " 1960,\n",
       " 1951,\n",
       " 1943,\n",
       " 1936,\n",
       " 1930,\n",
       " 1918,\n",
       " 1908,\n",
       " 1907,\n",
       " 1895,\n",
       " 1886,\n",
       " 1885,\n",
       " 1879,\n",
       " 1877,\n",
       " 1876,\n",
       " 1867,\n",
       " 1861,\n",
       " 1830,\n",
       " 1826,\n",
       " 1826,\n",
       " 1795,\n",
       " 1789,\n",
       " 1782,\n",
       " 1781,\n",
       " 1766,\n",
       " 1756,\n",
       " 1735,\n",
       " 1724,\n",
       " 1718,\n",
       " 1689,\n",
       " 1685,\n",
       " 1674,\n",
       " 1657,\n",
       " 1641,\n",
       " 1637,\n",
       " 1634,\n",
       " 1614,\n",
       " 1613,\n",
       " 1612,\n",
       " 1589,\n",
       " 1576,\n",
       " 1572,\n",
       " 1555,\n",
       " 1552,\n",
       " 1550,\n",
       " 1549,\n",
       " 1538,\n",
       " 1536,\n",
       " 1512,\n",
       " 1511,\n",
       " 1502,\n",
       " 1501,\n",
       " 1491,\n",
       " 1484,\n",
       " 1477,\n",
       " 1451,\n",
       " 1450,\n",
       " 1445,\n",
       " 1427,\n",
       " 1410,\n",
       " 1406,\n",
       " 1391,\n",
       " 1386,\n",
       " 1383,\n",
       " 1379,\n",
       " 1367,\n",
       " 1367,\n",
       " 1356,\n",
       " 1349,\n",
       " 1344,\n",
       " 1334,\n",
       " 1331,\n",
       " 1326,\n",
       " 1318,\n",
       " 1318,\n",
       " 1314,\n",
       " 1311,\n",
       " 1308,\n",
       " 1303,\n",
       " 1299,\n",
       " 1291,\n",
       " 1283,\n",
       " 1282,\n",
       " 1280,\n",
       " 1279,\n",
       " 1275,\n",
       " 1270,\n",
       " 1268,\n",
       " 1263,\n",
       " 1249,\n",
       " 1247,\n",
       " 1247,\n",
       " 1212,\n",
       " 1211,\n",
       " 1199,\n",
       " 1196,\n",
       " 1179,\n",
       " 1177,\n",
       " 1174,\n",
       " 1161,\n",
       " 1160,\n",
       " 1159,\n",
       " 1156,\n",
       " 1156,\n",
       " 1150,\n",
       " 1144,\n",
       " 1139,\n",
       " 1136,\n",
       " 1134,\n",
       " 1129,\n",
       " 1121,\n",
       " 1109,\n",
       " 1108,\n",
       " 1096,\n",
       " 1095,\n",
       " 1088,\n",
       " 1085,\n",
       " 1074,\n",
       " 1069,\n",
       " 1066,\n",
       " 1064,\n",
       " 1062,\n",
       " 1057,\n",
       " 1055,\n",
       " 1040,\n",
       " 1039,\n",
       " 1038,\n",
       " 1035,\n",
       " 1031,\n",
       " 1030,\n",
       " 1023,\n",
       " 1023,\n",
       " 1023,\n",
       " 1019,\n",
       " 1016,\n",
       " 1012,\n",
       " 1012,\n",
       " 1010,\n",
       " 1007,\n",
       " 1006,\n",
       " 1006,\n",
       " 1001,\n",
       " 1001,\n",
       " 998,\n",
       " 994,\n",
       " 994,\n",
       " 987,\n",
       " 981,\n",
       " 980,\n",
       " 979,\n",
       " 978,\n",
       " 976,\n",
       " 973,\n",
       " 973,\n",
       " 968,\n",
       " 967,\n",
       " 959,\n",
       " 958,\n",
       " 957,\n",
       " 956,\n",
       " 951,\n",
       " 943,\n",
       " 941,\n",
       " 937,\n",
       " 937,\n",
       " 934,\n",
       " 932,\n",
       " 926,\n",
       " 925,\n",
       " 923,\n",
       " 916,\n",
       " 915,\n",
       " 913,\n",
       " 910,\n",
       " 910,\n",
       " 909,\n",
       " 908,\n",
       " 902,\n",
       " 900,\n",
       " 894,\n",
       " 889,\n",
       " 884,\n",
       " 882,\n",
       " 880,\n",
       " 877,\n",
       " 876,\n",
       " 876,\n",
       " 872,\n",
       " 872,\n",
       " 867,\n",
       " 865,\n",
       " 864,\n",
       " 861,\n",
       " 858,\n",
       " 857,\n",
       " 854,\n",
       " 853,\n",
       " 852,\n",
       " 851,\n",
       " 850,\n",
       " 849,\n",
       " 848,\n",
       " 843,\n",
       " 836,\n",
       " 835,\n",
       " 832,\n",
       " 832,\n",
       " 832,\n",
       " 830,\n",
       " 827,\n",
       " 827,\n",
       " 821,\n",
       " 821,\n",
       " 820,\n",
       " 819,\n",
       " 813,\n",
       " 808,\n",
       " 808,\n",
       " 802,\n",
       " 802,\n",
       " 798,\n",
       " 792,\n",
       " 791,\n",
       " 790,\n",
       " 789,\n",
       " 789,\n",
       " 788,\n",
       " 785,\n",
       " 785,\n",
       " 784,\n",
       " 776,\n",
       " 774,\n",
       " 774,\n",
       " 773,\n",
       " 770,\n",
       " 769,\n",
       " 768,\n",
       " 768,\n",
       " 765,\n",
       " 764,\n",
       " 764,\n",
       " 761,\n",
       " 760,\n",
       " 759,\n",
       " 759,\n",
       " 758,\n",
       " 757,\n",
       " 750,\n",
       " 744,\n",
       " 743,\n",
       " 743,\n",
       " 743,\n",
       " 742,\n",
       " 742,\n",
       " 740,\n",
       " 740,\n",
       " 740,\n",
       " 739,\n",
       " 738,\n",
       " 735,\n",
       " 733,\n",
       " 732,\n",
       " 731,\n",
       " 730,\n",
       " 728,\n",
       " 726,\n",
       " 725,\n",
       " 720,\n",
       " 718,\n",
       " 718,\n",
       " 717,\n",
       " 716,\n",
       " 712,\n",
       " 711,\n",
       " 709,\n",
       " 709,\n",
       " 708,\n",
       " 703,\n",
       " 701,\n",
       " 700,\n",
       " 694,\n",
       " 693,\n",
       " 693,\n",
       " 693,\n",
       " 686,\n",
       " 686,\n",
       " 685,\n",
       " 685,\n",
       " 685,\n",
       " 680,\n",
       " 673,\n",
       " 673,\n",
       " 672,\n",
       " 668,\n",
       " 667,\n",
       " 667,\n",
       " 664,\n",
       " 664,\n",
       " 663,\n",
       " 659,\n",
       " 658,\n",
       " 658,\n",
       " 658,\n",
       " 657,\n",
       " 657,\n",
       " 656,\n",
       " 654,\n",
       " 653,\n",
       " 653,\n",
       " 652,\n",
       " 651,\n",
       " 651,\n",
       " 646,\n",
       " 644,\n",
       " 644,\n",
       " 639,\n",
       " 634,\n",
       " 633,\n",
       " 633,\n",
       " 633,\n",
       " 631,\n",
       " 626,\n",
       " 625,\n",
       " 624,\n",
       " 623,\n",
       " 621,\n",
       " 620,\n",
       " 617,\n",
       " 616,\n",
       " 616,\n",
       " 614,\n",
       " 614,\n",
       " 613,\n",
       " 611,\n",
       " 609,\n",
       " 608,\n",
       " 607,\n",
       " 607,\n",
       " 607,\n",
       " 605,\n",
       " 604,\n",
       " 604,\n",
       " 599,\n",
       " 598,\n",
       " 596,\n",
       " 594,\n",
       " 594,\n",
       " 592,\n",
       " 591,\n",
       " 588,\n",
       " 586,\n",
       " 585,\n",
       " 582,\n",
       " 582,\n",
       " 582,\n",
       " 580,\n",
       " 580,\n",
       " 579,\n",
       " 578,\n",
       " 576,\n",
       " 574,\n",
       " 574,\n",
       " 573,\n",
       " 573,\n",
       " 572,\n",
       " 571,\n",
       " 571,\n",
       " 567,\n",
       " 566,\n",
       " 561,\n",
       " 561,\n",
       " 558,\n",
       " 557,\n",
       " 557,\n",
       " 556,\n",
       " 555,\n",
       " 552,\n",
       " 552,\n",
       " 552,\n",
       " 551,\n",
       " 551,\n",
       " 551,\n",
       " 551,\n",
       " 549,\n",
       " 549,\n",
       " 549,\n",
       " 549,\n",
       " 549,\n",
       " 546,\n",
       " 546,\n",
       " 544,\n",
       " 544,\n",
       " 544,\n",
       " 543,\n",
       " 541,\n",
       " 535,\n",
       " 535,\n",
       " 532,\n",
       " 531,\n",
       " 530,\n",
       " 530,\n",
       " 529,\n",
       " 528,\n",
       " 528,\n",
       " 527,\n",
       " 526,\n",
       " 526,\n",
       " 525,\n",
       " 522,\n",
       " 522,\n",
       " 522,\n",
       " 521,\n",
       " 521,\n",
       " 520,\n",
       " 520,\n",
       " 520,\n",
       " 519,\n",
       " 519,\n",
       " 518,\n",
       " 517,\n",
       " 516,\n",
       " 515,\n",
       " 514,\n",
       " 512,\n",
       " 511,\n",
       " 511,\n",
       " 511,\n",
       " 510,\n",
       " 510,\n",
       " 509,\n",
       " 508,\n",
       " 507,\n",
       " 505,\n",
       " 504,\n",
       " 502,\n",
       " 502,\n",
       " 500,\n",
       " 499,\n",
       " 498,\n",
       " 498,\n",
       " 497,\n",
       " 497,\n",
       " 496,\n",
       " 495,\n",
       " 494,\n",
       " 492,\n",
       " 490,\n",
       " 490,\n",
       " 490,\n",
       " 486,\n",
       " 485,\n",
       " 485,\n",
       " 483,\n",
       " 482,\n",
       " 482,\n",
       " 481,\n",
       " 481,\n",
       " 480,\n",
       " 479,\n",
       " 479,\n",
       " 479,\n",
       " 477,\n",
       " 476,\n",
       " 475,\n",
       " 473,\n",
       " 471,\n",
       " 471,\n",
       " 470,\n",
       " 469,\n",
       " 468,\n",
       " 468,\n",
       " 466,\n",
       " 465,\n",
       " 465,\n",
       " 464,\n",
       " 463,\n",
       " 463,\n",
       " 462,\n",
       " 461,\n",
       " 460,\n",
       " 460,\n",
       " 459,\n",
       " 459,\n",
       " 457,\n",
       " 455,\n",
       " 455,\n",
       " 454,\n",
       " 454,\n",
       " 454,\n",
       " 453,\n",
       " 451,\n",
       " 450,\n",
       " 449,\n",
       " 448,\n",
       " 447,\n",
       " 447,\n",
       " 446,\n",
       " 446,\n",
       " 444,\n",
       " 443,\n",
       " 442,\n",
       " 442,\n",
       " 439,\n",
       " 439,\n",
       " 439,\n",
       " 439,\n",
       " 436,\n",
       " 436,\n",
       " 436,\n",
       " 433,\n",
       " 433,\n",
       " 432,\n",
       " 432,\n",
       " 432,\n",
       " 432,\n",
       " 432,\n",
       " 431,\n",
       " 431,\n",
       " 430,\n",
       " 429,\n",
       " 428,\n",
       " 428,\n",
       " 428,\n",
       " 427,\n",
       " 427,\n",
       " 426,\n",
       " 424,\n",
       " 424,\n",
       " 424,\n",
       " 423,\n",
       " 423,\n",
       " 423,\n",
       " 422,\n",
       " 422,\n",
       " 421,\n",
       " 420,\n",
       " 418,\n",
       " 418,\n",
       " 418,\n",
       " 417,\n",
       " 417,\n",
       " 417,\n",
       " 415,\n",
       " 415,\n",
       " 415,\n",
       " 414,\n",
       " 414,\n",
       " 413,\n",
       " 408,\n",
       " 407,\n",
       " 406,\n",
       " 406,\n",
       " 405,\n",
       " 405,\n",
       " 404,\n",
       " 404,\n",
       " 403,\n",
       " 403,\n",
       " 402,\n",
       " 402,\n",
       " 402,\n",
       " 402,\n",
       " 402,\n",
       " 401,\n",
       " 399,\n",
       " 399,\n",
       " 398,\n",
       " 398,\n",
       " 398,\n",
       " 397,\n",
       " 396,\n",
       " 396,\n",
       " 395,\n",
       " 395,\n",
       " 393,\n",
       " 392,\n",
       " 392,\n",
       " 392,\n",
       " 391,\n",
       " 390,\n",
       " 389,\n",
       " 389,\n",
       " 388,\n",
       " 387,\n",
       " 387,\n",
       " 387,\n",
       " 386,\n",
       " 384,\n",
       " 383,\n",
       " 383,\n",
       " 381,\n",
       " 381,\n",
       " 381,\n",
       " 380,\n",
       " 380,\n",
       " 379,\n",
       " 379,\n",
       " 378,\n",
       " 377,\n",
       " 377,\n",
       " 376,\n",
       " 375,\n",
       " 375,\n",
       " 374,\n",
       " 374,\n",
       " 374,\n",
       " 373,\n",
       " 373,\n",
       " 372,\n",
       " 371,\n",
       " 371,\n",
       " 371,\n",
       " 371,\n",
       " 370,\n",
       " 370,\n",
       " 369,\n",
       " 369,\n",
       " 368,\n",
       " 367,\n",
       " 367,\n",
       " 366,\n",
       " 363,\n",
       " 363,\n",
       " 361,\n",
       " 361,\n",
       " 361,\n",
       " 360,\n",
       " 359,\n",
       " 358,\n",
       " 358,\n",
       " 358,\n",
       " 357,\n",
       " 357,\n",
       " 355,\n",
       " 354,\n",
       " 353,\n",
       " 353,\n",
       " 352,\n",
       " 352,\n",
       " 351,\n",
       " 351,\n",
       " 351,\n",
       " 351,\n",
       " 350,\n",
       " 350,\n",
       " 350,\n",
       " 350,\n",
       " 349,\n",
       " 349,\n",
       " 349,\n",
       " 349,\n",
       " 349,\n",
       " 347,\n",
       " 347,\n",
       " 346,\n",
       " 346,\n",
       " 345,\n",
       " 344,\n",
       " 343,\n",
       " 343,\n",
       " 343,\n",
       " 342,\n",
       " 342,\n",
       " 341,\n",
       " 341,\n",
       " 341,\n",
       " 340,\n",
       " 340,\n",
       " 340,\n",
       " 339,\n",
       " 339,\n",
       " 339,\n",
       " 338,\n",
       " 337,\n",
       " 337,\n",
       " 336,\n",
       " 336,\n",
       " 335,\n",
       " 335,\n",
       " 334,\n",
       " 333,\n",
       " 333,\n",
       " 332,\n",
       " 332,\n",
       " 332,\n",
       " 332,\n",
       " 332,\n",
       " 331,\n",
       " 331,\n",
       " 330,\n",
       " 329,\n",
       " 329,\n",
       " 328,\n",
       " 328,\n",
       " 326,\n",
       " 326,\n",
       " 325,\n",
       " 325,\n",
       " 324,\n",
       " 324,\n",
       " 322,\n",
       " 322,\n",
       " 321,\n",
       " 320,\n",
       " 320,\n",
       " 320,\n",
       " 319,\n",
       " 319,\n",
       " 319,\n",
       " 319,\n",
       " 319,\n",
       " 318,\n",
       " 318,\n",
       " 316,\n",
       " 316,\n",
       " 316,\n",
       " 315,\n",
       " 315,\n",
       " 315,\n",
       " 313,\n",
       " 313,\n",
       " 313,\n",
       " 313,\n",
       " 312,\n",
       " 312,\n",
       " 312,\n",
       " 311,\n",
       " 311,\n",
       " 310,\n",
       " 310,\n",
       " 310,\n",
       " 307,\n",
       " 306,\n",
       " 306,\n",
       " 306,\n",
       " 305,\n",
       " 305,\n",
       " 305,\n",
       " 304,\n",
       " 304,\n",
       " 304,\n",
       " 304,\n",
       " 303,\n",
       " 303,\n",
       " 303,\n",
       " 303,\n",
       " 301,\n",
       " 300,\n",
       " 300,\n",
       " 300,\n",
       " 299,\n",
       " 299,\n",
       " 299,\n",
       " 298,\n",
       " 298,\n",
       " 298,\n",
       " 298,\n",
       " 298,\n",
       " 295,\n",
       " 295,\n",
       " 295,\n",
       " 295,\n",
       " 294,\n",
       " 293,\n",
       " 293,\n",
       " 293,\n",
       " 293,\n",
       " 292,\n",
       " 292,\n",
       " 292,\n",
       " 291,\n",
       " 291,\n",
       " 291,\n",
       " 291,\n",
       " 291,\n",
       " 291,\n",
       " 291,\n",
       " 291,\n",
       " 290,\n",
       " 290,\n",
       " 290,\n",
       " 290,\n",
       " 290,\n",
       " 289,\n",
       " 288,\n",
       " 287,\n",
       " 287,\n",
       " 287,\n",
       " 287,\n",
       " 287,\n",
       " 287,\n",
       " 285,\n",
       " 285,\n",
       " 284,\n",
       " 284,\n",
       " 284,\n",
       " 283,\n",
       " 283,\n",
       " 283,\n",
       " 283,\n",
       " 283,\n",
       " 283,\n",
       " 283,\n",
       " 283,\n",
       " 281,\n",
       " 281,\n",
       " 280,\n",
       " 280,\n",
       " 280,\n",
       " 279,\n",
       " 279,\n",
       " 279,\n",
       " 279,\n",
       " 278,\n",
       " 278,\n",
       " 278,\n",
       " 278,\n",
       " 278,\n",
       " 278,\n",
       " 277,\n",
       " 277,\n",
       " 277,\n",
       " 277,\n",
       " 277,\n",
       " 276,\n",
       " 276,\n",
       " 276,\n",
       " 275,\n",
       " 275,\n",
       " 274,\n",
       " 274,\n",
       " 274,\n",
       " 274,\n",
       " 273,\n",
       " 273,\n",
       " 273,\n",
       " 273,\n",
       " 273,\n",
       " 272,\n",
       " 272,\n",
       " 272,\n",
       " 270,\n",
       " 269,\n",
       " 269,\n",
       " 269,\n",
       " 269,\n",
       " 269,\n",
       " 269,\n",
       " 269,\n",
       " 268,\n",
       " 268,\n",
       " 268,\n",
       " 268,\n",
       " 268,\n",
       " 268,\n",
       " 268,\n",
       " 267,\n",
       " 267,\n",
       " 267,\n",
       " 267,\n",
       " 267,\n",
       " 267,\n",
       " 266,\n",
       " 266,\n",
       " 266,\n",
       " 265,\n",
       " 265,\n",
       " 265,\n",
       " 265,\n",
       " 265,\n",
       " 265,\n",
       " 265,\n",
       " 263,\n",
       " 262,\n",
       " 262,\n",
       " 262,\n",
       " 262,\n",
       " 262,\n",
       " 261,\n",
       " 260,\n",
       " 260,\n",
       " 259,\n",
       " 259,\n",
       " 259,\n",
       " 259,\n",
       " 259,\n",
       " 259,\n",
       " 259,\n",
       " 259,\n",
       " 259,\n",
       " 258,\n",
       " 258,\n",
       " ...]"
      ]
     },
     "execution_count": 99,
     "metadata": {},
     "output_type": "execute_result"
    }
   ],
   "source": [
    "list(cities_by_accident)"
   ]
  },
  {
   "cell_type": "code",
   "execution_count": 100,
   "id": "3a3d686b",
   "metadata": {},
   "outputs": [
    {
     "name": "stderr",
     "output_type": "stream",
     "text": [
      "C:\\Users\\gaura\\anaconda3\\lib\\site-packages\\seaborn\\distributions.py:2557: FutureWarning: `distplot` is a deprecated function and will be removed in a future version. Please adapt your code to use either `displot` (a figure-level function with similar flexibility) or `histplot` (an axes-level function for histograms).\n",
      "  warnings.warn(msg, FutureWarning)\n"
     ]
    },
    {
     "data": {
      "text/plain": [
       "<AxesSubplot:xlabel='City', ylabel='Density'>"
      ]
     },
     "execution_count": 100,
     "metadata": {},
     "output_type": "execute_result"
    },
    {
     "data": {
      "image/png": "[encoded data removed]",
      "text/plain": [
       "<Figure size 432x288 with 1 Axes>"
      ]
     },
     "metadata": {},
     "output_type": "display_data"
    }
   ],
   "source": [
    "#to check cities accident distribution by plotting hsitogram\n",
    "\n",
    "import seaborn as sns\n",
    "sns.set_style(\"darkgrid\")\n",
    "sns.distplot(cities_by_accident)\n"
   ]
  },
  {
   "cell_type": "code",
   "execution_count": 101,
   "id": "f989b78c",
   "metadata": {},
   "outputs": [
    {
     "data": {
      "text/plain": [
       "251"
      ]
     },
     "execution_count": 101,
     "metadata": {},
     "output_type": "execute_result"
    }
   ],
   "source": [
    "high_accident_cities = cities_by_accident[cities_by_accident >= 1000]\n",
    "low_accident_cities = cities_by_accident[cities_by_accident < 1000]\n",
    "len(high_accident_cities)"
   ]
  },
  {
   "cell_type": "code",
   "execution_count": 102,
   "id": "49e28da5",
   "metadata": {},
   "outputs": [
    {
     "data": {
      "text/plain": [
       "0.023550384687558643"
      ]
     },
     "execution_count": 102,
     "metadata": {},
     "output_type": "execute_result"
    }
   ],
   "source": [
    "len(high_accident_cities)/len(cities)"
   ]
  },
  {
   "cell_type": "code",
   "execution_count": 103,
   "id": "ec41b7e8",
   "metadata": {},
   "outputs": [
    {
     "name": "stderr",
     "output_type": "stream",
     "text": [
      "C:\\Users\\gaura\\anaconda3\\lib\\site-packages\\seaborn\\distributions.py:2557: FutureWarning: `distplot` is a deprecated function and will be removed in a future version. Please adapt your code to use either `displot` (a figure-level function with similar flexibility) or `histplot` (an axes-level function for histograms).\n",
      "  warnings.warn(msg, FutureWarning)\n"
     ]
    },
    {
     "data": {
      "text/plain": [
       "<AxesSubplot:xlabel='City', ylabel='Density'>"
      ]
     },
     "execution_count": 103,
     "metadata": {},
     "output_type": "execute_result"
    },
    {
     "data": {
      "image/png": "[encoded data removed]",
      "text/plain": [
       "<Figure size 432x288 with 1 Axes>"
      ]
     },
     "metadata": {},
     "output_type": "display_data"
    }
   ],
   "source": [
    "sns.distplot(high_accident_cities)"
   ]
  },
  {
   "cell_type": "code",
   "execution_count": 104,
   "id": "a48296ed",
   "metadata": {},
   "outputs": [
    {
     "data": {
      "text/plain": [
       "<seaborn.axisgrid.FacetGrid at 0x1bca4e15970>"
      ]
     },
     "execution_count": 104,
     "metadata": {},
     "output_type": "execute_result"
    },
    {
     "data": {
      "image/png": "[encoded data removed]",
      "text/plain": [
       "<Figure size 360x360 with 1 Axes>"
      ]
     },
     "metadata": {},
     "output_type": "display_data"
    }
   ],
   "source": [
    "sns.displot(low_accident_cities)\n"
   ]
  },
  {
   "cell_type": "code",
   "execution_count": 105,
   "id": "059d0422",
   "metadata": {},
   "outputs": [],
   "source": [
    "#above two graph shows exponential decreasing "
   ]
  },
  {
   "cell_type": "code",
   "execution_count": 106,
   "id": "4532194e",
   "metadata": {},
   "outputs": [
    {
     "data": {
      "text/plain": [
       "<AxesSubplot:xlabel='City', ylabel='Count'>"
      ]
     },
     "execution_count": 106,
     "metadata": {},
     "output_type": "execute_result"
    },
    {
     "data": {
      "image/png": "[encoded data removed]",
      "text/plain": [
       "<Figure size 432x288 with 1 Axes>"
      ]
     },
     "metadata": {},
     "output_type": "display_data"
    }
   ],
   "source": [
    "sns.histplot(cities_by_accident, log_scale=True)\n",
    "#most of the cities falls under 0 to 100 accidents \n"
   ]
  },
  {
   "cell_type": "code",
   "execution_count": 107,
   "id": "632a34ff",
   "metadata": {},
   "outputs": [
    {
     "data": {
      "text/plain": [
       "Jerusalem        1\n",
       "Ashfield         1\n",
       "Fair Grove       1\n",
       "Primm Springs    1\n",
       "Ringle           1\n",
       "                ..\n",
       "Swiftwater       1\n",
       "Keytesville      1\n",
       "Hiltons          1\n",
       "Babb             1\n",
       "Searsmont        1\n",
       "Name: City, Length: 1167, dtype: int64"
      ]
     },
     "execution_count": 107,
     "metadata": {},
     "output_type": "execute_result"
    }
   ],
   "source": [
    "cities_by_accident[cities_by_accident == 1]\n"
   ]
  },
  {
   "cell_type": "code",
   "execution_count": 108,
   "id": "6d435b09",
   "metadata": {},
   "outputs": [
    {
     "data": {
      "text/plain": [
       "Lilesville           3\n",
       "Dewitt               3\n",
       "Holley               3\n",
       "Delco                3\n",
       "Granton              3\n",
       "                    ..\n",
       "Larsen               3\n",
       "Lavina               3\n",
       "North Berwick        3\n",
       "Lake Forest Park     3\n",
       "Columbus Junction    3\n",
       "Name: City, Length: 568, dtype: int64"
      ]
     },
     "execution_count": 108,
     "metadata": {},
     "output_type": "execute_result"
    }
   ],
   "source": [
    "cities_by_accident[cities_by_accident == 3]"
   ]
  },
  {
   "cell_type": "code",
   "execution_count": 109,
   "id": "005d5bbb",
   "metadata": {},
   "outputs": [],
   "source": [
    "#START TIME"
   ]
  },
  {
   "cell_type": "code",
   "execution_count": 110,
   "id": "7b2f772c",
   "metadata": {},
   "outputs": [
    {
     "data": {
      "text/plain": [
       "0          2016-02-08 00:37:08\n",
       "1          2016-02-08 05:56:20\n",
       "2          2016-02-08 06:15:39\n",
       "3          2016-02-08 06:15:39\n",
       "4          2016-02-08 06:51:45\n",
       "                  ...         \n",
       "1516059    2019-08-23 18:03:25\n",
       "1516060    2019-08-23 19:11:30\n",
       "1516061    2019-08-23 19:00:21\n",
       "1516062    2019-08-23 19:00:21\n",
       "1516063    2019-08-23 18:52:06\n",
       "Name: Start_Time, Length: 1516064, dtype: object"
      ]
     },
     "execution_count": 110,
     "metadata": {},
     "output_type": "execute_result"
    }
   ],
   "source": [
    "df.Start_Time\n"
   ]
  },
  {
   "cell_type": "code",
   "execution_count": 111,
   "id": "bd901175",
   "metadata": {},
   "outputs": [
    {
     "data": {
      "text/plain": [
       "'2016-02-08 00:37:08'"
      ]
     },
     "execution_count": 111,
     "metadata": {},
     "output_type": "execute_result"
    }
   ],
   "source": [
    "df.Start_Time[0]"
   ]
  },
  {
   "cell_type": "code",
   "execution_count": 112,
   "id": "eb89094c",
   "metadata": {},
   "outputs": [],
   "source": [
    "#to parse date in pandas(pd)\n",
    "df.Start_Time = pd.to_datetime(df.Start_Time)\n"
   ]
  },
  {
   "cell_type": "code",
   "execution_count": 113,
   "id": "0d3b37f5",
   "metadata": {},
   "outputs": [
    {
     "data": {
      "text/plain": [
       "0           0\n",
       "1           5\n",
       "2           6\n",
       "3           6\n",
       "4           6\n",
       "           ..\n",
       "1516059    18\n",
       "1516060    19\n",
       "1516061    19\n",
       "1516062    19\n",
       "1516063    18\n",
       "Name: Start_Time, Length: 1516064, dtype: int64"
      ]
     },
     "execution_count": 113,
     "metadata": {},
     "output_type": "execute_result"
    }
   ],
   "source": [
    "# to get hour from timestamp\n",
    "df.Start_Time.dt.hour"
   ]
  },
  {
   "cell_type": "code",
   "execution_count": 114,
   "id": "030bd93b",
   "metadata": {
    "scrolled": true
   },
   "outputs": [
    {
     "name": "stderr",
     "output_type": "stream",
     "text": [
      "C:\\Users\\gaura\\anaconda3\\lib\\site-packages\\seaborn\\distributions.py:2557: FutureWarning: `distplot` is a deprecated function and will be removed in a future version. Please adapt your code to use either `displot` (a figure-level function with similar flexibility) or `histplot` (an axes-level function for histograms).\n",
      "  warnings.warn(msg, FutureWarning)\n"
     ]
    },
    {
     "data": {
      "text/plain": [
       "<AxesSubplot:xlabel='Start_Time'>"
      ]
     },
     "execution_count": 114,
     "metadata": {},
     "output_type": "execute_result"
    },
    {
     "data": {
      "image/png": "[encoded data removed]",
      "text/plain": [
       "<Figure size 432x288 with 1 Axes>"
      ]
     },
     "metadata": {},
     "output_type": "display_data"
    }
   ],
   "source": [
    "#count in percentages, norm_hist = true\n",
    "# bins = 24 hour day \n",
    "sns.distplot(df.Start_Time.dt.hour, bins=24, kde=False, norm_hist=True)\n"
   ]
  },
  {
   "cell_type": "code",
   "execution_count": 115,
   "id": "317205bf",
   "metadata": {},
   "outputs": [],
   "source": [
    "#A high percentage of accidents occur between  3 pm to 6pm (probabrly people in hurry to go home)\n",
    "# Next highest percentage is between 6 am to 10 am"
   ]
  },
  {
   "cell_type": "code",
   "execution_count": 116,
   "id": "763cf525",
   "metadata": {},
   "outputs": [
    {
     "data": {
      "text/plain": [
       "<AxesSubplot:xlabel='Start_Time'>"
      ]
     },
     "execution_count": 116,
     "metadata": {},
     "output_type": "execute_result"
    },
    {
     "data": {
      "image/png": "[encoded data removed]",
      "text/plain": [
       "<Figure size 432x288 with 1 Axes>"
      ]
     },
     "metadata": {},
     "output_type": "display_data"
    }
   ],
   "source": [
    "#dayofweek Monday = 0 , bins = 7\n",
    "sns.distplot(df.Start_Time.dt.dayofweek, bins=7, kde=False, norm_hist=True)\n"
   ]
  },
  {
   "cell_type": "code",
   "execution_count": 117,
   "id": "5693f03c",
   "metadata": {},
   "outputs": [],
   "source": [
    "#On weekends number of accident is lower"
   ]
  },
  {
   "cell_type": "code",
   "execution_count": null,
   "id": "43543702",
   "metadata": {},
   "outputs": [],
   "source": [
    "#is the distribution of accidents by hour the same on weekends as on weekdays?\n",
    "sundays_start_time = df.Start_Time[df.Start_Time.dt.dayofweek == 6]\n",
    "sns.distplot(sundays_start_time.dt.hour, bins=24, kde=False, norm_hist=True)\n"
   ]
  },
  {
   "cell_type": "code",
   "execution_count": 119,
   "id": "6e4d99c2",
   "metadata": {},
   "outputs": [],
   "source": [
    "#On sunday, the peak occurs between 6pm and midnight unlike weekdays "
   ]
  },
  {
   "cell_type": "code",
   "execution_count": 120,
   "id": "4db09672",
   "metadata": {
    "scrolled": false
   },
   "outputs": [
    {
     "name": "stderr",
     "output_type": "stream",
     "text": [
      "C:\\Users\\gaura\\anaconda3\\lib\\site-packages\\seaborn\\distributions.py:2557: FutureWarning: `distplot` is a deprecated function and will be removed in a future version. Please adapt your code to use either `displot` (a figure-level function with similar flexibility) or `histplot` (an axes-level function for histograms).\n",
      "  warnings.warn(msg, FutureWarning)\n"
     ]
    },
    {
     "data": {
      "text/plain": [
       "<AxesSubplot:xlabel='Start_Time'>"
      ]
     },
     "execution_count": 120,
     "metadata": {},
     "output_type": "execute_result"
    },
    {
     "data": {
      "image/png": "[encoded data removed]",
      "text/plain": [
       "<Figure size 432x288 with 1 Axes>"
      ]
     },
     "metadata": {},
     "output_type": "display_data"
    }
   ],
   "source": [
    "monday_start_time = df.Start_Time[df.Start_Time.dt.dayofweek == 0]\n",
    "sns.distplot(monday_start_time.dt.hour, bins=24, kde=False, norm_hist=True)\n"
   ]
  },
  {
   "cell_type": "code",
   "execution_count": 121,
   "id": "fe17d5fb",
   "metadata": {},
   "outputs": [
    {
     "data": {
      "text/plain": [
       "<AxesSubplot:xlabel='Start_Time'>"
      ]
     },
     "execution_count": 121,
     "metadata": {},
     "output_type": "execute_result"
    },
    {
     "data": {
      "image/png": "[encoded data removed]",
      "text/plain": [
       "<Figure size 432x288 with 1 Axes>"
      ]
     },
     "metadata": {},
     "output_type": "display_data"
    }
   ],
   "source": [
    "\n",
    "sns.distplot(monday_start_time.dt.month, bins=24, kde=False, norm_hist=True)\n"
   ]
  },
  {
   "cell_type": "code",
   "execution_count": 122,
   "id": "36ae5360",
   "metadata": {},
   "outputs": [
    {
     "name": "stderr",
     "output_type": "stream",
     "text": [
      "C:\\Users\\gaura\\anaconda3\\lib\\site-packages\\seaborn\\distributions.py:2557: FutureWarning: `distplot` is a deprecated function and will be removed in a future version. Please adapt your code to use either `displot` (a figure-level function with similar flexibility) or `histplot` (an axes-level function for histograms).\n",
      "  warnings.warn(msg, FutureWarning)\n"
     ]
    },
    {
     "data": {
      "text/plain": [
       "<AxesSubplot:xlabel='Start_Time'>"
      ]
     },
     "execution_count": 122,
     "metadata": {},
     "output_type": "execute_result"
    },
    {
     "data": {
      "image/png": "[encoded data removed]",
      "text/plain": [
       "<Figure size 432x288 with 1 Axes>"
      ]
     },
     "metadata": {},
     "output_type": "display_data"
    }
   ],
   "source": [
    "df_2016 = df[df.Start_Time.dt.year == 2016]\n",
    "sns.distplot(df_2016.Start_Time.dt.month, bins=12, kde=False, norm_hist=True)"
   ]
  },
  {
   "cell_type": "code",
   "execution_count": 123,
   "id": "4b8e4275",
   "metadata": {},
   "outputs": [],
   "source": [
    "#Can you explain the month wise trend of accidents?\n",
    "#Much data is missing for 2016"
   ]
  },
  {
   "cell_type": "code",
   "execution_count": 124,
   "id": "e0d12799",
   "metadata": {},
   "outputs": [],
   "source": [
    "#Start Latitude & Longitude"
   ]
  },
  {
   "cell_type": "code",
   "execution_count": 125,
   "id": "47cb0028",
   "metadata": {
    "scrolled": true
   },
   "outputs": [
    {
     "data": {
      "text/plain": [
       "0          40.10891\n",
       "1          39.86542\n",
       "2          39.10266\n",
       "3          39.10148\n",
       "4          41.06213\n",
       "             ...   \n",
       "1516059    34.00248\n",
       "1516060    32.76696\n",
       "1516061    33.77545\n",
       "1516062    33.99246\n",
       "1516063    34.13393\n",
       "Name: Start_Lat, Length: 1516064, dtype: float64"
      ]
     },
     "execution_count": 125,
     "metadata": {},
     "output_type": "execute_result"
    }
   ],
   "source": [
    "df.Start_Lat"
   ]
  },
  {
   "cell_type": "code",
   "execution_count": 126,
   "id": "26a96166",
   "metadata": {
    "scrolled": true
   },
   "outputs": [
    {
     "data": {
      "text/plain": [
       "0          -83.09286\n",
       "1          -84.06280\n",
       "2          -84.52468\n",
       "3          -84.52341\n",
       "4          -81.53784\n",
       "             ...    \n",
       "1516059   -117.37936\n",
       "1516060   -117.14806\n",
       "1516061   -117.84779\n",
       "1516062   -118.40302\n",
       "1516063   -117.23092\n",
       "Name: Start_Lng, Length: 1516064, dtype: float64"
      ]
     },
     "execution_count": 126,
     "metadata": {},
     "output_type": "execute_result"
    }
   ],
   "source": [
    "df.Start_Lng"
   ]
  },
  {
   "cell_type": "code",
   "execution_count": 127,
   "id": "176ca36a",
   "metadata": {},
   "outputs": [],
   "source": [
    "sample_df = df.sample(int(0.1 * len(df)))\n"
   ]
  },
  {
   "cell_type": "code",
   "execution_count": 128,
   "id": "5ab00b5e",
   "metadata": {},
   "outputs": [
    {
     "data": {
      "text/plain": [
       "<AxesSubplot:xlabel='Start_Lng', ylabel='Start_Lat'>"
      ]
     },
     "execution_count": 128,
     "metadata": {},
     "output_type": "execute_result"
    },
    {
     "data": {
      "image/png": "[encoded data removed]",
      "text/plain": [
       "<Figure size 432x288 with 1 Axes>"
      ]
     },
     "metadata": {},
     "output_type": "display_data"
    }
   ],
   "source": [
    "sns.scatterplot(x=sample_df.Start_Lng, y=sample_df.Start_Lat, size=0.001)\n"
   ]
  },
  {
   "cell_type": "code",
   "execution_count": 129,
   "id": "0a7aa0ec",
   "metadata": {},
   "outputs": [],
   "source": [
    "!pip install folium --upgrade --quiet"
   ]
  },
  {
   "cell_type": "code",
   "execution_count": 130,
   "id": "33305c6d",
   "metadata": {},
   "outputs": [
    {
     "name": "stdout",
     "output_type": "stream",
     "text": [
      "444309     45.708167\n",
      "1291519    43.596800\n",
      "937124     37.274241\n",
      "802105     31.777320\n",
      "624198     28.547104\n",
      "             ...    \n",
      "380701     40.388038\n",
      "965427     45.540140\n",
      "1188522    45.050730\n",
      "1332124    33.424400\n",
      "926167     36.764068\n",
      "Name: Start_Lat, Length: 100, dtype: float64\n",
      "444309    -112.701757\n",
      "1291519    -83.948040\n",
      "937124    -120.437057\n",
      "802105    -106.428400\n",
      "624198     -81.237920\n",
      "              ...    \n",
      "380701     -74.097117\n",
      "965427    -122.671200\n",
      "1188522   -123.512008\n",
      "1332124    -86.702520\n",
      "926167    -120.060079\n",
      "Name: Start_Lng, Length: 100, dtype: float64\n"
     ]
    }
   ],
   "source": [
    "import folium\n",
    "map = folium.Map()\n",
    "# iterate over a datafram using for\n",
    "for x in df[['Start_Lat', 'Start_Lng']].sample(100).iteritems():\n",
    "    print(x[1])"
   ]
  },
  {
   "cell_type": "code",
   "execution_count": 131,
   "id": "175aa079",
   "metadata": {
    "scrolled": false
   },
   "outputs": [
    {
     "data": {
      "text/plain": [
       "(40.10891, -83.09286)"
      ]
     },
     "execution_count": 131,
     "metadata": {},
     "output_type": "execute_result"
    }
   ],
   "source": [
    "lat, lon = df.Start_Lat[0], df.Start_Lng[0]\n",
    "lat, lon"
   ]
  },
  {
   "cell_type": "code",
   "execution_count": 132,
   "id": "cc755c9b",
   "metadata": {},
   "outputs": [
    {
     "data": {
      "text/plain": [
       "<zip at 0x1bca64c3280>"
      ]
     },
     "execution_count": 132,
     "metadata": {},
     "output_type": "execute_result"
    }
   ],
   "source": [
    "#to creat heatmap data  list of latitude and longitude\n",
    "zip(list(df.Start_Lat), list(df.Start_Lng))"
   ]
  },
  {
   "cell_type": "code",
   "execution_count": 133,
   "id": "5731b832",
   "metadata": {},
   "outputs": [],
   "source": [
    "from folium.plugins import HeatMap"
   ]
  },
  {
   "cell_type": "code",
   "execution_count": 134,
   "id": "209eb32b",
   "metadata": {},
   "outputs": [],
   "source": [
    "sample_df = df.sample(int(0.001 * len(df)))\n",
    "lat_lon_pairs = list(zip(list(sample_df.Start_Lat), list(sample_df.Start_Lng)))"
   ]
  },
  {
   "cell_type": "code",
   "execution_count": 135,
   "id": "6a8a8a0b",
   "metadata": {
    "scrolled": true
   },
   "outputs": [
    {
     "data": {
      "text/html": [
       "<div style=\"width:100%;\"><div style=\"position:relative;width:100%;height:0;padding-bottom:60%;\"><span style=\"color:#565656\">Make this Notebook Trusted to load map: File -> Trust Notebook</span><iframe src=\"about:blank\" style=\"position:absolute;width:100%;height:100%;left:0;top:0;border:none !important;\" data-html=%3C%21DOCTYPE%20html%3E%0A%3Chead%3E%20%20%20%20%0A%20%20%20%20%3Cmeta%20http-equiv%3D%22content-type%22%20content%3D%22text/html%3B%20charset%3DUTF-8%22%20/%3E%0A%20%20%20%20%0A%20%20%20%20%20%20%20%20%3Cscript%3E%0A%20%20%20%20%20%20%20%20%20%20%20%20L_NO_TOUCH%20%3D%20false%3B%0A%20%20%20%20%20%20%20%20%20%20%20%20L_DISABLE_3D%20%3D%20false%3B%0A%20%20%20%20%20%20%20%20%3C/script%3E%0A%20%20%20%20%0A%20%20%20%20%3Cstyle%3Ehtml%2C%20body%20%7Bwidth%3A%20100%25%3Bheight%3A%20100%25%3Bmargin%3A%200%3Bpadding%3A%200%3B%7D%3C/style%3E%0A%20%20%20%20%3Cstyle%3E%23map%20%7Bposition%3Aabsolute%3Btop%3A0%3Bbottom%3A0%3Bright%3A0%3Bleft%3A0%3B%7D%3C/style%3E%0A%20%20%20%20%3Cscript%20src%3D%22https%3A//cdn.jsdelivr.net/npm/leaflet%401.6.0/dist/leaflet.js%22%3E%3C/script%3E%0A%20%20%20%20%3Cscript%20src%3D%22https%3A//code.jquery.com/jquery-1.12.4.min.js%22%3E%3C/script%3E%0A%20%20%20%20%3Cscript%20src%3D%22https%3A//maxcdn.bootstrapcdn.com/bootstrap/3.2.0/js/bootstrap.min.js%22%3E%3C/script%3E%0A%20%20%20%20%3Cscript%20src%3D%22https%3A//cdnjs.cloudflare.com/ajax/libs/Leaflet.awesome-markers/2.0.2/leaflet.awesome-markers.js%22%3E%3C/script%3E%0A%20%20%20%20%3Clink%20rel%3D%22stylesheet%22%20href%3D%22https%3A//cdn.jsdelivr.net/npm/leaflet%401.6.0/dist/leaflet.css%22/%3E%0A%20%20%20%20%3Clink%20rel%3D%22stylesheet%22%20href%3D%22https%3A//maxcdn.bootstrapcdn.com/bootstrap/3.2.0/css/bootstrap.min.css%22/%3E%0A%20%20%20%20%3Clink%20rel%3D%22stylesheet%22%20href%3D%22https%3A//maxcdn.bootstrapcdn.com/bootstrap/3.2.0/css/bootstrap-theme.min.css%22/%3E%0A%20%20%20%20%3Clink%20rel%3D%22stylesheet%22%20href%3D%22https%3A//maxcdn.bootstrapcdn.com/font-awesome/4.6.3/css/font-awesome.min.css%22/%3E%0A%20%20%20%20%3Clink%20rel%3D%22stylesheet%22%20href%3D%22https%3A//cdnjs.cloudflare.com/ajax/libs/Leaflet.awesome-markers/2.0.2/leaflet.awesome-markers.css%22/%3E%0A%20%20%20%20%3Clink%20rel%3D%22stylesheet%22%20href%3D%22https%3A//cdn.jsdelivr.net/gh/python-visualization/folium/folium/templates/leaflet.awesome.rotate.min.css%22/%3E%0A%20%20%20%20%0A%20%20%20%20%20%20%20%20%20%20%20%20%3Cmeta%20name%3D%22viewport%22%20content%3D%22width%3Ddevice-width%2C%0A%20%20%20%20%20%20%20%20%20%20%20%20%20%20%20%20initial-scale%3D1.0%2C%20maximum-scale%3D1.0%2C%20user-scalable%3Dno%22%20/%3E%0A%20%20%20%20%20%20%20%20%20%20%20%20%3Cstyle%3E%0A%20%20%20%20%20%20%20%20%20%20%20%20%20%20%20%20%23map_fea652b0b9c843ca94fa7814b080a229%20%7B%0A%20%20%20%20%20%20%20%20%20%20%20%20%20%20%20%20%20%20%20%20position%3A%20relative%3B%0A%20%20%20%20%20%20%20%20%20%20%20%20%20%20%20%20%20%20%20%20width%3A%20100.0%25%3B%0A%20%20%20%20%20%20%20%20%20%20%20%20%20%20%20%20%20%20%20%20height%3A%20100.0%25%3B%0A%20%20%20%20%20%20%20%20%20%20%20%20%20%20%20%20%20%20%20%20left%3A%200.0%25%3B%0A%20%20%20%20%20%20%20%20%20%20%20%20%20%20%20%20%20%20%20%20top%3A%200.0%25%3B%0A%20%20%20%20%20%20%20%20%20%20%20%20%20%20%20%20%7D%0A%20%20%20%20%20%20%20%20%20%20%20%20%3C/style%3E%0A%20%20%20%20%20%20%20%20%0A%20%20%20%20%3Cscript%20src%3D%22https%3A//cdn.jsdelivr.net/gh/python-visualization/folium%40master/folium/templates/leaflet_heat.min.js%22%3E%3C/script%3E%0A%3C/head%3E%0A%3Cbody%3E%20%20%20%20%0A%20%20%20%20%0A%20%20%20%20%20%20%20%20%20%20%20%20%3Cdiv%20class%3D%22folium-map%22%20id%3D%22map_fea652b0b9c843ca94fa7814b080a229%22%20%3E%3C/div%3E%0A%20%20%20%20%20%20%20%20%0A%3C/body%3E%0A%3Cscript%3E%20%20%20%20%0A%20%20%20%20%0A%20%20%20%20%20%20%20%20%20%20%20%20var%20map_fea652b0b9c843ca94fa7814b080a229%20%3D%20L.map%28%0A%20%20%20%20%20%20%20%20%20%20%20%20%20%20%20%20%22map_fea652b0b9c843ca94fa7814b080a229%22%2C%0A%20%20%20%20%20%20%20%20%20%20%20%20%20%20%20%20%7B%0A%20%20%20%20%20%20%20%20%20%20%20%20%20%20%20%20%20%20%20%20center%3A%20%5B0%2C%200%5D%2C%0A%20%20%20%20%20%20%20%20%20%20%20%20%20%20%20%20%20%20%20%20crs%3A%20L.CRS.EPSG3857%2C%0A%20%20%20%20%20%20%20%20%20%20%20%20%20%20%20%20%20%20%20%20zoom%3A%201%2C%0A%20%20%20%20%20%20%20%20%20%20%20%20%20%20%20%20%20%20%20%20zoomControl%3A%20true%2C%0A%20%20%20%20%20%20%20%20%20%20%20%20%20%20%20%20%20%20%20%20preferCanvas%3A%20false%2C%0A%20%20%20%20%20%20%20%20%20%20%20%20%20%20%20%20%7D%0A%20%20%20%20%20%20%20%20%20%20%20%20%29%3B%0A%0A%20%20%20%20%20%20%20%20%20%20%20%20%0A%0A%20%20%20%20%20%20%20%20%0A%20%20%20%20%0A%20%20%20%20%20%20%20%20%20%20%20%20var%20tile_layer_5e7aea46a8e044238ec1e1621e3d8049%20%3D%20L.tileLayer%28%0A%20%20%20%20%20%20%20%20%20%20%20%20%20%20%20%20%22https%3A//%7Bs%7D.tile.openstreetmap.org/%7Bz%7D/%7Bx%7D/%7By%7D.png%22%2C%0A%20%20%20%20%20%20%20%20%20%20%20%20%20%20%20%20%7B%22attribution%22%3A%20%22Data%20by%20%5Cu0026copy%3B%20%5Cu003ca%20href%3D%5C%22http%3A//openstreetmap.org%5C%22%5Cu003eOpenStreetMap%5Cu003c/a%5Cu003e%2C%20under%20%5Cu003ca%20href%3D%5C%22http%3A//www.openstreetmap.org/copyright%5C%22%5Cu003eODbL%5Cu003c/a%5Cu003e.%22%2C%20%22detectRetina%22%3A%20false%2C%20%22maxNativeZoom%22%3A%2018%2C%20%22maxZoom%22%3A%2018%2C%20%22minZoom%22%3A%200%2C%20%22noWrap%22%3A%20false%2C%20%22opacity%22%3A%201%2C%20%22subdomains%22%3A%20%22abc%22%2C%20%22tms%22%3A%20false%7D%0A%20%20%20%20%20%20%20%20%20%20%20%20%29.addTo%28map_fea652b0b9c843ca94fa7814b080a229%29%3B%0A%20%20%20%20%20%20%20%20%0A%20%20%20%20%0A%20%20%20%20%20%20%20%20%20%20%20%20var%20heat_map_016978fea9614167bf12182906427f02%20%3D%20L.heatLayer%28%0A%20%20%20%20%20%20%20%20%20%20%20%20%20%20%20%20%5B%5B45.50727%2C%20-122.67022%5D%2C%20%5B25.769738%2C%20-80.332445%5D%2C%20%5B44.89066%2C%20-93.3995%5D%2C%20%5B41.683663%2C%20-72.651675%5D%2C%20%5B26.081489%2C%20-80.140746%5D%2C%20%5B39.86111%2C%20-104.9877%5D%2C%20%5B46.232968%2C%20-112.766858%5D%2C%20%5B40.792289%2C%20-73.164879%5D%2C%20%5B35.27656%2C%20-80.79352%5D%2C%20%5B41.10807%2C%20-111.91337%5D%2C%20%5B43.43201%2C%20-85.4394%5D%2C%20%5B37.794969%2C%20-113.050629%5D%2C%20%5B37.3609%2C%20-121.91617%5D%2C%20%5B29.80408%2C%20-95.44794%5D%2C%20%5B47.666171%2C%20-117.41117%5D%2C%20%5B44.86026%2C%20-93.1032%5D%2C%20%5B38.99848%2C%20-94.50236%5D%2C%20%5B36.84176%2C%20-119.78515%5D%2C%20%5B41.74965%2C%20-72.70554%5D%2C%20%5B38.45378%2C%20-120.87271%5D%2C%20%5B47.834163%2C%20-121.641995%5D%2C%20%5B32.32206%2C%20-86.307761%5D%2C%20%5B36.08221%2C%20-86.76162%5D%2C%20%5B41.76696%2C%20-87.94501%5D%2C%20%5B33.856909%2C%20-118.029572%5D%2C%20%5B37.36413%2C%20-122.12448%5D%2C%20%5B39.938155%2C%20-77.626176%5D%2C%20%5B33.897297%2C%20-117.492163%5D%2C%20%5B36.15404%2C%20-86.75744%5D%2C%20%5B36.05862%2C%20-79.60778%5D%2C%20%5B37.01029%2C%20-119.793877%5D%2C%20%5B37.303502%2C%20-122.03538%5D%2C%20%5B42.37559%2C%20-83.04294%5D%2C%20%5B39.311619%2C%20-120.495922%5D%2C%20%5B25.948838%2C%20-80.430479%5D%2C%20%5B34.1434%2C%20-118.17079%5D%2C%20%5B40.25533%2C%20-76.82926%5D%2C%20%5B34.029325%2C%20-118.444794%5D%2C%20%5B29.70654%2C%20-95.70051%5D%2C%20%5B36.965163%2C%20-76.515022%5D%2C%20%5B39.364105%2C%20-76.747064%5D%2C%20%5B36.045686%2C%20-86.660379%5D%2C%20%5B37.25349%2C%20-121.9465%5D%2C%20%5B35.171254%2C%20-80.808167%5D%2C%20%5B37.325168%2C%20-121.886239%5D%2C%20%5B27.95014%2C%20-82.51815%5D%2C%20%5B40.63598%2C%20-111.90204%5D%2C%20%5B34.090174%2C%20-118.60397%5D%2C%20%5B42.430375%2C%20-123.252688%5D%2C%20%5B38.88938%2C%20-77.062836%5D%2C%20%5B28.969914%2C%20-81.281014%5D%2C%20%5B28.53839%2C%20-81.38217%5D%2C%20%5B40.71848%2C%20-111.89177%5D%2C%20%5B40.259803%2C%20-74.724557%5D%2C%20%5B34.48091%2C%20-120.229949%5D%2C%20%5B37.59255%2C%20-122.05668%5D%2C%20%5B40.765611%2C%20-111.95063%5D%2C%20%5B33.48762%2C%20-111.92615%5D%2C%20%5B44.71538%2C%20-73.57035%5D%2C%20%5B36.923236%2C%20-119.793964%5D%2C%20%5B34.03568%2C%20-118.03143%5D%2C%20%5B36.07962%2C%20-86.95962%5D%2C%20%5B45.329687%2C%20-118.23808%5D%2C%20%5B34.188636%2C%20-79.806629%5D%2C%20%5B46.13505%2C%20-123.38154%5D%2C%20%5B46.783561%2C%20-95.111212%5D%2C%20%5B47.615366%2C%20-122.329298%5D%2C%20%5B34.028983%2C%20-118.203673%5D%2C%20%5B32.48843%2C%20-93.797234%5D%2C%20%5B33.870795%2C%20-117.740212%5D%2C%20%5B43.17893%2C%20-76.04044%5D%2C%20%5B38.95244%2C%20-77.0964%5D%2C%20%5B43.187067%2C%20-83.768719%5D%2C%20%5B33.84818%2C%20-84.36772%5D%2C%20%5B29.96458%2C%20-95.28466%5D%2C%20%5B38.55033%2C%20-121.47382%5D%2C%20%5B39.38711%2C%20-76.52724%5D%2C%20%5B35.86349%2C%20-86.83168%5D%2C%20%5B40.19159%2C%20-74.59207%5D%2C%20%5B33.34356%2C%20-111.89334%5D%2C%20%5B41.223066%2C%20-111.94816%5D%2C%20%5B35.810135%2C%20-78.569001%5D%2C%20%5B36.140684%2C%20-86.732183%5D%2C%20%5B39.77154%2C%20-74.739%5D%2C%20%5B38.90837%2C%20-94.776295%5D%2C%20%5B34.02044%2C%20-117.33854%5D%2C%20%5B40.76444%2C%20-111.97243%5D%2C%20%5B32.442546%2C%20-93.739822%5D%2C%20%5B44.9666%2C%20-93.27349%5D%2C%20%5B44.69723%2C%20-123.22055%5D%2C%20%5B30.490453%2C%20-91.164922%5D%2C%20%5B45.47833%2C%20-122.93267%5D%2C%20%5B45.712147%2C%20-121.545342%5D%2C%20%5B40.755114%2C%20-74.118484%5D%2C%20%5B43.90175%2C%20-75.96044%5D%2C%20%5B42.262603%2C%20-88.101924%5D%2C%20%5B34.65857%2C%20-80.653099%5D%2C%20%5B28.673188%2C%20-81.511533%5D%2C%20%5B40.862986%2C%20-78.167781%5D%2C%20%5B42.46629%2C%20-88.064159%5D%2C%20%5B38.253074%2C%20-104.292582%5D%2C%20%5B46.095215%2C%20-123.916408%5D%2C%20%5B38.31734%2C%20-85.5761%5D%2C%20%5B25.700111%2C%20-80.333988%5D%2C%20%5B39.796929%2C%20-105.048478%5D%2C%20%5B37.55947%2C%20-122.30193%5D%2C%20%5B33.88246%2C%20-117.58861%5D%2C%20%5B34.171247%2C%20-118.518025%5D%2C%20%5B38.1872%2C%20-122.175597%5D%2C%20%5B38.464889%2C%20-122.37563%5D%2C%20%5B39.26671%2C%20-76.56184%5D%2C%20%5B37.389446%2C%20-118.5009%5D%2C%20%5B38.841074%2C%20-121.015578%5D%2C%20%5B38.43245%2C%20-121.48886%5D%2C%20%5B34.01627%2C%20-117.34208%5D%2C%20%5B33.955237%2C%20-118.247417%5D%2C%20%5B37.751852%2C%20-122.403074%5D%2C%20%5B45.51288%2C%20-120.68344%5D%2C%20%5B40.63863%2C%20-112.04641%5D%2C%20%5B26.08358%2C%20-80.20217%5D%2C%20%5B45.51048%2C%20-122.66666%5D%2C%20%5B33.872169%2C%20-118.341596%5D%2C%20%5B34.895731%2C%20-118.91976%5D%2C%20%5B36.293356%2C%20-94.163815%5D%2C%20%5B38.322061%2C%20-81.56899%5D%2C%20%5B40.43584%2C%20-75.42442%5D%2C%20%5B42.52753%2C%20-82.90886%5D%2C%20%5B35.08148%2C%20-85.2054%5D%2C%20%5B37.871171%2C%20-122.507268%5D%2C%20%5B33.862774%2C%20-118.043436%5D%2C%20%5B28.127216%2C%20-81.9735%5D%2C%20%5B41.766282%2C%20-104.808408%5D%2C%20%5B35.058062%2C%20-80.812348%5D%2C%20%5B32.71333%2C%20-117.13344%5D%2C%20%5B39.04686%2C%20-76.008%5D%2C%20%5B40.748773%2C%20-77.868829%5D%2C%20%5B32.65764%2C%20-96.73594%5D%2C%20%5B32.694887%2C%20-117.094749%5D%2C%20%5B29.9466%2C%20-95.41623%5D%2C%20%5B33.917103%2C%20-118.104564%5D%2C%20%5B41.87963%2C%20-71.37799%5D%2C%20%5B41.41393%2C%20-87.32135%5D%2C%20%5B34.05057%2C%20-118.21411%5D%2C%20%5B26.02801%2C%20-80.16594%5D%2C%20%5B39.17019%2C%20-76.73134%5D%2C%20%5B42.32594%2C%20-88.14499%5D%2C%20%5B42.10235%2C%20-88.015543%5D%2C%20%5B28.48998%2C%20-81.50859%5D%2C%20%5B39.93323%2C%20-111.10733%5D%2C%20%5B36.077783%2C%20-86.731541%5D%2C%20%5B42.41135%2C%20-71.10363%5D%2C%20%5B33.49703%2C%20-117.14845%5D%2C%20%5B30.681495%2C%20-85.719421%5D%2C%20%5B43.05229%2C%20-76.14555%5D%2C%20%5B34.250755%2C%20-118.428634%5D%2C%20%5B33.824269%2C%20-118.235847%5D%2C%20%5B38.98413%2C%20-76.54495%5D%2C%20%5B40.70088%2C%20-73.994801%5D%2C%20%5B36.75902%2C%20-76.34022%5D%2C%20%5B45.104273%2C%20-93.395215%5D%2C%20%5B41.895539%2C%20-88.536577%5D%2C%20%5B25.83733%2C%20-80.32194%5D%2C%20%5B47.63753%2C%20-122.24027%5D%2C%20%5B25.919998%2C%20-80.212087%5D%2C%20%5B37.083763%2C%20-120.257937%5D%2C%20%5B39.096382%2C%20-94.58618%5D%2C%20%5B25.768453%2C%20-80.336301%5D%2C%20%5B37.38426%2C%20-121.97141%5D%2C%20%5B29.73079%2C%20-95.46084%5D%2C%20%5B34.48684%2C%20-118.61692%5D%2C%20%5B32.73289%2C%20-97.37135%5D%2C%20%5B26.318254%2C%20-80.116407%5D%2C%20%5B45.008506%2C%20-123.88337%5D%2C%20%5B36.83697%2C%20-76.1565%5D%2C%20%5B25.785313%2C%20-80.215021%5D%2C%20%5B29.433909%2C%20-98.497876%5D%2C%20%5B40.72786%2C%20-73.83293%5D%2C%20%5B29.374303%2C%20-98.514769%5D%2C%20%5B33.792689%2C%20-117.83081%5D%2C%20%5B37.120206%2C%20-76.513284%5D%2C%20%5B25.657094%2C%20-80.38783%5D%2C%20%5B40.32021%2C%20-83.12502%5D%2C%20%5B28.39951%2C%20-82.65984%5D%2C%20%5B37.607312%2C%20-120.974851%5D%2C%20%5B42.383212%2C%20-88.00418%5D%2C%20%5B42.25828%2C%20-122.78893%5D%2C%20%5B32.499977%2C%20-93.732099%5D%2C%20%5B28.59781%2C%20-81.41692%5D%2C%20%5B33.87078%2C%20-118.05648%5D%2C%20%5B37.60477%2C%20-122.384013%5D%2C%20%5B42.076591%2C%20-80.203133%5D%2C%20%5B36.187981%2C%20-86.821585%5D%2C%20%5B37.99803%2C%20-84.526648%5D%2C%20%5B39.05654%2C%20-84.54283%5D%2C%20%5B38.660856%2C%20-102.785886%5D%2C%20%5B33.878153%2C%20-117.88046%5D%2C%20%5B30.4854%2C%20-91.16619%5D%2C%20%5B39.152466%2C%20-122.165679%5D%2C%20%5B38.526359%2C%20-77.364467%5D%2C%20%5B42.422065%2C%20-123.027568%5D%2C%20%5B40.15472%2C%20-75.1217%5D%2C%20%5B33.652165%2C%20-117.74088%5D%2C%20%5B45.03564%2C%20-93.19032%5D%2C%20%5B33.458723%2C%20-117.656031%5D%2C%20%5B41.81069%2C%20-87.94907%5D%2C%20%5B34.032355%2C%20-117.326757%5D%2C%20%5B34.119747%2C%20-117.868205%5D%2C%20%5B38.680612%2C%20-77.231418%5D%2C%20%5B28.445674%2C%20-81.474148%5D%2C%20%5B36.769094%2C%20-119.783019%5D%2C%20%5B33.8245%2C%20-118.299186%5D%2C%20%5B44.289943%2C%20-121.416719%5D%2C%20%5B35.77976%2C%20-78.6207%5D%2C%20%5B39.54426%2C%20-76.83764%5D%2C%20%5B34.818698%2C%20-82.2768%5D%2C%20%5B30.320857%2C%20-81.718382%5D%2C%20%5B43.14372%2C%20-77.57059%5D%2C%20%5B29.4344%2C%20-98.49737%5D%2C%20%5B42.102449%2C%20-88.33524%5D%2C%20%5B32.7998%2C%20-86.579614%5D%2C%20%5B33.988419%2C%20-118.405107%5D%2C%20%5B40.18322%2C%20-76.191822%5D%2C%20%5B39.783104%2C%20-86.146075%5D%2C%20%5B35.441298%2C%20-119.084259%5D%2C%20%5B41.99345%2C%20-88.16271%5D%2C%20%5B25.808724%2C%20-80.260134%5D%2C%20%5B42.13184%2C%20-72.05303%5D%2C%20%5B41.85963%2C%20-87.91902%5D%2C%20%5B37.075048%2C%20-80.700534%5D%2C%20%5B25.8444%2C%20-80.20667%5D%2C%20%5B34.010308%2C%20-117.823429%5D%2C%20%5B37.27982%2C%20-121.86475%5D%2C%20%5B37.822897%2C%20-122.319036%5D%2C%20%5B34.004774%2C%20-117.411438%5D%2C%20%5B33.03947%2C%20-117.28347%5D%2C%20%5B37.803076%2C%20-122.456037%5D%2C%20%5B37.89157%2C%20-121.49153%5D%2C%20%5B33.960849%2C%20-117.313738%5D%2C%20%5B30.183402%2C%20-93.571404%5D%2C%20%5B34.166029%2C%20-118.623262%5D%2C%20%5B37.317134%2C%20-121.933554%5D%2C%20%5B43.324144%2C%20-124.206358%5D%2C%20%5B39.415909%2C%20-77.437101%5D%2C%20%5B40.63938%2C%20-74.88001%5D%2C%20%5B45.105209%2C%20-122.888527%5D%2C%20%5B34.500471%2C%20-118.228069%5D%2C%20%5B33.45913%2C%20-84.208327%5D%2C%20%5B38.971523%2C%20-123.027584%5D%2C%20%5B38.27347%2C%20-122.67195%5D%2C%20%5B39.99624%2C%20-104.98279%5D%2C%20%5B30.36732%2C%20-85.43828%5D%2C%20%5B32.76767%2C%20-117.16242%5D%2C%20%5B33.59585%2C%20-111.87851%5D%2C%20%5B39.268409%2C%20-76.560083%5D%2C%20%5B40.25119%2C%20-111.69541%5D%2C%20%5B43.01535%2C%20-76.01555%5D%2C%20%5B44.12367%2C%20-121.28537%5D%2C%20%5B39.62951%2C%20-104.90471%5D%2C%20%5B40.7913%2C%20-111.91583%5D%2C%20%5B33.084228%2C%20-117.298008%5D%2C%20%5B33.1941%2C%20-117.25885%5D%2C%20%5B37.31486%2C%20-121.91093%5D%2C%20%5B34.11593%2C%20-118.26887%5D%2C%20%5B41.83163%2C%20-72.6653%5D%2C%20%5B38.85629%2C%20-77.37775%5D%2C%20%5B38.101369%2C%20-121.214979%5D%2C%20%5B27.867124%2C%20-82.627099%5D%2C%20%5B35.115134%2C%20-81.064181%5D%2C%20%5B47.60415%2C%20-122.32806%5D%2C%20%5B41.87402%2C%20-87.73034%5D%2C%20%5B45.11049%2C%20-92.7821%5D%2C%20%5B45.40658%2C%20-94.04743%5D%2C%20%5B40.849429%2C%20-73.940505%5D%2C%20%5B33.70927%2C%20-117.18731%5D%2C%20%5B36.04%2C%20-86.74349%5D%2C%20%5B36.40199%2C%20-82.61483%5D%2C%20%5B38.959619%2C%20-77.095798%5D%2C%20%5B34.175307%2C%20-86.717063%5D%2C%20%5B33.502321%2C%20-112.142935%5D%2C%20%5B33.652165%2C%20-117.74088%5D%2C%20%5B30.478571%2C%20-81.640164%5D%2C%20%5B33.94583%2C%20-118.09412%5D%2C%20%5B42.77252%2C%20-123.30043%5D%2C%20%5B33.614681%2C%20-117.707783%5D%2C%20%5B36.089838%2C%20-115.18055%5D%2C%20%5B33.767713%2C%20-118.032571%5D%2C%20%5B44.884512%2C%20-124.029324%5D%2C%20%5B44.530195%2C%20-92.522651%5D%2C%20%5B26.89902%2C%20-82.00631%5D%2C%20%5B45.52743%2C%20-122.60851%5D%2C%20%5B41.84241%2C%20-87.65785%5D%2C%20%5B38.559364%2C%20-121.513986%5D%2C%20%5B40.139926%2C%20-79.588102%5D%2C%20%5B41.821596%2C%20-71.42035%5D%2C%20%5B42.23726%2C%20-88.11249%5D%2C%20%5B38.76527%2C%20-104.77908%5D%2C%20%5B48.935911%2C%20-122.663292%5D%2C%20%5B34.245362%2C%20-118.423881%5D%2C%20%5B38.00271%2C%20-87.60001%5D%2C%20%5B38.23375%2C%20-85.75081%5D%2C%20%5B28.14964%2C%20-82.697583%5D%2C%20%5B33.653972%2C%20-117.771766%5D%2C%20%5B36.773774%2C%20-76.254758%5D%2C%20%5B41.44746%2C%20-75.68985%5D%2C%20%5B25.536486%2C%20-80.411061%5D%2C%20%5B41.83684%2C%20-71.51807%5D%2C%20%5B42.01185%2C%20-87.7541%5D%2C%20%5B25.701173%2C%20-80.161347%5D%2C%20%5B29.983502%2C%20-95.769678%5D%2C%20%5B45.171891%2C%20-112.697846%5D%2C%20%5B38.662465%2C%20-77.275954%5D%2C%20%5B45.632192%2C%20-121.953956%5D%2C%20%5B34.299383%2C%20-118.419336%5D%2C%20%5B44.964714%2C%20-93.228887%5D%2C%20%5B40.407031%2C%20-123.188942%5D%2C%20%5B34.15453%2C%20-118.157604%5D%2C%20%5B42.45066%2C%20-88.296512%5D%2C%20%5B37.57721%2C%20-112.8675%5D%2C%20%5B28.34569%2C%20-81.38237%5D%2C%20%5B33.72042%2C%20-117.72032%5D%2C%20%5B33.34936%2C%20-117.2443%5D%2C%20%5B38.978794%2C%20-94.711364%5D%2C%20%5B41.761313%2C%20-87.94511%5D%2C%20%5B40.070956%2C%20-76.324112%5D%2C%20%5B45.51577%2C%20-122.69894%5D%2C%20%5B36.08505%2C%20-79.76827%5D%2C%20%5B28.498901%2C%20-81.31012%5D%2C%20%5B34.771%2C%20-118.80365%5D%2C%20%5B33.467549%2C%20-112.110509%5D%2C%20%5B40.75782%2C%20-84.80803%5D%2C%20%5B32.94895%2C%20-96.82331%5D%2C%20%5B40.68933%2C%20-73.63589%5D%2C%20%5B45.59554%2C%20-118.614187%5D%2C%20%5B37.73174%2C%20-122.40434%5D%2C%20%5B30.25894%2C%20-81.51801%5D%2C%20%5B45.06866%2C%20-93.26333%5D%2C%20%5B36.17208%2C%20-86.50858%5D%2C%20%5B28.157317%2C%20-82.483961%5D%2C%20%5B35.341075%2C%20-80.768789%5D%2C%20%5B36.65018%2C%20-76.85139%5D%2C%20%5B41.03212%2C%20-78.00507%5D%2C%20%5B34.01801%2C%20-118.052852%5D%2C%20%5B38.22259%2C%20-122.25325%5D%2C%20%5B41.106795%2C%20-112.006913%5D%2C%20%5B28.06587%2C%20-82.45461%5D%2C%20%5B39.210658%2C%20-76.740565%5D%2C%20%5B40.78364%2C%20-73.54291%5D%2C%20%5B37.980061%2C%20-122.065556%5D%2C%20%5B25.86639%2C%20-80.20825%5D%2C%20%5B45.667432%2C%20-120.845395%5D%2C%20%5B32.669159%2C%20-97.311851%5D%2C%20%5B37.54318%2C%20-77.4528%5D%2C%20%5B37.966279%2C%20-122.30681%5D%2C%20%5B34.211869%2C%20-118.227863%5D%2C%20%5B40.860861%2C%20-74.120044%5D%2C%20%5B35.639671%2C%20-78.84645%5D%2C%20%5B43.944218%2C%20-124.104142%5D%2C%20%5B45.5063%2C%20-122.68217%5D%2C%20%5B38.754132%2C%20-121.264053%5D%2C%20%5B39.309693%2C%20-76.74507%5D%2C%20%5B33.918895%2C%20-117.434546%5D%2C%20%5B28.515325%2C%20-81.593538%5D%2C%20%5B37.47409%2C%20-77.46878%5D%2C%20%5B40.065855%2C%20-75.459755%5D%2C%20%5B29.847886%2C%20-95.362494%5D%2C%20%5B40.07027%2C%20-76.30132%5D%2C%20%5B34.780319%2C%20-82.275071%5D%2C%20%5B36.84483%2C%20-76.26818%5D%2C%20%5B25.768505%2C%20-80.366887%5D%2C%20%5B42.01434%2C%20-88.14467%5D%2C%20%5B44.1817%2C%20-92.77982%5D%2C%20%5B34.192055%2C%20-118.474382%5D%2C%20%5B25.686733%2C%20-80.375577%5D%2C%20%5B33.912704%2C%20-118.180194%5D%2C%20%5B33.87546%2C%20-118.06384%5D%2C%20%5B38.416054%2C%20-121.229765%5D%2C%20%5B40.538533%2C%20-112.017991%5D%2C%20%5B39.024541%2C%20-77.14198%5D%2C%20%5B36.488235%2C%20-93.928116%5D%2C%20%5B28.577307%2C%20-81.451406%5D%2C%20%5B39.920389%2C%20-79.137639%5D%2C%20%5B34.035394%2C%20-118.268618%5D%2C%20%5B37.34003%2C%20-121.85114%5D%2C%20%5B32.85995%2C%20-96.77017%5D%2C%20%5B47.044391%2C%20-122.844327%5D%2C%20%5B34.149839%2C%20-118.696341%5D%2C%20%5B34.010413%2C%20-117.82347%5D%2C%20%5B44.064155%2C%20-123.100565%5D%2C%20%5B40.574557%2C%20-111.89999%5D%2C%20%5B32.65764%2C%20-96.73594%5D%2C%20%5B33.76006%2C%20-117.86267%5D%2C%20%5B44.97019%2C%20-93.40071%5D%2C%20%5B25.733269%2C%20-80.331645%5D%2C%20%5B29.974113%2C%20-90.048781%5D%2C%20%5B44.96601%2C%20-93.46014%5D%2C%20%5B33.174707%2C%20-117.349375%5D%2C%20%5B33.653573%2C%20-117.395664%5D%2C%20%5B35.41083%2C%20-80.84294%5D%2C%20%5B42.3666%2C%20-83.06244%5D%2C%20%5B42.86521%2C%20-71.3383%5D%2C%20%5B33.995408%2C%20-117.96823%5D%2C%20%5B29.77284%2C%20-95.563162%5D%2C%20%5B33.941413%2C%20-117.555459%5D%2C%20%5B36.87463%2C%20-76.19738%5D%2C%20%5B35.65717%2C%20-118.32279%5D%2C%20%5B33.96469%2C%20-118.16889%5D%2C%20%5B36.446389%2C%20-121.359722%5D%2C%20%5B33.75609%2C%20-84.23243%5D%2C%20%5B34.055799%2C%20-117.783439%5D%2C%20%5B45.33993%2C%20-93.00469%5D%2C%20%5B30.442581%2C%20-91.102078%5D%2C%20%5B42.597109%2C%20-73.369273%5D%2C%20%5B39.11661%2C%20-94.38558%5D%2C%20%5B25.828331%2C%20-80.206171%5D%2C%20%5B41.891033%2C%20-87.94008%5D%2C%20%5B41.173152%2C%20-112.014597%5D%2C%20%5B48.07127%2C%20-122.18495%5D%2C%20%5B41.16062%2C%20-81.46923%5D%2C%20%5B45.0426%2C%20-93.10247%5D%2C%20%5B36.743193%2C%20-78.843591%5D%2C%20%5B25.640571%2C%20-80.335564%5D%2C%20%5B39.050157%2C%20-94.499045%5D%2C%20%5B39.012082%2C%20-77.063678%5D%2C%20%5B41.10353%2C%20-73.43138%5D%2C%20%5B41.06229%2C%20-81.51027%5D%2C%20%5B36.762241%2C%20-119.775658%5D%2C%20%5B28.038628%2C%20-80.543911%5D%2C%20%5B45.58097%2C%20-122.10517%5D%2C%20%5B33.913252%2C%20-118.141923%5D%2C%20%5B44.89507%2C%20-93.35015%5D%2C%20%5B34.11593%2C%20-118.26887%5D%2C%20%5B40.00163%2C%20-75.584781%5D%2C%20%5B40.728977%2C%20-74.031815%5D%2C%20%5B40.54199%2C%20-74.29784%5D%2C%20%5B40.838725%2C%20-73.933248%5D%2C%20%5B33.385981%2C%20-111.810661%5D%2C%20%5B36.735607%2C%20-121.716267%5D%2C%20%5B29.792497%2C%20-95.569839%5D%2C%20%5B38.647507%2C%20-121.360803%5D%2C%20%5B25.88019%2C%20-80.20895%5D%2C%20%5B36.268326%2C%20-86.756131%5D%2C%20%5B25.878561%2C%20-80.355235%5D%2C%20%5B36.326137%2C%20-119.134916%5D%2C%20%5B33.43677%2C%20-112.10826%5D%2C%20%5B44.09441%2C%20-94.41934%5D%2C%20%5B33.90505%2C%20-118.37054%5D%2C%20%5B34.173774%2C%20-80.062206%5D%2C%20%5B25.818883%2C%20-80.20625%5D%2C%20%5B40.68459%2C%20-73.64304%5D%2C%20%5B42.4647%2C%20-87.881564%5D%2C%20%5B36.760371%2C%20-76.272057%5D%2C%20%5B36.04642%2C%20-95.86849%5D%2C%20%5B33.4445%2C%20-112.55661%5D%2C%20%5B37.38859%2C%20-121.86752%5D%2C%20%5B33.43791%2C%20-111.96098%5D%2C%20%5B25.686005%2C%20-80.399607%5D%2C%20%5B40.03598%2C%20-83.12479%5D%2C%20%5B35.5656%2C%20-97.63842%5D%2C%20%5B34.17715%2C%20-118.468424%5D%2C%20%5B33.784016%2C%20-84.304864%5D%2C%20%5B40.10444%2C%20-76.425623%5D%2C%20%5B41.83192%2C%20-88.04438%5D%2C%20%5B39.25867%2C%20-84.33427%5D%2C%20%5B26.79878%2C%20-81.76039%5D%2C%20%5B45.241032%2C%20-93.663059%5D%2C%20%5B41.994251%2C%20-74.157111%5D%2C%20%5B37.69977%2C%20-121.78907%5D%2C%20%5B40.78731%2C%20-74.46915%5D%2C%20%5B39.86761%2C%20-84.100631%5D%2C%20%5B44.00924%2C%20-123.60466%5D%2C%20%5B41.60085%2C%20-72.67173%5D%2C%20%5B40.084303%2C%20-76.352565%5D%2C%20%5B41.60827%2C%20-72.90091%5D%2C%20%5B33.49428%2C%20-112.23771%5D%2C%20%5B34.029734%2C%20-117.579124%5D%2C%20%5B39.091099%2C%20-84.52259%5D%2C%20%5B34.76543%2C%20-118.79889%5D%2C%20%5B32.772806%2C%20-117.128924%5D%2C%20%5B25.848933%2C%20-80.207841%5D%2C%20%5B39.838332%2C%20-104.98351%5D%2C%20%5B37.645693%2C%20-120.460761%5D%2C%20%5B37.990102%2C%20-122.528841%5D%2C%20%5B40.73681%2C%20-111.90444%5D%2C%20%5B26.59208%2C%20-81.67894%5D%2C%20%5B43.04733%2C%20-122.352296%5D%2C%20%5B38.69026%2C%20-121.38298%5D%2C%20%5B34.05949%2C%20-118.00138%5D%2C%20%5B34.13967%2C%20-80.96472%5D%2C%20%5B43.18735%2C%20-123.37121%5D%2C%20%5B40.62061%2C%20-111.897868%5D%2C%20%5B45.579539%2C%20-122.370411%5D%2C%20%5B34.987604%2C%20-85.497847%5D%2C%20%5B45.16475%2C%20-120.6897%5D%2C%20%5B33.935929%2C%20-117.664209%5D%2C%20%5B34.01485%2C%20-118.485916%5D%2C%20%5B38.888286%2C%20-77.113991%5D%2C%20%5B30.263701%2C%20-81.608026%5D%2C%20%5B38.850391%2C%20-76.961289%5D%2C%20%5B44.796205%2C%20-123.033303%5D%2C%20%5B38.529528%2C%20-121.518102%5D%2C%20%5B30.45511%2C%20-91.18066%5D%2C%20%5B44.082137%2C%20-123.103319%5D%2C%20%5B39.301689%2C%20-120.918091%5D%2C%20%5B34.1204%2C%20-117.74032%5D%2C%20%5B44.390307%2C%20-121.189462%5D%2C%20%5B33.52023%2C%20-86.855%5D%2C%20%5B34.918056%2C%20-118.923889%5D%2C%20%5B30.38214%2C%20-83.306871%5D%2C%20%5B39.143037%2C%20-121.070565%5D%2C%20%5B41.7404%2C%20-87.6251%5D%2C%20%5B32.95215%2C%20-117.10351%5D%2C%20%5B40.663398%2C%20-74.182977%5D%2C%20%5B43.636912%2C%20-95.304132%5D%2C%20%5B28.369875%2C%20-81.309605%5D%2C%20%5B35.100063%2C%20-118.28987%5D%2C%20%5B35.077782%2C%20-97.33556%5D%2C%20%5B39.6583%2C%20-105.18233%5D%2C%20%5B34.23274%2C%20-118.47299%5D%2C%20%5B37.4132%2C%20-120.755399%5D%2C%20%5B37.333583%2C%20-119.649125%5D%2C%20%5B32.785018%2C%20-96.768367%5D%2C%20%5B45.350135%2C%20-122.631583%5D%2C%20%5B37.925224%2C%20-121.733186%5D%2C%20%5B41.33702%2C%20-96.03703%5D%2C%20%5B34.092218%2C%20-117.301956%5D%2C%20%5B42.99119%2C%20-83.50694%5D%2C%20%5B40.64105%2C%20-111.90326%5D%2C%20%5B44.81603%2C%20-93.17413%5D%2C%20%5B33.48731%2C%20-86.70939%5D%2C%20%5B33.58246%2C%20-111.8739%5D%2C%20%5B35.151315%2C%20-119.465193%5D%2C%20%5B45.2653%2C%20-123.02244%5D%2C%20%5B38.579141%2C%20-121.560624%5D%2C%20%5B42.747136%2C%20-71.491926%5D%2C%20%5B40.70587%2C%20-73.8181%5D%2C%20%5B35.00621%2C%20-85.231901%5D%2C%20%5B29.970499%2C%20-90.067731%5D%2C%20%5B34.096945%2C%20-83.812008%5D%2C%20%5B33.921513%2C%20-117.288694%5D%2C%20%5B45.51254%2C%20-122.7897%5D%2C%20%5B35.282054%2C%20-82.398887%5D%2C%20%5B42.83027%2C%20-86.14287%5D%2C%20%5B30.472237%2C%20-91.163814%5D%2C%20%5B34.185561%2C%20-118.317558%5D%2C%20%5B33.74561%2C%20-84.38951%5D%2C%20%5B39.051898%2C%20-77.115715%5D%2C%20%5B34.0957%2C%20-117.471214%5D%2C%20%5B34.24689%2C%20-118.4249%5D%2C%20%5B26.114341%2C%20-80.168577%5D%2C%20%5B43.021802%2C%20-123.300018%5D%2C%20%5B45.79074%2C%20-93.65391%5D%2C%20%5B39.82395%2C%20-86.20636%5D%2C%20%5B30.345329%2C%20-81.668322%5D%2C%20%5B33.73042%2C%20-117.290266%5D%2C%20%5B30.440078%2C%20-97.697843%5D%2C%20%5B45.40424%2C%20-122.7446%5D%2C%20%5B25.78834%2C%20-80.20831%5D%2C%20%5B25.521883%2C%20-80.401594%5D%2C%20%5B33.552539%2C%20-117.1403%5D%2C%20%5B39.746493%2C%20-121.878225%5D%2C%20%5B35.34993%2C%20-80.7253%5D%2C%20%5B40.809798%2C%20-76.866534%5D%2C%20%5B38.196684%2C%20-90.400925%5D%2C%20%5B35.45337%2C%20-97.48929%5D%2C%20%5B32.27196%2C%20-110.97822%5D%2C%20%5B41.232228%2C%20-95.856031%5D%2C%20%5B41.32829%2C%20-110.45464%5D%2C%20%5B40.20344%2C%20-76.80594%5D%2C%20%5B29.70212%2C%20-95.29549%5D%2C%20%5B37.672969%2C%20-122.474389%5D%2C%20%5B40.96747%2C%20-75.62986%5D%2C%20%5B34.842269%2C%20-78.114987%5D%2C%20%5B36.758727%2C%20-76.349887%5D%2C%20%5B40.384246%2C%20-80.043783%5D%2C%20%5B47.002472%2C%20-113.371547%5D%2C%20%5B33.092553%2C%20-117.082983%5D%2C%20%5B37.9922%2C%20-122.03975%5D%2C%20%5B39.773611%2C%20-104.842577%5D%2C%20%5B44.369639%2C%20-93.776596%5D%2C%20%5B32.622282%2C%20-117.093083%5D%2C%20%5B34.077736%2C%20-117.296348%5D%2C%20%5B35.75662%2C%20-78.6176%5D%2C%20%5B26.461127%2C%20-81.434272%5D%2C%20%5B39.95933%2C%20-75.17341%5D%2C%20%5B31.76848%2C%20-106.26085%5D%2C%20%5B36.89232%2C%20-89.53349%5D%2C%20%5B40.79227%2C%20-74.05536%5D%2C%20%5B33.49683%2C%20-86.81547%5D%2C%20%5B38.510338%2C%20-121.460052%5D%2C%20%5B28.032275%2C%20-82.738086%5D%2C%20%5B30.28915%2C%20-97.677261%5D%2C%20%5B40.03861%2C%20-75.248955%5D%2C%20%5B41.386259%2C%20-73.600019%5D%2C%20%5B39.91732%2C%20-83.01227%5D%2C%20%5B34.56117%2C%20-118.13291%5D%2C%20%5B32.267779%2C%20-107.778421%5D%2C%20%5B39.01374%2C%20-77.05084%5D%2C%20%5B35.07907%2C%20-106.63726%5D%2C%20%5B41.038898%2C%20-81.940214%5D%2C%20%5B33.742033%2C%20-117.836873%5D%2C%20%5B26.3124%2C%20-80.11719%5D%2C%20%5B34.14849%2C%20-118.37269%5D%2C%20%5B43.139%2C%20-77.53874%5D%2C%20%5B37.702259%2C%20-122.393769%5D%2C%20%5B34.143594%2C%20-118.278139%5D%2C%20%5B41.017882%2C%20-73.725547%5D%2C%20%5B40.9749%2C%20-117.73871%5D%2C%20%5B39.60539%2C%20-77.7258%5D%2C%20%5B38.25346%2C%20-122.39353%5D%2C%20%5B28.87614%2C%20-81.28299%5D%2C%20%5B38.049889%2C%20-122.75895%5D%2C%20%5B41.80275%2C%20-71.40383%5D%2C%20%5B30.42836%2C%20-91.1712%5D%2C%20%5B35.058062%2C%20-80.812348%5D%2C%20%5B44.945192%2C%20-123.040102%5D%2C%20%5B44.9517%2C%20-93.05735%5D%2C%20%5B41.38946%2C%20-82.16137%5D%2C%20%5B37.52%2C%20-121.98297%5D%2C%20%5B34.07078%2C%20-117.95731%5D%2C%20%5B40.15192%2C%20-80.2027%5D%2C%20%5B37.635381%2C%20-122.087246%5D%2C%20%5B25.629535%2C%20-80.316938%5D%2C%20%5B35.26127%2C%20-80.8369%5D%2C%20%5B34.06402%2C%20-117.81204%5D%2C%20%5B26.67946%2C%20-80.1673%5D%2C%20%5B38.517728%2C%20-121.450133%5D%2C%20%5B25.874851%2C%20-80.388067%5D%2C%20%5B28.5058%2C%20-81.421977%5D%2C%20%5B44.784%2C%20-93.03461%5D%2C%20%5B38.59517%2C%20-121.4443%5D%2C%20%5B34.109679%2C%20-84.036063%5D%2C%20%5B34.02888%2C%20-118.00291%5D%2C%20%5B44.63136%2C%20-122.89048%5D%2C%20%5B37.36759%2C%20-120.650212%5D%2C%20%5B44.36639%2C%20-123.0614%5D%2C%20%5B40.71978%2C%20-111.84915%5D%2C%20%5B38.21912%2C%20-122.140302%5D%2C%20%5B35.18917%2C%20-80.882541%5D%2C%20%5B35.61152%2C%20-119.64954%5D%2C%20%5B25.92723%2C%20-80.21816%5D%2C%20%5B33.87631%2C%20-118.09107%5D%2C%20%5B37.12835%2C%20-80.36949%5D%2C%20%5B42.471%2C%20-95.14105%5D%2C%20%5B39.14165%2C%20-121.716605%5D%2C%20%5B45.51393%2C%20-122.79399%5D%2C%20%5B33.776142%2C%20-84.616595%5D%2C%20%5B42.731196%2C%20-123.369958%5D%2C%20%5B38.86831%2C%20-78.52959%5D%2C%20%5B27.998665%2C%20-82.31882%5D%2C%20%5B44.722882%2C%20-93.281752%5D%2C%20%5B31.882978%2C%20-106.440385%5D%2C%20%5B36.15443%2C%20-86.76102%5D%2C%20%5B25.476258%2C%20-80.465474%5D%2C%20%5B25.89509%2C%20-80.20942%5D%2C%20%5B38.55615%2C%20-121.44319%5D%2C%20%5B43.067347%2C%20-123.351172%5D%2C%20%5B41.87173%2C%20-87.75%5D%2C%20%5B40.77884%2C%20-73.82647%5D%2C%20%5B34.020048%2C%20-118.190924%5D%2C%20%5B41.55264%2C%20-81.60032%5D%2C%20%5B34.70559%2C%20-82.50061%5D%2C%20%5B40.50613%2C%20-80.031677%5D%2C%20%5B32.23541%2C%20-110.80686%5D%2C%20%5B37.69592%2C%20-122.10489%5D%2C%20%5B33.298692%2C%20-117.464688%5D%2C%20%5B33.92679%2C%20-118.17798%5D%2C%20%5B42.34061%2C%20-79.58071%5D%2C%20%5B42.946543%2C%20-85.646418%5D%2C%20%5B33.891825%2C%20-117.55579%5D%2C%20%5B43.02957%2C%20-76.06199%5D%2C%20%5B37.779474%2C%20-121.315183%5D%2C%20%5B41.650296%2C%20-72.85739%5D%2C%20%5B41.249891%2C%20-73.81134%5D%2C%20%5B34.051362%2C%20-118.213909%5D%2C%20%5B43.094169%2C%20-73.751256%5D%2C%20%5B34.118567%2C%20-117.865458%5D%2C%20%5B41.42143%2C%20-81.70478%5D%2C%20%5B29.968869%2C%20-90.052061%5D%2C%20%5B37.385453%2C%20-76.76278%5D%2C%20%5B40.641997%2C%20-74.206857%5D%2C%20%5B39.279438%2C%20-121.098979%5D%2C%20%5B32.875984%2C%20-96.684316%5D%2C%20%5B36.440867%2C%20-121.921859%5D%2C%20%5B40.6657%2C%20-111.86485%5D%2C%20%5B45.67874%2C%20-118.8642%5D%2C%20%5B33.042508%2C%20-92.354003%5D%2C%20%5B38.20811%2C%20-85.55911%5D%2C%20%5B42.41797%2C%20-83.21895%5D%2C%20%5B41.90561%2C%20-87.66119%5D%2C%20%5B37.746444%2C%20-113.034939%5D%2C%20%5B39.06601%2C%20-74.83089%5D%2C%20%5B33.924324%2C%20-117.65538%5D%2C%20%5B34.70261%2C%20-89.96527%5D%2C%20%5B37.701068%2C%20-121.844097%5D%2C%20%5B41.885208%2C%20-87.646097%5D%2C%20%5B45.833147%2C%20-119.619923%5D%2C%20%5B38.941979%2C%20-121.097097%5D%2C%20%5B40.6792%2C%20-75.33748%5D%2C%20%5B45.70037%2C%20-120.34728%5D%2C%20%5B48.280194%2C%20-114.368527%5D%2C%20%5B42.62275%2C%20-85.9685%5D%2C%20%5B30.43053%2C%20-82.909666%5D%2C%20%5B25.759372%2C%20-80.306585%5D%2C%20%5B38.21003%2C%20-122.138453%5D%2C%20%5B34.368279%2C%20-118.501606%5D%2C%20%5B44.96999%2C%20-93.31213%5D%2C%20%5B34.117087%2C%20-117.846318%5D%2C%20%5B47.64341%2C%20-122.30838%5D%2C%20%5B45.069168%2C%20-93.279901%5D%2C%20%5B26.714821%2C%20-80.085062%5D%2C%20%5B37.75227%2C%20-121.46729%5D%2C%20%5B40.02308%2C%20-75.0348%5D%2C%20%5B40.77116%2C%20-112.041276%5D%2C%20%5B34.068503%2C%20-118.587279%5D%2C%20%5B41.74307%2C%20-87.66325%5D%2C%20%5B40.33757%2C%20-75.96742%5D%2C%20%5B41.41776%2C%20-72.49196%5D%2C%20%5B44.96258%2C%20-91.42586%5D%2C%20%5B29.71413%2C%20-95.381738%5D%2C%20%5B30.360995%2C%20-87.359034%5D%2C%20%5B42.1393%2C%20-75.90196%5D%2C%20%5B47.862611%2C%20-121.982854%5D%2C%20%5B33.975573%2C%20-117.697101%5D%2C%20%5B25.925966%2C%20-80.159375%5D%2C%20%5B42.083873%2C%20-121.680354%5D%2C%20%5B40.720857%2C%20-80.311635%5D%2C%20%5B33.996453%2C%20-117.864532%5D%2C%20%5B38.52955%2C%20-121.47292%5D%2C%20%5B45.50703%2C%20-122.77962%5D%2C%20%5B34.161111%2C%20-118.469612%5D%2C%20%5B40.669018%2C%20-73.934873%5D%2C%20%5B37.9996%2C%20-121.82153%5D%2C%20%5B39.25408%2C%20-76.68575%5D%2C%20%5B39.98935%2C%20-75.20638%5D%2C%20%5B37.443436%2C%20-77.342763%5D%2C%20%5B34.718911%2C%20-118.112334%5D%2C%20%5B34.03093%2C%20-117.328346%5D%2C%20%5B34.25597%2C%20-118.32609%5D%2C%20%5B33.94082%2C%20-117.29141%5D%2C%20%5B34.1611%2C%20-118.469614%5D%2C%20%5B39.80255%2C%20-75.450548%5D%2C%20%5B38.768753%2C%20-90.523923%5D%2C%20%5B27.909197%2C%20-82.778861%5D%2C%20%5B32.84211%2C%20-96.59082%5D%2C%20%5B27.487456%2C%20-82.562793%5D%2C%20%5B37.05249%2C%20-122.07322%5D%2C%20%5B40.783086%2C%20-124.183547%5D%2C%20%5B41.26327%2C%20-96.13481%5D%2C%20%5B30.25852%2C%20-97.72866%5D%2C%20%5B46.23506%2C%20-123.87196%5D%2C%20%5B33.916421%2C%20-118.28603%5D%2C%20%5B38.93032%2C%20-77.11179%5D%2C%20%5B35.908033%2C%20-78.593985%5D%2C%20%5B39.477662%2C%20-77.353566%5D%2C%20%5B40.70955%2C%20-73.40216%5D%2C%20%5B39.32495%2C%20-77.01131%5D%2C%20%5B33.61922%2C%20-84.48619%5D%2C%20%5B32.428873%2C%20-82.478695%5D%2C%20%5B43.992208%2C%20-121.335057%5D%2C%20%5B30.397304%2C%20-97.6427%5D%2C%20%5B34.072303%2C%20-118.08179%5D%2C%20%5B34.055331%2C%20-118.219102%5D%2C%20%5B25.6861%2C%20-80.39591%5D%2C%20%5B45.45484%2C%20-92.99099%5D%2C%20%5B33.59537%2C%20-112.25511%5D%2C%20%5B37.772062%2C%20-122.224812%5D%2C%20%5B35.009912%2C%20-85.220192%5D%2C%20%5B32.802669%2C%20-96.830838%5D%2C%20%5B35.849876%2C%20-78.580654%5D%2C%20%5B47.463744%2C%20-92.507658%5D%2C%20%5B33.985751%2C%20-118.169163%5D%2C%20%5B40.847092%2C%20-73.933364%5D%2C%20%5B38.596657%2C%20-121.279319%5D%2C%20%5B40.77488%2C%20-73.98073%5D%2C%20%5B40.68661%2C%20-73.7148%5D%2C%20%5B32.82633%2C%20-96.78401%5D%2C%20%5B34.026792%2C%20-118.209771%5D%2C%20%5B39.855892%2C%20-83.00313%5D%2C%20%5B40.845337%2C%20-73.928064%5D%2C%20%5B42.78318%2C%20-86.07191%5D%2C%20%5B35.202802%2C%20-85.153118%5D%2C%20%5B34.082353%2C%20-117.54495%5D%2C%20%5B35.136299%2C%20-80.909091%5D%2C%20%5B34.08209%2C%20-118.70453%5D%2C%20%5B37.8774%2C%20-122.1842%5D%2C%20%5B38.941587%2C%20-76.911667%5D%2C%20%5B32.11892%2C%20-110.77259%5D%2C%20%5B41.42434%2C%20-81.57898%5D%2C%20%5B39.56613%2C%20-104.98866%5D%2C%20%5B32.760564%2C%20-117.196275%5D%2C%20%5B33.967291%2C%20-80.953284%5D%2C%20%5B42.4651%2C%20-88.43985%5D%2C%20%5B38.74894%2C%20-77.08294%5D%2C%20%5B36.107114%2C%20-86.719797%5D%2C%20%5B42.8661%2C%20-85.68396%5D%2C%20%5B39.395305%2C%20-76.522921%5D%2C%20%5B32.78736%2C%20-96.81273%5D%2C%20%5B33.494988%2C%20-112.095679%5D%2C%20%5B33.898912%2C%20-117.5597%5D%2C%20%5B38.559364%2C%20-121.513986%5D%2C%20%5B40.556701%2C%20-75.99869%5D%2C%20%5B37.57601%2C%20-77.46281%5D%2C%20%5B30.350743%2C%20-97.709044%5D%2C%20%5B26.162513%2C%20-80.16214%5D%2C%20%5B25.769469%2C%20-80.338069%5D%2C%20%5B37.8222%2C%20-122.26004%5D%2C%20%5B38.023313%2C%20-122.538755%5D%2C%20%5B25.45605%2C%20-80.47174%5D%2C%20%5B37.517468%2C%20-77.209216%5D%2C%20%5B33.670664%2C%20-112.113102%5D%2C%20%5B25.861545%2C%20-80.231036%5D%2C%20%5B28.57991%2C%20-81.37501%5D%2C%20%5B35.16338%2C%20-80.75322%5D%2C%20%5B43.116429%2C%20-83.697578%5D%2C%20%5B27.79198%2C%20-82.33479%5D%2C%20%5B41.71448%2C%20-87.64769%5D%2C%20%5B34.498419%2C%20-117.748178%5D%2C%20%5B25.84573%2C%20-80.32247%5D%2C%20%5B37.57285%2C%20-122.31631%5D%2C%20%5B34.00453%2C%20-117.40026%5D%2C%20%5B25.92467%2C%20-80.2946%5D%2C%20%5B26.60825%2C%20-81.651465%5D%2C%20%5B36.544255%2C%20-119.592799%5D%2C%20%5B43.175877%2C%20-77.573869%5D%2C%20%5B38.971912%2C%20-122.831712%5D%2C%20%5B47.604068%2C%20-122.327129%5D%2C%20%5B36.605705%2C%20-117.147613%5D%2C%20%5B40.59297%2C%20-73.90811%5D%2C%20%5B38.87554%2C%20-77.280396%5D%2C%20%5B32.786775%2C%20-96.812564%5D%2C%20%5B33.84732%2C%20-84.48658%5D%2C%20%5B27.471597%2C%20-82.563153%5D%2C%20%5B29.71907%2C%20-95.32185%5D%2C%20%5B33.67822%2C%20-112.11276%5D%2C%20%5B37.724232%2C%20-78.851705%5D%2C%20%5B40.726122%2C%20-73.377683%5D%2C%20%5B35.91362%2C%20-78.68177%5D%2C%20%5B35.11547%2C%20-80.92557%5D%2C%20%5B39.311235%2C%20-76.50247%5D%2C%20%5B40.189514%2C%20-77.179746%5D%2C%20%5B26.70159%2C%20-81.760158%5D%2C%20%5B28.451467%2C%20-81.10014%5D%2C%20%5B34.033344%2C%20-118.180973%5D%2C%20%5B44.866271%2C%20-122.798454%5D%2C%20%5B25.627192%2C%20-80.38222%5D%2C%20%5B26.533881%2C%20-80.073605%5D%2C%20%5B42.67815%2C%20-121.85669%5D%2C%20%5B37.52942%2C%20-77.48538%5D%2C%20%5B28.57842%2C%20-82.37666%5D%2C%20%5B45.41785%2C%20-122.43422%5D%2C%20%5B25.963195%2C%20-80.162834%5D%2C%20%5B33.462429%2C%20-112.128281%5D%2C%20%5B39.322997%2C%20-76.529999%5D%2C%20%5B42.269275%2C%20-87.909286%5D%2C%20%5B33.917026%2C%20-118.103421%5D%2C%20%5B34.428782%2C%20-119.29449%5D%2C%20%5B33.44906%2C%20-111.85103%5D%2C%20%5B33.870805%2C%20-117.740212%5D%2C%20%5B33.08798%2C%20-117.30068%5D%2C%20%5B35.100063%2C%20-118.28987%5D%2C%20%5B34.34365%2C%20-119.41744%5D%2C%20%5B38.81461%2C%20-121.19172%5D%2C%20%5B37.73222%2C%20-122.41524%5D%2C%20%5B32.654694%2C%20-96.866244%5D%2C%20%5B35.65152%2C%20-117.80068%5D%2C%20%5B41.68003%2C%20-72.5418%5D%2C%20%5B42.979893%2C%20-76.798568%5D%2C%20%5B37.704725%2C%20-122.073957%5D%2C%20%5B32.766478%2C%20-117.149842%5D%2C%20%5B25.812367%2C%20-80.225719%5D%2C%20%5B38.91892%2C%20-77.21669%5D%2C%20%5B38.6855%2C%20-121.53141%5D%2C%20%5B43.03154%2C%20-76.2121%5D%2C%20%5B33.865231%2C%20-118.048243%5D%2C%20%5B40.43651%2C%20-79.96238%5D%2C%20%5B37.632136%2C%20-122.489438%5D%2C%20%5B33.46213%2C%20-112.05922%5D%2C%20%5B40.18378%2C%20-111.64671%5D%2C%20%5B30.457636%2C%20-91.172834%5D%2C%20%5B34.014515%2C%20-117.266645%5D%2C%20%5B32.836556%2C%20-96.767584%5D%2C%20%5B34.067407%2C%20-117.532424%5D%2C%20%5B37.47577%2C%20-120.853568%5D%2C%20%5B45.394575%2C%20-122.497286%5D%2C%20%5B27.936367%2C%20-82.310249%5D%2C%20%5B34.602194%2C%20-118.076374%5D%2C%20%5B42.35285%2C%20-71.05621%5D%2C%20%5B34.29995%2C%20-83.40284%5D%2C%20%5B40.34114%2C%20-74.93903%5D%2C%20%5B45.506647%2C%20-122.771669%5D%2C%20%5B48.37826%2C%20-114.33551%5D%2C%20%5B40.11182%2C%20-83.00827%5D%2C%20%5B41.42368%2C%20-73.35788%5D%2C%20%5B29.964617%2C%20-90.032678%5D%2C%20%5B33.92729%2C%20-118.26005%5D%2C%20%5B43.15714%2C%20-77.6064%5D%2C%20%5B42.492161%2C%20-83.304409%5D%2C%20%5B37.617307%2C%20-122.398599%5D%2C%20%5B34.891301%2C%20-82.158647%5D%2C%20%5B37.974247%2C%20-112.741612%5D%2C%20%5B38.91215%2C%20-76.93404%5D%2C%20%5B38.879488%2C%20-77.032495%5D%2C%20%5B26.70816%2C%20-80.15195%5D%2C%20%5B36.11373%2C%20-80.14505%5D%2C%20%5B40.4333%2C%20-74.24882%5D%2C%20%5B33.920577%2C%20-118.082588%5D%2C%20%5B33.584185%2C%20-85.92228%5D%2C%20%5B37.32709%2C%20-121.88048%5D%2C%20%5B47.66462%2C%20-122.18693%5D%2C%20%5B42.66751%2C%20-71.196%5D%2C%20%5B35.39146%2C%20-97.547654%5D%2C%20%5B33.79947%2C%20-118.08427%5D%2C%20%5B35.050936%2C%20-80.769605%5D%2C%20%5B25.899914%2C%20-80.161341%5D%2C%20%5B40.003328%2C%20-75.702339%5D%2C%20%5B35.442222%2C%20-118.791944%5D%2C%20%5B25.81569%2C%20-80.313523%5D%2C%20%5B33.46257%2C%20-112.12931%5D%2C%20%5B32.384199%2C%20-93.763366%5D%2C%20%5B35.20118%2C%20-80.78668%5D%2C%20%5B40.846059%2C%20-73.930479%5D%2C%20%5B36.636732%2C%20-121.559804%5D%2C%20%5B41.66644%2C%20-71.50176%5D%2C%20%5B34.26878%2C%20-118.95583%5D%2C%20%5B35.748505%2C%20-78.701818%5D%2C%20%5B42.383363%2C%20-120.996869%5D%2C%20%5B34.04051%2C%20-118.22144%5D%2C%20%5B34.14904%2C%20-118.04553%5D%2C%20%5B35.13629%2C%20-80.71488%5D%2C%20%5B42.33662%2C%20-88.02901%5D%2C%20%5B33.75609%2C%20-84.23243%5D%2C%20%5B40.0049%2C%20-76.62108%5D%2C%20%5B43.16958%2C%20-87.91579%5D%2C%20%5B40.817252%2C%20-73.930889%5D%2C%20%5B30.479052%2C%20-91.136651%5D%2C%20%5B32.83662%2C%20-97.14093%5D%2C%20%5B37.549852%2C%20-76.420175%5D%2C%20%5B37.766317%2C%20-122.405257%5D%2C%20%5B41.525341%2C%20-90.51364%5D%2C%20%5B37.322855%2C%20-122.049869%5D%2C%20%5B38.744232%2C%20-121.205172%5D%2C%20%5B33.016383%2C%20-117.079398%5D%2C%20%5B26.20755%2C%20-80.13985%5D%2C%20%5B39.70505%2C%20-76.64317%5D%2C%20%5B34.065932%2C%20-117.48231%5D%2C%20%5B33.17239%2C%20-84.53726%5D%2C%20%5B26.043573%2C%20-80.163127%5D%2C%20%5B35.383307%2C%20-120.630068%5D%2C%20%5B38.87201%2C%20-77.292413%5D%2C%20%5B38.57649%2C%20-121.52437%5D%2C%20%5B43.03614%2C%20-89.453%5D%2C%20%5B45.51829%2C%20-122.6658%5D%2C%20%5B38.889055%2C%20-77.418464%5D%2C%20%5B45.5347%2C%20-122.47726%5D%2C%20%5B26.07682%2C%20-80.16863%5D%2C%20%5B34.141281%2C%20-118.733603%5D%2C%20%5B32.298098%2C%20-109.356783%5D%2C%20%5B36.8045%2C%20-119.78506%5D%2C%20%5B45.10097%2C%20-93.2999%5D%2C%20%5B39.4091%2C%20-76.57917%5D%2C%20%5B37.218431%2C%20-76.605168%5D%2C%20%5B38.816732%2C%20-121.189187%5D%2C%20%5B38.54239%2C%20-122.80531%5D%2C%20%5B40.73098%2C%20-73.87383%5D%2C%20%5B25.794267%2C%20-80.31294%5D%2C%20%5B42.74011%2C%20-83.472608%5D%2C%20%5B40.96204%2C%20-74.09285%5D%2C%20%5B34.07145%2C%20-117.86819%5D%2C%20%5B33.94734%2C%20-118.27971%5D%2C%20%5B34.07647%2C%20-118.27849%5D%2C%20%5B37.445329%2C%20-122.226838%5D%2C%20%5B41.03074%2C%20-111.94755%5D%2C%20%5B43.173851%2C%20-77.652806%5D%2C%20%5B39.3134%2C%20-76.57292%5D%2C%20%5B44.640004%2C%20-123.935576%5D%2C%20%5B33.928691%2C%20-118.229788%5D%2C%20%5B40.71902%2C%20-73.94596%5D%2C%20%5B41.5923%2C%20-93.777871%5D%2C%20%5B39.26416%2C%20-76.58933%5D%2C%20%5B42.52988%2C%20-83.75407%5D%2C%20%5B40.833468%2C%20-111.91573%5D%2C%20%5B38.34052%2C%20-121.3342%5D%2C%20%5B37.54933%2C%20-122.2925%5D%2C%20%5B29.76957%2C%20-95.26513%5D%2C%20%5B33.9237%2C%20-118.10439%5D%2C%20%5B30.36519%2C%20-90.09363%5D%2C%20%5B41.08537%2C%20-73.45946%5D%2C%20%5B41.71675%2C%20-71.47452%5D%2C%20%5B41.67579%2C%20-83.5782%5D%2C%20%5B33.876516%2C%20-118.131268%5D%2C%20%5B33.872132%2C%20-117.686929%5D%2C%20%5B33.949675%2C%20-118.170308%5D%2C%20%5B37.316435%2C%20-121.9683%5D%2C%20%5B40.80296%2C%20-74.18576%5D%2C%20%5B40.84887%2C%20-74.1781%5D%2C%20%5B32.92048%2C%20-96.7504%5D%2C%20%5B41.769581%2C%20-72.665373%5D%2C%20%5B38.784148%2C%20-121.279075%5D%2C%20%5B42.10517%2C%20-84.2479%5D%2C%20%5B42.024109%2C%20-121.552393%5D%2C%20%5B30.294754%2C%20-97.719664%5D%2C%20%5B44.952197%2C%20-93.147333%5D%2C%20%5B40.347365%2C%20-111.765149%5D%2C%20%5B37.830694%2C%20-121.28863%5D%2C%20%5B40.73098%2C%20-73.87383%5D%2C%20%5B40.6659%2C%20-73.99604%5D%2C%20%5B36.141299%2C%20-86.731852%5D%2C%20%5B33.169683%2C%20-117.21898%5D%2C%20%5B33.79165%2C%20-118.08809%5D%2C%20%5B36.967123%2C%20-76.296145%5D%2C%20%5B39.48975%2C%20-80.08496%5D%2C%20%5B42.32871%2C%20-83.15735%5D%2C%20%5B38.47478%2C%20-121.386239%5D%2C%20%5B39.00989%2C%20-78.36773%5D%2C%20%5B34.135476%2C%20-117.965344%5D%2C%20%5B39.62131%2C%20-77.78943%5D%2C%20%5B38.805888%2C%20-76.991811%5D%2C%20%5B41.690185%2C%20-87.599261%5D%2C%20%5B36.134601%2C%20-86.894506%5D%2C%20%5B32.764191%2C%20-117.127894%5D%2C%20%5B34.20221%2C%20-118.34031%5D%2C%20%5B38.860756%2C%20-77.384144%5D%2C%20%5B26.671532%2C%20-80.070515%5D%2C%20%5B39.105257%2C%20-122.95867%5D%2C%20%5B33.937823%2C%20-117.556138%5D%2C%20%5B47.49715%2C%20-122.291042%5D%2C%20%5B31.77307%2C%20-106.47181%5D%2C%20%5B41.970625%2C%20-87.747406%5D%2C%20%5B38.11806%2C%20-85.67725%5D%2C%20%5B45.119242%2C%20-122.912818%5D%2C%20%5B45.350616%2C%20-118.030086%5D%2C%20%5B38.385251%2C%20-121.350036%5D%2C%20%5B29.81405%2C%20-95.36061%5D%2C%20%5B29.992815%2C%20-90.048869%5D%2C%20%5B33.089927%2C%20-83.191216%5D%2C%20%5B45.0735%2C%20-122.9597%5D%2C%20%5B41.24637%2C%20-73.08812%5D%2C%20%5B36.75018%2C%20-119.625074%5D%2C%20%5B42.552913%2C%20-79.105843%5D%2C%20%5B39.982497%2C%20-75.338484%5D%2C%20%5B34.072502%2C%20-117.936083%5D%2C%20%5B37.32121%2C%20-121.89976%5D%2C%20%5B39.00479%2C%20-94.78436%5D%2C%20%5B38.367194%2C%20-120.795865%5D%2C%20%5B32.261026%2C%20-110.98894%5D%2C%20%5B34.042975%2C%20-118.217073%5D%2C%20%5B30.294247%2C%20-97.824145%5D%2C%20%5B34.16467%2C%20-116.91029%5D%2C%20%5B44.54135%2C%20-95.14917%5D%2C%20%5B34.168119%2C%20-118.588152%5D%2C%20%5B25.6906%2C%20-80.31722%5D%2C%20%5B34.03443%2C%20-118.10674%5D%2C%20%5B34.30577%2C%20-118.48217%5D%2C%20%5B33.72029%2C%20-84.50253%5D%2C%20%5B39.394617%2C%20-120.025139%5D%2C%20%5B42.46492%2C%20-87.903412%5D%2C%20%5B47.14687%2C%20-122.50519%5D%2C%20%5B25.81761%2C%20-80.38669%5D%2C%20%5B25.900553%2C%20-80.209267%5D%2C%20%5B40.529778%2C%20-78.365669%5D%2C%20%5B27.258973%2C%20-82.4791%5D%2C%20%5B25.807496%2C%20-80.205763%5D%2C%20%5B33.651875%2C%20-117.761084%5D%2C%20%5B34.03049%2C%20-117.59341%5D%2C%20%5B33.801967%2C%20-118.114654%5D%2C%20%5B34.527365%2C%20-114.349593%5D%2C%20%5B33.94864%2C%20-84.13776%5D%2C%20%5B29.83158%2C%20-95.38293%5D%2C%20%5B34.01664%2C%20-117.09609%5D%2C%20%5B37.3609%2C%20-79.96092%5D%2C%20%5B38.9713%2C%20-75.56689%5D%2C%20%5B27.93776%2C%20-82.120593%5D%2C%20%5B34.26609%2C%20-118.47207%5D%2C%20%5B28.83274%2C%20-81.32245%5D%2C%20%5B41.84483%2C%20-87.91937%5D%2C%20%5B35.765338%2C%20-78.58221%5D%2C%20%5B44.55579%2C%20-123.06099%5D%2C%20%5B39.988242%2C%20-75.207274%5D%2C%20%5B45.18759%2C%20-122.84318%5D%2C%20%5B26.152793%2C%20-80.21941%5D%2C%20%5B38.701569%2C%20-121.316202%5D%2C%20%5B33.917104%2C%20-118.22724%5D%2C%20%5B33.59213%2C%20-117.24189%5D%2C%20%5B33.457552%2C%20-86.802916%5D%2C%20%5B33.990933%2C%20-117.934521%5D%2C%20%5B44.88046%2C%20-93.58547%5D%2C%20%5B33.652893%2C%20-81.159685%5D%2C%20%5B36.327806%2C%20-119.583059%5D%2C%20%5B39.887658%2C%20-75.551988%5D%2C%20%5B35.217263%2C%20-84.863154%5D%2C%20%5B39.27808%2C%20-77.32362%5D%2C%20%5B40.68951%2C%20-73.63593%5D%2C%20%5B33.778613%2C%20-117.883912%5D%2C%20%5B40.53626%2C%20-75.73487%5D%2C%20%5B34.03217%2C%20-117.13603%5D%2C%20%5B34.13398%2C%20-117.23104%5D%2C%20%5B36.451897%2C%20-121.367401%5D%2C%20%5B34.06935%2C%20-117.79795%5D%2C%20%5B40.6634%2C%20-74.19868%5D%2C%20%5B25.685253%2C%20-80.421571%5D%2C%20%5B44.050509%2C%20-123.534802%5D%2C%20%5B44.14818%2C%20-121.26729%5D%2C%20%5B33.13849%2C%20-117.14055%5D%2C%20%5B45.60619%2C%20-122.55203%5D%2C%20%5B33.914033%2C%20-117.443488%5D%2C%20%5B39.24811%2C%20-84.44608%5D%2C%20%5B41.90906%2C%20-87.92896%5D%2C%20%5B34.420231%2C%20-117.385576%5D%2C%20%5B39.77289%2C%20-104.834%5D%2C%20%5B34.18882%2C%20-80.68851%5D%2C%20%5B41.941297%2C%20-87.712194%5D%2C%20%5B44.963082%2C%20-92.958143%5D%2C%20%5B45.2765%2C%20-94.94297%5D%2C%20%5B37.78742%2C%20-122.2481%5D%2C%20%5B38.93513%2C%20-94.71675%5D%2C%20%5B27.855952%2C%20-82.346874%5D%2C%20%5B42.381938%2C%20-83.396669%5D%2C%20%5B39.26274%2C%20-94.44811%5D%2C%20%5B38.692059%2C%20-121.336605%5D%2C%20%5B45.274532%2C%20-122.773862%5D%2C%20%5B38.004788%2C%20-121.841329%5D%2C%20%5B42.88855%2C%20-78.88794%5D%2C%20%5B42.687569%2C%20-73.809276%5D%2C%20%5B42.38084%2C%20-83.03227%5D%2C%20%5B39.198457%2C%20-76.632202%5D%2C%20%5B33.88631%2C%20-84.26678%5D%2C%20%5B34.22494%2C%20-118.47327%5D%2C%20%5B35.252863%2C%20-80.808166%5D%2C%20%5B40.58615%2C%20-73.93679%5D%2C%20%5B37.681126%2C%20-122.471761%5D%2C%20%5B40.229992%2C%20-75.6281%5D%2C%20%5B44.77789%2C%20-93.5053%5D%2C%20%5B39.517563%2C%20-121.591591%5D%2C%20%5B29.773159%2C%20-95.366675%5D%2C%20%5B37.378128%2C%20-122.067512%5D%2C%20%5B45.467312%2C%20-122.566%5D%2C%20%5B33.129995%2C%20-117.116743%5D%2C%20%5B32.490848%2C%20-93.76568%5D%2C%20%5B47.606345%2C%20-122.334705%5D%2C%20%5B44.963082%2C%20-92.958143%5D%2C%20%5B34.023531%2C%20-117.811449%5D%2C%20%5B40.56206%2C%20-111.898786%5D%2C%20%5B29.736001%2C%20-95.500823%5D%2C%20%5B40.42444%2C%20-111.88373%5D%2C%20%5B36.156647%2C%20-86.768685%5D%2C%20%5B34.420093%2C%20-82.278236%5D%2C%20%5B26.710339%2C%20-80.07888%5D%2C%20%5B33.183506%2C%20-117.290049%5D%2C%20%5B37.649745%2C%20-122.452448%5D%2C%20%5B39.988077%2C%20-75.589681%5D%2C%20%5B37.802802%2C%20-77.472634%5D%2C%20%5B39.335254%2C%20-121.115406%5D%2C%20%5B37.467575%2C%20-122.152845%5D%2C%20%5B37.35148%2C%20-121.86333%5D%2C%20%5B40.01377%2C%20-75.72332%5D%2C%20%5B35.2583%2C%20-80.73614%5D%2C%20%5B34.079408%2C%20-118.227214%5D%2C%20%5B32.87391%2C%20-96.52407%5D%2C%20%5B41.96635%2C%20-87.75287%5D%2C%20%5B42.912641%2C%20-85.626609%5D%2C%20%5B38.574394%2C%20-121.577427%5D%2C%20%5B40.74048%2C%20-111.947041%5D%2C%20%5B29.92528%2C%20-90.02134%5D%2C%20%5B32.81183%2C%20-96.70132%5D%2C%20%5B38.21751%2C%20-85.4123%5D%2C%20%5B38.492667%2C%20-121.442232%5D%2C%20%5B33.5769%2C%20-111.8897%5D%2C%20%5B35.242599%2C%20-81.024925%5D%2C%20%5B38.383703%2C%20-122.810934%5D%2C%20%5B33.592019%2C%20-81.233611%5D%2C%20%5B25.68763%2C%20-80.34869%5D%2C%20%5B43.04147%2C%20-88.03302%5D%2C%20%5B44.269265%2C%20-121.221477%5D%2C%20%5B27.960934%2C%20-82.799537%5D%2C%20%5B42.14091%2C%20-75.901136%5D%2C%20%5B45.573527%2C%20-122.196736%5D%2C%20%5B40.862789%2C%20-73.906234%5D%2C%20%5B34.221364%2C%20-118.473097%5D%2C%20%5B41.98316%2C%20-87.69515%5D%2C%20%5B28.215136%2C%20-82.370549%5D%2C%20%5B33.81998%2C%20-117.9203%5D%2C%20%5B40.09899%2C%20-83.14312%5D%2C%20%5B34.956881%2C%20-120.508447%5D%2C%20%5B31.42845%2C%20-83.51456%5D%2C%20%5B25.928603%2C%20-80.209304%5D%2C%20%5B38.2514%2C%20-121.291602%5D%2C%20%5B37.360767%2C%20-122.170127%5D%2C%20%5B33.491782%2C%20-81.700397%5D%2C%20%5B39.992068%2C%20-85.830122%5D%2C%20%5B30.61054%2C%20-90.970354%5D%2C%20%5B41.050946%2C%20-73.81203%5D%2C%20%5B32.77669%2C%20-117.13566%5D%2C%20%5B35.799426%2C%20-78.562793%5D%2C%20%5B37.6898%2C%20-122.09825%5D%2C%20%5B38.18595%2C%20-121.40255%5D%2C%20%5B37.37063%2C%20-121.91264%5D%2C%20%5B29.218112%2C%20-82.057902%5D%2C%20%5B34.21911%2C%20-117.41037%5D%2C%20%5B38.77895%2C%20-76.9237%5D%2C%20%5B45.51549%2C%20-122.69966%5D%2C%20%5B35.116787%2C%20-80.923371%5D%2C%20%5B39.05296%2C%20-94.4971%5D%2C%20%5B42.91265%2C%20-85.62804%5D%2C%20%5B33.66577%2C%20-117.8793%5D%2C%20%5B42.41799%2C%20-83.42428%5D%2C%20%5B44.17099%2C%20-93.8958%5D%2C%20%5B36.964606%2C%20-76.413227%5D%2C%20%5B47.206609%2C%20-122.46152%5D%2C%20%5B30.239793%2C%20-81.58459%5D%2C%20%5B25.80545%2C%20-80.32104%5D%2C%20%5B45.07568%2C%20-93.05278%5D%2C%20%5B40.840476%2C%20-73.825441%5D%2C%20%5B33.85424%2C%20-117.93745%5D%2C%20%5B39.94221%2C%20-75.10569%5D%2C%20%5B43.65596%2C%20-123.87081%5D%2C%20%5B35.688024%2C%20-78.847535%5D%2C%20%5B25.68586%2C%20-80.40342%5D%2C%20%5B40.68725%2C%20-73.61726%5D%2C%20%5B44.93053%2C%20-93.397854%5D%2C%20%5B32.77923%2C%20-117.0695%5D%2C%20%5B32.241643%2C%20-110.886217%5D%2C%20%5B29.042859%2C%20-82.15277%5D%2C%20%5B33.871878%2C%20-117.701052%5D%2C%20%5B29.68089%2C%20-95.37319%5D%2C%20%5B25.845667%2C%20-80.250772%5D%2C%20%5B36.673409%2C%20-121.640636%5D%2C%20%5B34.12107%2C%20-117.9032%5D%2C%20%5B43.60037%2C%20-72.16718%5D%2C%20%5B34.012187%2C%20-118.418328%5D%2C%20%5B33.974652%2C%20-118.283783%5D%2C%20%5B34.21683%2C%20-118.237%5D%2C%20%5B25.69891%2C%20-80.382179%5D%2C%20%5B30.488957%2C%20-91.156855%5D%2C%20%5B28.390925%2C%20-81.39138%5D%2C%20%5B25.854356%2C%20-80.323012%5D%2C%20%5B29.7792%2C%20-95.4455%5D%2C%20%5B37.609398%2C%20-120.979967%5D%2C%20%5B37.7862%2C%20-122.39069%5D%2C%20%5B39.247409%2C%20-76.575651%5D%2C%20%5B40.72378%2C%20-111.51477%5D%2C%20%5B38.343268%2C%20-121.335751%5D%2C%20%5B34.03585%2C%20-118.34951%5D%2C%20%5B33.978768%2C%20-118.391939%5D%2C%20%5B32.924062%2C%20-96.777588%5D%2C%20%5B27.8643%2C%20-82.63872%5D%2C%20%5B34.00412%2C%20-117.40524%5D%2C%20%5B47.66462%2C%20-122.18693%5D%2C%20%5B40.764912%2C%20-111.991647%5D%2C%20%5B36.118%2C%20-86.76895%5D%2C%20%5B44.05996%2C%20-121.30721%5D%2C%20%5B42.79243%2C%20-73.7621%5D%2C%20%5B40.847934%2C%20-73.935634%5D%2C%20%5B32.870807%2C%20-96.864788%5D%2C%20%5B43.386479%2C%20-123.343509%5D%2C%20%5B32.65107%2C%20-96.87031%5D%2C%20%5B38.245731%2C%20-122.625509%5D%2C%20%5B32.874137%2C%20-80.718638%5D%2C%20%5B43.6691%2C%20-70.25901%5D%2C%20%5B38.520144%2C%20-121.470606%5D%2C%20%5B25.80021%2C%20-80.38594%5D%2C%20%5B41.42559%2C%20-81.76632%5D%2C%20%5B29.99686%2C%20-90.14328%5D%2C%20%5B30.176613%2C%20-97.835229%5D%2C%20%5B40.60273%2C%20-112.39978%5D%2C%20%5B39.16169%2C%20-84.55911%5D%2C%20%5B34.587279%2C%20-92.2682%5D%2C%20%5B34.22158%2C%20-118.3597%5D%2C%20%5B28.67311%2C%20-81.47633%5D%2C%20%5B42.034643%2C%20-87.96013%5D%2C%20%5B35.89353%2C%20-78.85534%5D%2C%20%5B29.904516%2C%20-90.065649%5D%2C%20%5B39.23995%2C%20-76.61107%5D%2C%20%5B35.22607%2C%20-80.83573%5D%2C%20%5B42.844693%2C%20-71.307924%5D%2C%20%5B29.896609%2C%20-95.54948%5D%2C%20%5B34.8957%2C%20-82.155321%5D%2C%20%5B35.197507%2C%20-78.675719%5D%2C%20%5B44.93141%2C%20-93.13639%5D%2C%20%5B38.96924%2C%20-77.62295%5D%2C%20%5B43.744592%2C%20-122.467224%5D%2C%20%5B33.62169%2C%20-84.45899%5D%2C%20%5B34.030719%2C%20-117.588096%5D%2C%20%5B32.87091%2C%20-96.53052%5D%2C%20%5B40.671957%2C%20-73.998597%5D%2C%20%5B33.24707%2C%20-117.22796%5D%2C%20%5B38.721955%2C%20-120.833751%5D%2C%20%5B29.7247%2C%20-95.49035%5D%2C%20%5B33.92851%2C%20-118.23917%5D%2C%20%5B30.369347%2C%20-84.295961%5D%2C%20%5B41.29123%2C%20-73.8502%5D%2C%20%5B40.776918%2C%20-73.827549%5D%2C%20%5B34.021271%2C%20-118.196132%5D%2C%20%5B43.473031%2C%20-124.223927%5D%2C%20%5B39.05907%2C%20-77.04771%5D%2C%20%5B44.86266%2C%20-93.14519%5D%2C%20%5B36.052419%2C%20-90.396326%5D%2C%20%5B35.966239%2C%20-78.517656%5D%2C%20%5B33.43561%2C%20-112.42684%5D%2C%20%5B35.10973%2C%20-111.02524%5D%2C%20%5B34.57173%2C%20-112.27592%5D%2C%20%5B39.25626%2C%20-94.55421%5D%2C%20%5B44.31387%2C%20-93.96595%5D%2C%20%5B34.092792%2C%20-118.37631%5D%2C%20%5B25.81232%2C%20-80.21872%5D%2C%20%5B44.037715%2C%20-116.996217%5D%2C%20%5B39.3236%2C%20-74.61725%5D%2C%20%5B42.41546%2C%20-88.10684%5D%2C%20%5B41.1379%2C%20-74.57167%5D%2C%20%5B33.87698%2C%20-118.14665%5D%2C%20%5B40.76444%2C%20-111.97565%5D%2C%20%5B32.10679%2C%20-81.23758%5D%2C%20%5B43.96787%2C%20-123.01246%5D%2C%20%5B36.76251%2C%20-76.26774%5D%2C%20%5B38.294063%2C%20-121.314107%5D%2C%20%5B38.648841%2C%20-121.393681%5D%2C%20%5B29.72523%2C%20-95.46022%5D%2C%20%5B38.88982%2C%20-76.97897%5D%2C%20%5B44.77511%2C%20-93.28838%5D%2C%20%5B33.876719%2C%20-118.187766%5D%2C%20%5B43.14223%2C%20-77.64337%5D%2C%20%5B36.28769%2C%20-81.33336%5D%2C%20%5B35.815378%2C%20-78.602953%5D%2C%20%5B33.89957%2C%20-117.55836%5D%2C%20%5B44.564251%2C%20-123.249306%5D%2C%20%5B33.85907%2C%20-118.28964%5D%2C%20%5B33.72207%2C%20-112.119272%5D%2C%20%5B33.91759%2C%20-84.33747%5D%2C%20%5B34.09559%2C%20-118.2441%5D%2C%20%5B25.449638%2C%20-80.487289%5D%2C%20%5B42.41235%2C%20-83.21872%5D%2C%20%5B36.16331%2C%20-86.79355%5D%2C%20%5B33.397396%2C%20-84.621151%5D%2C%20%5B33.96744%2C%20-118.247683%5D%2C%20%5B44.77189%2C%20-93.28836%5D%2C%20%5B40.66577%2C%20-73.99354%5D%2C%20%5B37.11479%2C%20-121.62333%5D%2C%20%5B34.06191%2C%20-118.16527%5D%2C%20%5B34.06368%2C%20-118.1613%5D%2C%20%5B43.175373%2C%20-77.595141%5D%2C%20%5B32.679651%2C%20-117.086053%5D%2C%20%5B34.062504%2C%20-118.6489%5D%2C%20%5B38.520877%2C%20-122.978875%5D%2C%20%5B37.548776%2C%20-77.432978%5D%2C%20%5B39.101918%2C%20-121.634434%5D%2C%20%5B40.57271%2C%20-74.3298%5D%2C%20%5B28.482314%2C%20-81.446627%5D%2C%20%5B37.86535%2C%20-121.66726%5D%2C%20%5B29.87536%2C%20-82.54259%5D%2C%20%5B32.133937%2C%20-110.96261%5D%2C%20%5B32.90438%2C%20-96.76887%5D%2C%20%5B34.07205%2C%20-118.07608%5D%2C%20%5B35.82092%2C%20-78.59184%5D%2C%20%5B45.06703%2C%20-93.18548%5D%2C%20%5B42.1675%2C%20-91.77457%5D%2C%20%5B39.76824%2C%20-104.99434%5D%2C%20%5B33.92485%2C%20-118.33502%5D%2C%20%5B35.612204%2C%20-91.368761%5D%2C%20%5B29.74033%2C%20-95.365416%5D%2C%20%5B33.872534%2C%20-117.665006%5D%2C%20%5B39.827638%2C%20-123.590004%5D%2C%20%5B39.254075%2C%20-94.627357%5D%2C%20%5B35.819725%2C%20-78.624003%5D%2C%20%5B26.70584%2C%20-80.0617%5D%2C%20%5B43.17323%2C%20-123.36954%5D%2C%20%5B26.15555%2C%20-81.66906%5D%2C%20%5B33.641475%2C%20-117.382301%5D%2C%20%5B37.700362%2C%20-121.791865%5D%2C%20%5B30.462979%2C%20-97.668883%5D%2C%20%5B35.496227%2C%20-119.159603%5D%2C%20%5B40.68012%2C%20-111.93889%5D%2C%20%5B29.651618%2C%20-95.568232%5D%2C%20%5B27.11062%2C%20-82.34306%5D%2C%20%5B39.13815%2C%20-85.95793%5D%2C%20%5B30.252023%2C%20-81.763011%5D%2C%20%5B34.047561%2C%20-118.444215%5D%2C%20%5B44.9531%2C%20-93.09508%5D%2C%20%5B45.191048%2C%20-93.545976%5D%2C%20%5B37.867104%2C%20-122.203551%5D%2C%20%5B40.762734%2C%20-77.880802%5D%2C%20%5B39.49088%2C%20-122.19584%5D%2C%20%5B40.350948%2C%20-76.727796%5D%2C%20%5B38.24003%2C%20-122.26712%5D%2C%20%5B28.43837%2C%20-81.39907%5D%2C%20%5B38.96696%2C%20-94.72269%5D%2C%20%5B33.740811%2C%20-117.833808%5D%2C%20%5B35.252047%2C%20-80.654937%5D%2C%20%5B42.787531%2C%20-78.816422%5D%2C%20%5B27.852501%2C%20-82.72866%5D%2C%20%5B34.3348%2C%20-119.08598%5D%2C%20%5B38.38486%2C%20-122.71611%5D%2C%20%5B33.876705%2C%20-118.187816%5D%2C%20%5B35.61121%2C%20-82.57549%5D%2C%20%5B34.03265%2C%20-118.26385%5D%2C%20%5B33.62322%2C%20-84.48811%5D%2C%20%5B33.157027%2C%20-80.468365%5D%2C%20%5B25.67345%2C%20-80.335174%5D%2C%20%5B29.688861%2C%20-82.442921%5D%2C%20%5B37.438892%2C%20-122.206979%5D%2C%20%5B42.88105%2C%20-85.68155%5D%2C%20%5B42.304997%2C%20-87.959384%5D%2C%20%5B29.681488%2C%20-81.870667%5D%2C%20%5B37.364393%2C%20-121.826684%5D%2C%20%5B34.071325%2C%20-118.134484%5D%2C%20%5B45.49021%2C%20-122.67507%5D%2C%20%5B39.019136%2C%20-76.959084%5D%2C%20%5B46.17486%2C%20-123.50023%5D%2C%20%5B34.737658%2C%20-92.406512%5D%2C%20%5B28.482831%2C%20-81.444823%5D%2C%20%5B33.29318%2C%20-111.9518%5D%2C%20%5B35.26271%2C%20-80.87943%5D%2C%20%5B45.01017%2C%20-93.15817%5D%2C%20%5B38.284482%2C%20-85.915368%5D%2C%20%5B38.581628%2C%20-121.415314%5D%2C%20%5B33.862684%2C%20-118.284928%5D%2C%20%5B37.997653%2C%20-122.534858%5D%2C%20%5B34.127088%2C%20-118.474797%5D%2C%20%5B47.46304%2C%20-122.28719%5D%2C%20%5B34.09113%2C%20-118.23902%5D%2C%20%5B42.93259%2C%20-78.81312%5D%2C%20%5B29.95487%2C%20-95.54039%5D%2C%20%5B28.409967%2C%20-81.391374%5D%2C%20%5B41.71921%2C%20-72.79497%5D%2C%20%5B38.76649%2C%20-77.182744%5D%2C%20%5B38.41806%2C%20-82.242651%5D%2C%20%5B36.916449%2C%20-76.267194%5D%2C%20%5B41.81928%2C%20-71.38756%5D%2C%20%5B39.94386%2C%20-74.97963%5D%2C%20%5B36.865502%2C%20-76.432091%5D%2C%20%5B44.858583%2C%20-93.34466%5D%2C%20%5B42.25591%2C%20-123.62029%5D%2C%20%5B32.188817%2C%20-111.096538%5D%2C%20%5B35.616065%2C%20-119.691045%5D%2C%20%5B25.81155%2C%20-80.353377%5D%2C%20%5B26.14227%2C%20-80.21941%5D%2C%20%5B39.2589%2C%20-74.64477%5D%2C%20%5B36.825737%2C%20-121.424549%5D%2C%20%5B38.860254%2C%20-77.219886%5D%2C%20%5B30.419844%2C%20-91.084567%5D%2C%20%5B35.018071%2C%20-118.955197%5D%2C%20%5B25.621737%2C%20-80.378669%5D%2C%20%5B33.668879%2C%20-81.668683%5D%2C%20%5B25.748935%2C%20-80.335794%5D%2C%20%5B41.062548%2C%20-81.517873%5D%2C%20%5B25.770481%2C%20-80.305925%5D%2C%20%5B34.309433%2C%20-119.122383%5D%2C%20%5B38.98831%2C%20-76.5781%5D%2C%20%5B44.778851%2C%20-93.499149%5D%2C%20%5B38.061028%2C%20-112.694651%5D%2C%20%5B44.81879%2C%20-93.39842%5D%2C%20%5B30.288351%2C%20-81.989303%5D%2C%20%5B42.95283%2C%20-76.13846%5D%2C%20%5B33.87308%2C%20-118.20242%5D%2C%20%5B37.554494%2C%20-77.446131%5D%2C%20%5B32.433127%2C%20-93.818547%5D%2C%20%5B25.848931%2C%20-80.207738%5D%2C%20%5B42.865519%2C%20-121.83182%5D%2C%20%5B34.86123%2C%20-82.25353%5D%2C%20%5B42.998642%2C%20-124.416816%5D%2C%20%5B34.06544%2C%20-117.806725%5D%2C%20%5B41.00072%2C%20-111.90757%5D%2C%20%5B36.276507%2C%20-119.780863%5D%2C%20%5B40.74294%2C%20-73.82975%5D%2C%20%5B40.14322%2C%20-75.11588%5D%2C%20%5B34.068256%2C%20-118.036921%5D%2C%20%5B26.935%2C%20-82.01723%5D%2C%20%5B44.06928%2C%20-116.97992%5D%2C%20%5B33.185008%2C%20-117.285181%5D%2C%20%5B34.982421%2C%20-81.970083%5D%2C%20%5B36.26946%2C%20-86.73678%5D%2C%20%5B26.09254%2C%20-80.224217%5D%2C%20%5B40.923525%2C%20-73.860236%5D%2C%20%5B34.03345%2C%20-118.14574%5D%2C%20%5B43.05894%2C%20-123.33963%5D%2C%20%5B40.84508%2C%20-73.92126%5D%2C%20%5B39.022762%2C%20-75.68071%5D%2C%20%5B42.97686%2C%20-85.604339%5D%2C%20%5B44.145802%2C%20-93.788748%5D%2C%20%5B39.686704%2C%20-123.481978%5D%2C%20%5B40.82036%2C%20-73.89%5D%2C%20%5B43.853%2C%20-120.74664%5D%2C%20%5B40.954413%2C%20-87.444551%5D%2C%20%5B39.205528%2C%20-78.135894%5D%2C%20%5B43.08711%2C%20-77.58193%5D%2C%20%5B44.991841%2C%20-93.084861%5D%2C%20%5B29.418631%2C%20-98.502194%5D%2C%20%5B44.796205%2C%20-123.033303%5D%2C%20%5B47.15929%2C%20-122.43424%5D%2C%20%5B43.126584%2C%20-122.132338%5D%2C%20%5B25.92487%2C%20-80.30417%5D%2C%20%5B39.776688%2C%20-104.875799%5D%2C%20%5B42.98555%2C%20-83.73422%5D%2C%20%5B42.120447%2C%20-87.895522%5D%2C%20%5B41.34753%2C%20-72.86785%5D%2C%20%5B45.014516%2C%20-92.958465%5D%2C%20%5B36.72282%2C%20-121.79159%5D%2C%20%5B36.15313%2C%20-86.76452%5D%2C%20%5B37.54334%2C%20-122.02052%5D%2C%20%5B39.53261%2C%20-86.79777%5D%2C%20%5B33.51625%2C%20-86.824704%5D%2C%20%5B41.24231%2C%20-96.08565%5D%2C%20%5B33.854016%2C%20-117.928651%5D%2C%20%5B47.451936%2C%20-121.954067%5D%2C%20%5B40.89774%2C%20-73.79703%5D%2C%20%5B36.17711%2C%20-95.94029%5D%2C%20%5B29.854902%2C%20-95.395051%5D%2C%20%5B34.459613%2C%20-118.491813%5D%2C%20%5B39.01576%2C%20-77.00142%5D%2C%20%5B39.905983%2C%20-75.453544%5D%2C%20%5B33.93171%2C%20-117.55632%5D%2C%20%5B34.274741%2C%20-118.556538%5D%2C%20%5B35.025909%2C%20-85.276684%5D%2C%20%5B34.010308%2C%20-117.823429%5D%2C%20%5B42.30067%2C%20-71.80578%5D%2C%20%5B33.609908%2C%20-91.988903%5D%2C%20%5B35.067971%2C%20-85.226243%5D%2C%20%5B40.7183%2C%20-112.060052%5D%5D%2C%0A%20%20%20%20%20%20%20%20%20%20%20%20%20%20%20%20%7B%22blur%22%3A%2015%2C%20%22maxZoom%22%3A%2018%2C%20%22minOpacity%22%3A%200.5%2C%20%22radius%22%3A%2025%7D%0A%20%20%20%20%20%20%20%20%20%20%20%20%29.addTo%28map_fea652b0b9c843ca94fa7814b080a229%29%3B%0A%20%20%20%20%20%20%20%20%0A%3C/script%3E onload=\"this.contentDocument.open();this.contentDocument.write(    decodeURIComponent(this.getAttribute('data-html')));this.contentDocument.close();\" allowfullscreen webkitallowfullscreen mozallowfullscreen></iframe></div></div>"
      ],
      "text/plain": [
       "<folium.folium.Map at 0x1bd61653910>"
      ]
     },
     "execution_count": 135,
     "metadata": {},
     "output_type": "execute_result"
    }
   ],
   "source": [
    "map = folium.Map()\n",
    "HeatMap(lat_lon_pairs).add_to(map)\n",
    "map"
   ]
  },
  {
   "cell_type": "code",
   "execution_count": null,
   "id": "c1c09113",
   "metadata": {},
   "outputs": [],
   "source": []
  }
 ],
 "metadata": {
  "kernelspec": {
   "display_name": "Python 3",
   "language": "python",
   "name": "python3"
  },
  "language_info": {
   "codemirror_mode": {
    "name": "ipython",
    "version": 3
   },
   "file_extension": ".py",
   "mimetype": "text/x-python",
   "name": "python",
   "nbconvert_exporter": "python",
   "pygments_lexer": "ipython3",
   "version": "3.8.8"
  }
 },
 "nbformat": 4,
 "nbformat_minor": 5
}
